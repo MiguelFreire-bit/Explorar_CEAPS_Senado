{
 "cells": [
  {
   "cell_type": "markdown",
   "id": "13e75001",
   "metadata": {},
   "source": [
    "<h1 style='color: #00A78C; font-size: 34px; font-weight: bold;'>Exploração CEAPS Senado\n",
    "\n",
    "</h1>\n"
   ]
  },
  {
   "cell_type": "markdown",
   "id": "7798f308",
   "metadata": {},
   "source": [
    "# <font color=\"#FFA17A\" style=\"font-size: 30px;\">Objetivo</font>\n",
    "<hr style=\"border: 2px solid #FFA17A;\">"
   ]
  },
  {
   "cell_type": "markdown",
   "id": "bd28fdc2",
   "metadata": {},
   "source": [
    " <p style='font-size: 23px; line-height: 2; margin: 0px 0px; text-align: justify; text-indent: 0px;'>    \n",
    "<i><b>Explorar o CEAPS(Cota para Exercício da Atividade Parlamentar dos Senadores), aplicar processos de tratamento e limpeza de dados nele ( Data Wrangling). E buscar deixar os dados prontos para análises mais profundas e conhecer melhor os gastos dos senadores do Brasil.</b></i>     \n",
    "</p>\n",
    "\n",
    "---"
   ]
  },
  {
   "cell_type": "markdown",
   "id": "85cbc91f",
   "metadata": {},
   "source": [
    "# <font color=\"#FFA17A\" style=\"font-size: 30px;\">Roteiro</font>\n",
    "<hr style=\"border: 2px solid #FFA17A;\">"
   ]
  },
  {
   "cell_type": "markdown",
   "id": "6e44ee73",
   "metadata": {},
   "source": [
    "<h1 style='color: black; font-size:22px; font-weight: bold;'> 1. Importação e tratamento dos dados\n",
    "</h1>\n",
    "\n",
    "---\n",
    "\n",
    "<h1 style='color: black; font-size: 22px; font-weight: bold;'>2. Data Visualization & Storytelling \n",
    "\n",
    "</h1>\n",
    "\n",
    "---\n",
    "\n",
    "<h1 style='color: black; font-size: 22px; font-weight: bold;'> \n",
    "3. \n",
    "</h1>\n",
    "\n",
    "---\n",
    "\n",
    "<h1 style='color: black; font-size: 22px; font-weight: bold;'> \n",
    "4. \n",
    "</h1>\n",
    "\n",
    "---\n",
    "\n",
    "<h1 style='color: black; font-size: 22px; font-weight: bold;'> \n",
    "5. \n",
    "</h1>\n",
    "\n",
    "---\n",
    "\n",
    "<h1 style='color: black; font-size: 22px; font-weight: bold;'> \n",
    "6. \n",
    "</h1>\n",
    "\n",
    "---\n",
    "\n",
    "<h1 style='color: black; font-size: 22px; font-weight: bold;'> \n",
    "7. \n",
    "</h1>\n",
    "\n",
    "---"
   ]
  },
  {
   "cell_type": "markdown",
   "id": "552e5a7e",
   "metadata": {},
   "source": [
    "# <font color=\"#FFA17A\" style=\"font-size: 30px;\">1. Importação e tratamento dos dados </font>\n",
    "<hr style=\"border: 2px solid #FFA17A;\">"
   ]
  },
  {
   "cell_type": "code",
   "execution_count": 1101,
   "id": "46381896",
   "metadata": {},
   "outputs": [],
   "source": [
    "# IMPORTANMDO BIBLIOTECAS\n",
    "\n",
    "import pandas as pd\n",
    "import os\n",
    "from datetime import datetime\n",
    "import seaborn as sns\n",
    "import matplotlib.pyplot as plt\n",
    "import numpy as np\n",
    "import json\n",
    "import plotly.graph_objects as go\n",
    "import matplotlib.patches as mpatches\n",
    "import plotly.express as px\n",
    "import locale\n",
    "from sklearn.metrics import mean_squared_error, r2_score\n",
    "from statsmodels.tsa.arima.model import ARIMA"
   ]
  },
  {
   "cell_type": "code",
   "execution_count": 1102,
   "id": "8ae4fda4",
   "metadata": {},
   "outputs": [
    {
     "data": {
      "text/html": [
       "<div>\n",
       "<style scoped>\n",
       "    .dataframe tbody tr th:only-of-type {\n",
       "        vertical-align: middle;\n",
       "    }\n",
       "\n",
       "    .dataframe tbody tr th {\n",
       "        vertical-align: top;\n",
       "    }\n",
       "\n",
       "    .dataframe thead th {\n",
       "        text-align: right;\n",
       "    }\n",
       "</style>\n",
       "<table border=\"1\" class=\"dataframe\">\n",
       "  <thead>\n",
       "    <tr style=\"text-align: right;\">\n",
       "      <th></th>\n",
       "      <th>ANO</th>\n",
       "      <th>MES</th>\n",
       "      <th>SENADOR</th>\n",
       "      <th>TIPO_DESPESA</th>\n",
       "      <th>CNPJ_CPF</th>\n",
       "      <th>FORNECEDOR</th>\n",
       "      <th>DOCUMENTO</th>\n",
       "      <th>DATA</th>\n",
       "      <th>DETALHAMENTO</th>\n",
       "      <th>VALOR_REEMBOLSADO</th>\n",
       "      <th>COD_DOCUMENTO</th>\n",
       "    </tr>\n",
       "  </thead>\n",
       "  <tbody>\n",
       "    <tr>\n",
       "      <th>0</th>\n",
       "      <td>2018</td>\n",
       "      <td>1</td>\n",
       "      <td>ACIR GURGACZ</td>\n",
       "      <td>Aluguel de imóveis para escritório político, c...</td>\n",
       "      <td>004.948.028-63</td>\n",
       "      <td>GILBERTO PISELO DO NASCIMENTO</td>\n",
       "      <td>NaN</td>\n",
       "      <td>2018-01-02 00:00:00</td>\n",
       "      <td>Despesa com pagamento de aluguel de imóvel par...</td>\n",
       "      <td>6000.00</td>\n",
       "      <td>2088462</td>\n",
       "    </tr>\n",
       "    <tr>\n",
       "      <th>1</th>\n",
       "      <td>2018</td>\n",
       "      <td>1</td>\n",
       "      <td>ACIR GURGACZ</td>\n",
       "      <td>Passagens aéreas, aquáticas e terrestres nacio...</td>\n",
       "      <td>63.764.211/0001-10</td>\n",
       "      <td>TRANSCONTINENTAL AGÊNCIA DE VIAGENS LTDA</td>\n",
       "      <td>M2CJMM</td>\n",
       "      <td>2018-01-02 00:00:00</td>\n",
       "      <td>Companhia Aérea: AVIANCA, Localizador: M2CJMM....</td>\n",
       "      <td>274.99</td>\n",
       "      <td>2088476</td>\n",
       "    </tr>\n",
       "    <tr>\n",
       "      <th>2</th>\n",
       "      <td>2018</td>\n",
       "      <td>1</td>\n",
       "      <td>ACIR GURGACZ</td>\n",
       "      <td>Passagens aéreas, aquáticas e terrestres nacio...</td>\n",
       "      <td>63.764.211/0001-10</td>\n",
       "      <td>TRANSCONTINENTAL AGÊNCIA DE VIAGENS LTDA</td>\n",
       "      <td>SFEXYF</td>\n",
       "      <td>2018-01-02 00:00:00</td>\n",
       "      <td>Companhia Aérea: LATAM, Localizador: SFEXYF. P...</td>\n",
       "      <td>1094.29</td>\n",
       "      <td>2088528</td>\n",
       "    </tr>\n",
       "    <tr>\n",
       "      <th>3</th>\n",
       "      <td>2018</td>\n",
       "      <td>1</td>\n",
       "      <td>ACIR GURGACZ</td>\n",
       "      <td>Passagens aéreas, aquáticas e terrestres nacio...</td>\n",
       "      <td>63.764.211/0001-10</td>\n",
       "      <td>TRANSCONTINENTAL AGÊNCIA DE VIAGENS LTDA</td>\n",
       "      <td>V64HTR</td>\n",
       "      <td>2018-01-24 00:00:00</td>\n",
       "      <td>Companhia Aérea: AZUL, Localizador: V64HTR. Pa...</td>\n",
       "      <td>1553.99</td>\n",
       "      <td>2088475</td>\n",
       "    </tr>\n",
       "    <tr>\n",
       "      <th>4</th>\n",
       "      <td>2018</td>\n",
       "      <td>2</td>\n",
       "      <td>ACIR GURGACZ</td>\n",
       "      <td>Aluguel de imóveis para escritório político, c...</td>\n",
       "      <td>004.948.028-63</td>\n",
       "      <td>GILBERTO PISELO DO NASCIMENTO</td>\n",
       "      <td>002/18</td>\n",
       "      <td>2018-02-01 00:00:00</td>\n",
       "      <td>Despesa com pagamento de aluguel de imóvel par...</td>\n",
       "      <td>6000.00</td>\n",
       "      <td>2088477</td>\n",
       "    </tr>\n",
       "    <tr>\n",
       "      <th>...</th>\n",
       "      <td>...</td>\n",
       "      <td>...</td>\n",
       "      <td>...</td>\n",
       "      <td>...</td>\n",
       "      <td>...</td>\n",
       "      <td>...</td>\n",
       "      <td>...</td>\n",
       "      <td>...</td>\n",
       "      <td>...</td>\n",
       "      <td>...</td>\n",
       "      <td>...</td>\n",
       "    </tr>\n",
       "    <tr>\n",
       "      <th>93820</th>\n",
       "      <td>2022</td>\n",
       "      <td>12</td>\n",
       "      <td>ZEQUINHA MARINHO</td>\n",
       "      <td>Passagens aéreas, aquáticas e terrestres nacio...</td>\n",
       "      <td>22.052.777/0001-32</td>\n",
       "      <td>Exceller Tour</td>\n",
       "      <td>WIXHAI</td>\n",
       "      <td>2022-12-06 00:00:00</td>\n",
       "      <td>Companhia Aérea: LATAM, Localizador: WIXHAI. P...</td>\n",
       "      <td>2893.04</td>\n",
       "      <td>2191398</td>\n",
       "    </tr>\n",
       "    <tr>\n",
       "      <th>93821</th>\n",
       "      <td>2022</td>\n",
       "      <td>12</td>\n",
       "      <td>ZEQUINHA MARINHO</td>\n",
       "      <td>Passagens aéreas, aquáticas e terrestres nacio...</td>\n",
       "      <td>22.052.777/0001-32</td>\n",
       "      <td>Exceller Tour</td>\n",
       "      <td>WITOLM</td>\n",
       "      <td>2022-12-09 00:00:00</td>\n",
       "      <td>Companhia Aérea: GOL, Localizador: WITOLM. Pas...</td>\n",
       "      <td>1180.19</td>\n",
       "      <td>2192272</td>\n",
       "    </tr>\n",
       "    <tr>\n",
       "      <th>93822</th>\n",
       "      <td>2022</td>\n",
       "      <td>12</td>\n",
       "      <td>ZEQUINHA MARINHO</td>\n",
       "      <td>Passagens aéreas, aquáticas e terrestres nacio...</td>\n",
       "      <td>22.052.777/0001-32</td>\n",
       "      <td>Exceller Tour</td>\n",
       "      <td>THPKVQ</td>\n",
       "      <td>2022-12-20 00:00:00</td>\n",
       "      <td>Companhia Aérea: TAM, Localizador: THPKVQ. Pas...</td>\n",
       "      <td>2671.90</td>\n",
       "      <td>2192274</td>\n",
       "    </tr>\n",
       "    <tr>\n",
       "      <th>93823</th>\n",
       "      <td>2022</td>\n",
       "      <td>12</td>\n",
       "      <td>ZEQUINHA MARINHO</td>\n",
       "      <td>Passagens aéreas, aquáticas e terrestres nacio...</td>\n",
       "      <td>22.052.777/0001-32</td>\n",
       "      <td>Exceller Tour</td>\n",
       "      <td>QNN9HX</td>\n",
       "      <td>2022-12-21 00:00:00</td>\n",
       "      <td>Companhia Aérea: AZUL, Localizador: QNN9HX. Pa...</td>\n",
       "      <td>1334.31</td>\n",
       "      <td>2192244</td>\n",
       "    </tr>\n",
       "    <tr>\n",
       "      <th>93824</th>\n",
       "      <td>2022</td>\n",
       "      <td>12</td>\n",
       "      <td>ZEQUINHA MARINHO</td>\n",
       "      <td>Passagens aéreas, aquáticas e terrestres nacio...</td>\n",
       "      <td>22.052.777/0001-32</td>\n",
       "      <td>Exceller Tour</td>\n",
       "      <td>WMQWBX</td>\n",
       "      <td>2022-12-30 00:00:00</td>\n",
       "      <td>Companhia Aérea: TAM, Localizador: WMQWBX. Pas...</td>\n",
       "      <td>2250.72</td>\n",
       "      <td>2193622</td>\n",
       "    </tr>\n",
       "  </tbody>\n",
       "</table>\n",
       "<p>93825 rows × 11 columns</p>\n",
       "</div>"
      ],
      "text/plain": [
       "        ANO  MES           SENADOR  \\\n",
       "0      2018    1      ACIR GURGACZ   \n",
       "1      2018    1      ACIR GURGACZ   \n",
       "2      2018    1      ACIR GURGACZ   \n",
       "3      2018    1      ACIR GURGACZ   \n",
       "4      2018    2      ACIR GURGACZ   \n",
       "...     ...  ...               ...   \n",
       "93820  2022   12  ZEQUINHA MARINHO   \n",
       "93821  2022   12  ZEQUINHA MARINHO   \n",
       "93822  2022   12  ZEQUINHA MARINHO   \n",
       "93823  2022   12  ZEQUINHA MARINHO   \n",
       "93824  2022   12  ZEQUINHA MARINHO   \n",
       "\n",
       "                                            TIPO_DESPESA            CNPJ_CPF  \\\n",
       "0      Aluguel de imóveis para escritório político, c...      004.948.028-63   \n",
       "1      Passagens aéreas, aquáticas e terrestres nacio...  63.764.211/0001-10   \n",
       "2      Passagens aéreas, aquáticas e terrestres nacio...  63.764.211/0001-10   \n",
       "3      Passagens aéreas, aquáticas e terrestres nacio...  63.764.211/0001-10   \n",
       "4      Aluguel de imóveis para escritório político, c...      004.948.028-63   \n",
       "...                                                  ...                 ...   \n",
       "93820  Passagens aéreas, aquáticas e terrestres nacio...  22.052.777/0001-32   \n",
       "93821  Passagens aéreas, aquáticas e terrestres nacio...  22.052.777/0001-32   \n",
       "93822  Passagens aéreas, aquáticas e terrestres nacio...  22.052.777/0001-32   \n",
       "93823  Passagens aéreas, aquáticas e terrestres nacio...  22.052.777/0001-32   \n",
       "93824  Passagens aéreas, aquáticas e terrestres nacio...  22.052.777/0001-32   \n",
       "\n",
       "                                     FORNECEDOR DOCUMENTO  \\\n",
       "0                 GILBERTO PISELO DO NASCIMENTO       NaN   \n",
       "1      TRANSCONTINENTAL AGÊNCIA DE VIAGENS LTDA    M2CJMM   \n",
       "2      TRANSCONTINENTAL AGÊNCIA DE VIAGENS LTDA    SFEXYF   \n",
       "3      TRANSCONTINENTAL AGÊNCIA DE VIAGENS LTDA    V64HTR   \n",
       "4                 GILBERTO PISELO DO NASCIMENTO    002/18   \n",
       "...                                         ...       ...   \n",
       "93820                             Exceller Tour    WIXHAI   \n",
       "93821                             Exceller Tour    WITOLM   \n",
       "93822                             Exceller Tour    THPKVQ   \n",
       "93823                             Exceller Tour    QNN9HX   \n",
       "93824                             Exceller Tour    WMQWBX   \n",
       "\n",
       "                      DATA                                       DETALHAMENTO  \\\n",
       "0      2018-01-02 00:00:00  Despesa com pagamento de aluguel de imóvel par...   \n",
       "1      2018-01-02 00:00:00  Companhia Aérea: AVIANCA, Localizador: M2CJMM....   \n",
       "2      2018-01-02 00:00:00  Companhia Aérea: LATAM, Localizador: SFEXYF. P...   \n",
       "3      2018-01-24 00:00:00  Companhia Aérea: AZUL, Localizador: V64HTR. Pa...   \n",
       "4      2018-02-01 00:00:00  Despesa com pagamento de aluguel de imóvel par...   \n",
       "...                    ...                                                ...   \n",
       "93820  2022-12-06 00:00:00  Companhia Aérea: LATAM, Localizador: WIXHAI. P...   \n",
       "93821  2022-12-09 00:00:00  Companhia Aérea: GOL, Localizador: WITOLM. Pas...   \n",
       "93822  2022-12-20 00:00:00  Companhia Aérea: TAM, Localizador: THPKVQ. Pas...   \n",
       "93823  2022-12-21 00:00:00  Companhia Aérea: AZUL, Localizador: QNN9HX. Pa...   \n",
       "93824  2022-12-30 00:00:00  Companhia Aérea: TAM, Localizador: WMQWBX. Pas...   \n",
       "\n",
       "       VALOR_REEMBOLSADO  COD_DOCUMENTO  \n",
       "0                6000.00        2088462  \n",
       "1                 274.99        2088476  \n",
       "2                1094.29        2088528  \n",
       "3                1553.99        2088475  \n",
       "4                6000.00        2088477  \n",
       "...                  ...            ...  \n",
       "93820            2893.04        2191398  \n",
       "93821            1180.19        2192272  \n",
       "93822            2671.90        2192274  \n",
       "93823            1334.31        2192244  \n",
       "93824            2250.72        2193622  \n",
       "\n",
       "[93825 rows x 11 columns]"
      ]
     },
     "execution_count": 1102,
     "metadata": {},
     "output_type": "execute_result"
    }
   ],
   "source": [
    "# Lista para armazenar os caminhos dos arquivos CSV\n",
    "\n",
    "caminho_arquivos = [\n",
    "    os.path.join(\"Datasets\", \"despesa_ceaps_2018.xlsx\"),\n",
    "    os.path.join(\"Datasets\", \"despesa_ceaps_2019.xlsx\"),\n",
    "    os.path.join(\"Datasets\", \"despesa_ceaps_2020.xlsx\"),\n",
    "    os.path.join(\"Datasets\", \"despesa_ceaps_2021.xlsx\"),\n",
    "    os.path.join(\"Datasets\", \"despesa_ceaps_2022.xlsx\")\n",
    "] \n",
    "\n",
    "# Lista para armazenar os DataFrames de cada arquivo\n",
    "data_frames = []\n",
    "\n",
    "# Iterar sobre os caminhos dos arquivos CSV\n",
    "for arquivo in caminho_arquivos:\n",
    "    df = pd.read_excel(arquivo,skiprows=1)\n",
    "    data_frames.append(df)\n",
    "\n",
    "# Concatenar os DataFrames em um único DataFrame\n",
    "df = pd.concat(data_frames, ignore_index=True)\n",
    "df"
   ]
  },
  {
   "cell_type": "markdown",
   "id": "29e5d4f9",
   "metadata": {},
   "source": [
    "---\n",
    "## <font color=#40634D style=\"font-size: 30px;\">Verificando valores nulos e duplicatas</font>\n",
    "\n",
    "---"
   ]
  },
  {
   "cell_type": "code",
   "execution_count": 1103,
   "id": "2d6f2061",
   "metadata": {},
   "outputs": [
    {
     "name": "stdout",
     "output_type": "stream",
     "text": [
      "<class 'pandas.core.frame.DataFrame'>\n",
      "RangeIndex: 93825 entries, 0 to 93824\n",
      "Data columns (total 11 columns):\n",
      " #   Column             Non-Null Count  Dtype  \n",
      "---  ------             --------------  -----  \n",
      " 0   ANO                93825 non-null  int64  \n",
      " 1   MES                93825 non-null  int64  \n",
      " 2   SENADOR            93825 non-null  object \n",
      " 3   TIPO_DESPESA       93825 non-null  object \n",
      " 4   CNPJ_CPF           93825 non-null  object \n",
      " 5   FORNECEDOR         93825 non-null  object \n",
      " 6   DOCUMENTO          89846 non-null  object \n",
      " 7   DATA               93825 non-null  object \n",
      " 8   DETALHAMENTO       57459 non-null  object \n",
      " 9   VALOR_REEMBOLSADO  93825 non-null  float64\n",
      " 10  COD_DOCUMENTO      93825 non-null  int64  \n",
      "dtypes: float64(1), int64(3), object(7)\n",
      "memory usage: 7.9+ MB\n"
     ]
    }
   ],
   "source": [
    "df.info()"
   ]
  },
  {
   "cell_type": "code",
   "execution_count": 1104,
   "id": "319334b8",
   "metadata": {},
   "outputs": [],
   "source": [
    "df['DETALHAMENTO'] = df['DETALHAMENTO'].fillna('Não Informado')"
   ]
  },
  {
   "cell_type": "code",
   "execution_count": 1105,
   "id": "eb39710b",
   "metadata": {},
   "outputs": [],
   "source": [
    "df['DOCUMENTO'] = df['DOCUMENTO'].fillna('Não Informado')"
   ]
  },
  {
   "cell_type": "code",
   "execution_count": 1106,
   "id": "d377ed97",
   "metadata": {},
   "outputs": [
    {
     "data": {
      "text/plain": [
       "array([False])"
      ]
     },
     "execution_count": 1106,
     "metadata": {},
     "output_type": "execute_result"
    }
   ],
   "source": [
    "# Duplicatas\n",
    "\n",
    "df.duplicated().unique()"
   ]
  },
  {
   "cell_type": "markdown",
   "id": "70bbece9",
   "metadata": {},
   "source": [
    "---\n",
    "## <font color=#40634D style=\"font-size: 30px;\">Ajustando formatos e eliminando colunas</font>\n",
    "\n",
    "---"
   ]
  },
  {
   "cell_type": "code",
   "execution_count": 1107,
   "id": "515c60a8",
   "metadata": {},
   "outputs": [
    {
     "data": {
      "text/html": [
       "<div>\n",
       "<style scoped>\n",
       "    .dataframe tbody tr th:only-of-type {\n",
       "        vertical-align: middle;\n",
       "    }\n",
       "\n",
       "    .dataframe tbody tr th {\n",
       "        vertical-align: top;\n",
       "    }\n",
       "\n",
       "    .dataframe thead th {\n",
       "        text-align: right;\n",
       "    }\n",
       "</style>\n",
       "<table border=\"1\" class=\"dataframe\">\n",
       "  <thead>\n",
       "    <tr style=\"text-align: right;\">\n",
       "      <th></th>\n",
       "      <th>ANO</th>\n",
       "      <th>MES</th>\n",
       "      <th>SENADOR</th>\n",
       "      <th>TIPO_DESPESA</th>\n",
       "      <th>CNPJ_CPF</th>\n",
       "      <th>FORNECEDOR</th>\n",
       "      <th>DOCUMENTO</th>\n",
       "      <th>DATA</th>\n",
       "      <th>DETALHAMENTO</th>\n",
       "      <th>VALOR_REEMBOLSADO</th>\n",
       "      <th>COD_DOCUMENTO</th>\n",
       "    </tr>\n",
       "  </thead>\n",
       "  <tbody>\n",
       "    <tr>\n",
       "      <th>0</th>\n",
       "      <td>2018</td>\n",
       "      <td>1</td>\n",
       "      <td>ACIR GURGACZ</td>\n",
       "      <td>Aluguel de imóveis para escritório político, c...</td>\n",
       "      <td>004.948.028-63</td>\n",
       "      <td>GILBERTO PISELO DO NASCIMENTO</td>\n",
       "      <td>Não Informado</td>\n",
       "      <td>2018-01-02 00:00:00</td>\n",
       "      <td>Despesa com pagamento de aluguel de imóvel par...</td>\n",
       "      <td>6000.00</td>\n",
       "      <td>2088462</td>\n",
       "    </tr>\n",
       "    <tr>\n",
       "      <th>1</th>\n",
       "      <td>2018</td>\n",
       "      <td>1</td>\n",
       "      <td>ACIR GURGACZ</td>\n",
       "      <td>Passagens aéreas, aquáticas e terrestres nacio...</td>\n",
       "      <td>63.764.211/0001-10</td>\n",
       "      <td>TRANSCONTINENTAL AGÊNCIA DE VIAGENS LTDA</td>\n",
       "      <td>M2CJMM</td>\n",
       "      <td>2018-01-02 00:00:00</td>\n",
       "      <td>Companhia Aérea: AVIANCA, Localizador: M2CJMM....</td>\n",
       "      <td>274.99</td>\n",
       "      <td>2088476</td>\n",
       "    </tr>\n",
       "    <tr>\n",
       "      <th>2</th>\n",
       "      <td>2018</td>\n",
       "      <td>1</td>\n",
       "      <td>ACIR GURGACZ</td>\n",
       "      <td>Passagens aéreas, aquáticas e terrestres nacio...</td>\n",
       "      <td>63.764.211/0001-10</td>\n",
       "      <td>TRANSCONTINENTAL AGÊNCIA DE VIAGENS LTDA</td>\n",
       "      <td>SFEXYF</td>\n",
       "      <td>2018-01-02 00:00:00</td>\n",
       "      <td>Companhia Aérea: LATAM, Localizador: SFEXYF. P...</td>\n",
       "      <td>1094.29</td>\n",
       "      <td>2088528</td>\n",
       "    </tr>\n",
       "    <tr>\n",
       "      <th>3</th>\n",
       "      <td>2018</td>\n",
       "      <td>1</td>\n",
       "      <td>ACIR GURGACZ</td>\n",
       "      <td>Passagens aéreas, aquáticas e terrestres nacio...</td>\n",
       "      <td>63.764.211/0001-10</td>\n",
       "      <td>TRANSCONTINENTAL AGÊNCIA DE VIAGENS LTDA</td>\n",
       "      <td>V64HTR</td>\n",
       "      <td>2018-01-24 00:00:00</td>\n",
       "      <td>Companhia Aérea: AZUL, Localizador: V64HTR. Pa...</td>\n",
       "      <td>1553.99</td>\n",
       "      <td>2088475</td>\n",
       "    </tr>\n",
       "    <tr>\n",
       "      <th>4</th>\n",
       "      <td>2018</td>\n",
       "      <td>2</td>\n",
       "      <td>ACIR GURGACZ</td>\n",
       "      <td>Aluguel de imóveis para escritório político, c...</td>\n",
       "      <td>004.948.028-63</td>\n",
       "      <td>GILBERTO PISELO DO NASCIMENTO</td>\n",
       "      <td>002/18</td>\n",
       "      <td>2018-02-01 00:00:00</td>\n",
       "      <td>Despesa com pagamento de aluguel de imóvel par...</td>\n",
       "      <td>6000.00</td>\n",
       "      <td>2088477</td>\n",
       "    </tr>\n",
       "    <tr>\n",
       "      <th>...</th>\n",
       "      <td>...</td>\n",
       "      <td>...</td>\n",
       "      <td>...</td>\n",
       "      <td>...</td>\n",
       "      <td>...</td>\n",
       "      <td>...</td>\n",
       "      <td>...</td>\n",
       "      <td>...</td>\n",
       "      <td>...</td>\n",
       "      <td>...</td>\n",
       "      <td>...</td>\n",
       "    </tr>\n",
       "    <tr>\n",
       "      <th>93820</th>\n",
       "      <td>2022</td>\n",
       "      <td>12</td>\n",
       "      <td>ZEQUINHA MARINHO</td>\n",
       "      <td>Passagens aéreas, aquáticas e terrestres nacio...</td>\n",
       "      <td>22.052.777/0001-32</td>\n",
       "      <td>Exceller Tour</td>\n",
       "      <td>WIXHAI</td>\n",
       "      <td>2022-12-06 00:00:00</td>\n",
       "      <td>Companhia Aérea: LATAM, Localizador: WIXHAI. P...</td>\n",
       "      <td>2893.04</td>\n",
       "      <td>2191398</td>\n",
       "    </tr>\n",
       "    <tr>\n",
       "      <th>93821</th>\n",
       "      <td>2022</td>\n",
       "      <td>12</td>\n",
       "      <td>ZEQUINHA MARINHO</td>\n",
       "      <td>Passagens aéreas, aquáticas e terrestres nacio...</td>\n",
       "      <td>22.052.777/0001-32</td>\n",
       "      <td>Exceller Tour</td>\n",
       "      <td>WITOLM</td>\n",
       "      <td>2022-12-09 00:00:00</td>\n",
       "      <td>Companhia Aérea: GOL, Localizador: WITOLM. Pas...</td>\n",
       "      <td>1180.19</td>\n",
       "      <td>2192272</td>\n",
       "    </tr>\n",
       "    <tr>\n",
       "      <th>93822</th>\n",
       "      <td>2022</td>\n",
       "      <td>12</td>\n",
       "      <td>ZEQUINHA MARINHO</td>\n",
       "      <td>Passagens aéreas, aquáticas e terrestres nacio...</td>\n",
       "      <td>22.052.777/0001-32</td>\n",
       "      <td>Exceller Tour</td>\n",
       "      <td>THPKVQ</td>\n",
       "      <td>2022-12-20 00:00:00</td>\n",
       "      <td>Companhia Aérea: TAM, Localizador: THPKVQ. Pas...</td>\n",
       "      <td>2671.90</td>\n",
       "      <td>2192274</td>\n",
       "    </tr>\n",
       "    <tr>\n",
       "      <th>93823</th>\n",
       "      <td>2022</td>\n",
       "      <td>12</td>\n",
       "      <td>ZEQUINHA MARINHO</td>\n",
       "      <td>Passagens aéreas, aquáticas e terrestres nacio...</td>\n",
       "      <td>22.052.777/0001-32</td>\n",
       "      <td>Exceller Tour</td>\n",
       "      <td>QNN9HX</td>\n",
       "      <td>2022-12-21 00:00:00</td>\n",
       "      <td>Companhia Aérea: AZUL, Localizador: QNN9HX. Pa...</td>\n",
       "      <td>1334.31</td>\n",
       "      <td>2192244</td>\n",
       "    </tr>\n",
       "    <tr>\n",
       "      <th>93824</th>\n",
       "      <td>2022</td>\n",
       "      <td>12</td>\n",
       "      <td>ZEQUINHA MARINHO</td>\n",
       "      <td>Passagens aéreas, aquáticas e terrestres nacio...</td>\n",
       "      <td>22.052.777/0001-32</td>\n",
       "      <td>Exceller Tour</td>\n",
       "      <td>WMQWBX</td>\n",
       "      <td>2022-12-30 00:00:00</td>\n",
       "      <td>Companhia Aérea: TAM, Localizador: WMQWBX. Pas...</td>\n",
       "      <td>2250.72</td>\n",
       "      <td>2193622</td>\n",
       "    </tr>\n",
       "  </tbody>\n",
       "</table>\n",
       "<p>93825 rows × 11 columns</p>\n",
       "</div>"
      ],
      "text/plain": [
       "        ANO  MES           SENADOR  \\\n",
       "0      2018    1      ACIR GURGACZ   \n",
       "1      2018    1      ACIR GURGACZ   \n",
       "2      2018    1      ACIR GURGACZ   \n",
       "3      2018    1      ACIR GURGACZ   \n",
       "4      2018    2      ACIR GURGACZ   \n",
       "...     ...  ...               ...   \n",
       "93820  2022   12  ZEQUINHA MARINHO   \n",
       "93821  2022   12  ZEQUINHA MARINHO   \n",
       "93822  2022   12  ZEQUINHA MARINHO   \n",
       "93823  2022   12  ZEQUINHA MARINHO   \n",
       "93824  2022   12  ZEQUINHA MARINHO   \n",
       "\n",
       "                                            TIPO_DESPESA            CNPJ_CPF  \\\n",
       "0      Aluguel de imóveis para escritório político, c...      004.948.028-63   \n",
       "1      Passagens aéreas, aquáticas e terrestres nacio...  63.764.211/0001-10   \n",
       "2      Passagens aéreas, aquáticas e terrestres nacio...  63.764.211/0001-10   \n",
       "3      Passagens aéreas, aquáticas e terrestres nacio...  63.764.211/0001-10   \n",
       "4      Aluguel de imóveis para escritório político, c...      004.948.028-63   \n",
       "...                                                  ...                 ...   \n",
       "93820  Passagens aéreas, aquáticas e terrestres nacio...  22.052.777/0001-32   \n",
       "93821  Passagens aéreas, aquáticas e terrestres nacio...  22.052.777/0001-32   \n",
       "93822  Passagens aéreas, aquáticas e terrestres nacio...  22.052.777/0001-32   \n",
       "93823  Passagens aéreas, aquáticas e terrestres nacio...  22.052.777/0001-32   \n",
       "93824  Passagens aéreas, aquáticas e terrestres nacio...  22.052.777/0001-32   \n",
       "\n",
       "                                     FORNECEDOR      DOCUMENTO  \\\n",
       "0                 GILBERTO PISELO DO NASCIMENTO  Não Informado   \n",
       "1      TRANSCONTINENTAL AGÊNCIA DE VIAGENS LTDA         M2CJMM   \n",
       "2      TRANSCONTINENTAL AGÊNCIA DE VIAGENS LTDA         SFEXYF   \n",
       "3      TRANSCONTINENTAL AGÊNCIA DE VIAGENS LTDA         V64HTR   \n",
       "4                 GILBERTO PISELO DO NASCIMENTO         002/18   \n",
       "...                                         ...            ...   \n",
       "93820                             Exceller Tour         WIXHAI   \n",
       "93821                             Exceller Tour         WITOLM   \n",
       "93822                             Exceller Tour         THPKVQ   \n",
       "93823                             Exceller Tour         QNN9HX   \n",
       "93824                             Exceller Tour         WMQWBX   \n",
       "\n",
       "                      DATA                                       DETALHAMENTO  \\\n",
       "0      2018-01-02 00:00:00  Despesa com pagamento de aluguel de imóvel par...   \n",
       "1      2018-01-02 00:00:00  Companhia Aérea: AVIANCA, Localizador: M2CJMM....   \n",
       "2      2018-01-02 00:00:00  Companhia Aérea: LATAM, Localizador: SFEXYF. P...   \n",
       "3      2018-01-24 00:00:00  Companhia Aérea: AZUL, Localizador: V64HTR. Pa...   \n",
       "4      2018-02-01 00:00:00  Despesa com pagamento de aluguel de imóvel par...   \n",
       "...                    ...                                                ...   \n",
       "93820  2022-12-06 00:00:00  Companhia Aérea: LATAM, Localizador: WIXHAI. P...   \n",
       "93821  2022-12-09 00:00:00  Companhia Aérea: GOL, Localizador: WITOLM. Pas...   \n",
       "93822  2022-12-20 00:00:00  Companhia Aérea: TAM, Localizador: THPKVQ. Pas...   \n",
       "93823  2022-12-21 00:00:00  Companhia Aérea: AZUL, Localizador: QNN9HX. Pa...   \n",
       "93824  2022-12-30 00:00:00  Companhia Aérea: TAM, Localizador: WMQWBX. Pas...   \n",
       "\n",
       "       VALOR_REEMBOLSADO  COD_DOCUMENTO  \n",
       "0                6000.00        2088462  \n",
       "1                 274.99        2088476  \n",
       "2                1094.29        2088528  \n",
       "3                1553.99        2088475  \n",
       "4                6000.00        2088477  \n",
       "...                  ...            ...  \n",
       "93820            2893.04        2191398  \n",
       "93821            1180.19        2192272  \n",
       "93822            2671.90        2192274  \n",
       "93823            1334.31        2192244  \n",
       "93824            2250.72        2193622  \n",
       "\n",
       "[93825 rows x 11 columns]"
      ]
     },
     "execution_count": 1107,
     "metadata": {},
     "output_type": "execute_result"
    }
   ],
   "source": [
    "df"
   ]
  },
  {
   "cell_type": "code",
   "execution_count": 1108,
   "id": "9145dfe1",
   "metadata": {},
   "outputs": [
    {
     "data": {
      "text/plain": [
       "str"
      ]
     },
     "metadata": {},
     "output_type": "display_data"
    },
    {
     "data": {
      "text/plain": [
       "numpy.float64"
      ]
     },
     "metadata": {},
     "output_type": "display_data"
    }
   ],
   "source": [
    "display(type(df['CNPJ_CPF'][0]))\n",
    "display(type(df['VALOR_REEMBOLSADO'][0]))"
   ]
  },
  {
   "cell_type": "code",
   "execution_count": 1109,
   "id": "3efda7ad",
   "metadata": {},
   "outputs": [],
   "source": [
    "df = df.drop(['DOCUMENTO', 'COD_DOCUMENTO'], axis=1)"
   ]
  },
  {
   "cell_type": "markdown",
   "id": "0f98241e",
   "metadata": {},
   "source": [
    "---\n",
    "## <font color=#40634D style=\"font-size: 30px;\">Correções colunas datas</font>\n",
    "\n",
    "---"
   ]
  },
  {
   "cell_type": "code",
   "execution_count": 1110,
   "id": "5ce1bfbb",
   "metadata": {},
   "outputs": [
    {
     "data": {
      "text/plain": [
       "<class 'datetime.datetime'>                           77038\n",
       "<class 'pandas._libs.tslibs.timestamps.Timestamp'>    16782\n",
       "<class 'str'>                                             5\n",
       "dtype: int64"
      ]
     },
     "execution_count": 1110,
     "metadata": {},
     "output_type": "execute_result"
    }
   ],
   "source": [
    "lista = [type(i) for i in df['DATA']]\n",
    "lista = pd.Series(lista)\n",
    "lista.value_counts()"
   ]
  },
  {
   "cell_type": "code",
   "execution_count": 1111,
   "id": "91cae9ce",
   "metadata": {},
   "outputs": [
    {
     "data": {
      "text/plain": [
       "Int64Index([13941, 16559, 35478, 56488, 62364], dtype='int64')"
      ]
     },
     "execution_count": 1111,
     "metadata": {},
     "output_type": "execute_result"
    }
   ],
   "source": [
    "timestamps_apenas = lista[lista == pd.Timestamp]\n",
    "str_apenas = lista[lista == str]\n",
    "str_apenas.index"
   ]
  },
  {
   "cell_type": "code",
   "execution_count": 1112,
   "id": "1bffaed0",
   "metadata": {},
   "outputs": [],
   "source": [
    "df.loc[35478, 'DATA'] = pd.to_datetime('31/01/2019', format='%d/%m/%Y')\n",
    "df.loc[56488, 'DATA'] = pd.to_datetime('05/05/2022', format='%d/%m/%Y')\n",
    "df.loc[62364, 'DATA'] = pd.to_datetime('29/10/2022', format='%d/%m/%Y')\n",
    "df.loc[13941, 'DATA'] = pd.to_datetime('09/05/2018', format='%d/%m/%Y')\n",
    "df.loc[16559, 'DATA'] = pd.to_datetime('16/11/2018', format='%d/%m/%Y')"
   ]
  },
  {
   "cell_type": "code",
   "execution_count": 1113,
   "id": "48857ab8",
   "metadata": {},
   "outputs": [],
   "source": [
    "df['DATA'] = pd.to_datetime(df['DATA'])\n",
    "df['DIA'] = df['DATA'].dt.day.astype(int)\n",
    "df = df[['ANO', 'MES', 'DIA', 'SENADOR', 'TIPO_DESPESA', 'CNPJ_CPF', 'FORNECEDOR',\n",
    "         'DATA', 'DETALHAMENTO', 'VALOR_REEMBOLSADO']]\n",
    "\n",
    "df = df.drop(['DATA'], axis=1)"
   ]
  },
  {
   "cell_type": "markdown",
   "id": "b3048ef9",
   "metadata": {},
   "source": [
    "---\n",
    "## <font color=#40634D style=\"font-size: 30px;\">Ajustar nome das empresas baseado no CNPJ/CPF</font>\n",
    "\n",
    "---"
   ]
  },
  {
   "cell_type": "code",
   "execution_count": 1114,
   "id": "ddbdebac",
   "metadata": {},
   "outputs": [
    {
     "data": {
      "text/plain": [
       "16.978.175/0001-08    7050\n",
       "33.937.681/0001-78    2509\n",
       "07.575.651/0001-59    1858\n",
       "02.558.157/0001-62    1836\n",
       "26.480.780/0001-08    1204\n",
       "17.895.646/0001-87     818\n",
       "09.296.295/0001-60     783\n",
       "33.469.172/0022-92     758\n",
       "00.031.708/0001-00     752\n",
       "14.294.443/0001-47     573\n",
       "00.821.459/0001-56     547\n",
       "02.575.829/0001-48     432\n",
       "10.835.932/0001-08     418\n",
       "22.052.777/0001-32     400\n",
       "00.556.066/0001-62     395\n",
       "Name: CNPJ_CPF, dtype: int64"
      ]
     },
     "execution_count": 1114,
     "metadata": {},
     "output_type": "execute_result"
    }
   ],
   "source": [
    "df['CNPJ_CPF'].value_counts().head(15)"
   ]
  },
  {
   "cell_type": "code",
   "execution_count": 1115,
   "id": "98427911",
   "metadata": {},
   "outputs": [],
   "source": [
    "# Agrupar os dados por CNPJ/CPF e obter o fornecedor mais frequente\n",
    "banco_agrupado = df.groupby('CNPJ_CPF')['FORNECEDOR'].agg(lambda x: x.value_counts().index[0])\n",
    "\n",
    "# Mapear os valores do dicionário para o DataFrame\n",
    "df['FORNECEDOR'] = df['CNPJ_CPF'].map(banco_agrupado)\n"
   ]
  },
  {
   "cell_type": "markdown",
   "id": "a76b4d48",
   "metadata": {},
   "source": [
    "# <font color=\"#FFA17A\" style=\"font-size: 30px;\">2. Data Visualization & Storytelling</font>\n",
    "<hr style=\"border: 2px solid #FFA17A;\">"
   ]
  },
  {
   "cell_type": "markdown",
   "id": "7b97675f",
   "metadata": {},
   "source": [
    "1.<font color=#40634D style=\"font-size: 25px;\"> Quais senadores mais fizeram declaração de despesas?</font>\n",
    "---\n",
    "2.<font color=#40634D style=\"font-size: 25px;\"> Quais senadores gastaram mais?</font> \n",
    "---\n",
    "3.<font color=#40634D style=\"font-size: 25px;\"> Qual o tipo de despesa mais recorrente?</font>\n",
    "---\n",
    "4.<font color=#40634D style=\"font-size: 25px;\"> Em ano de eleições os senadores gastam mais? 2022</font>\n",
    "---\n",
    "5.<font color=#40634D style=\"font-size: 25px;\"> Em qual mês os senadores gastam mais?</font>\n",
    "---"
   ]
  },
  {
   "cell_type": "code",
   "execution_count": 1116,
   "id": "c97d22fd",
   "metadata": {},
   "outputs": [
    {
     "data": {
      "text/html": [
       "<div>\n",
       "<style scoped>\n",
       "    .dataframe tbody tr th:only-of-type {\n",
       "        vertical-align: middle;\n",
       "    }\n",
       "\n",
       "    .dataframe tbody tr th {\n",
       "        vertical-align: top;\n",
       "    }\n",
       "\n",
       "    .dataframe thead th {\n",
       "        text-align: right;\n",
       "    }\n",
       "</style>\n",
       "<table border=\"1\" class=\"dataframe\">\n",
       "  <thead>\n",
       "    <tr style=\"text-align: right;\">\n",
       "      <th></th>\n",
       "      <th>SENADOR</th>\n",
       "      <th>VALOR_REEMBOLSADO</th>\n",
       "    </tr>\n",
       "  </thead>\n",
       "  <tbody>\n",
       "    <tr>\n",
       "      <th>0</th>\n",
       "      <td>PAULO ROCHA</td>\n",
       "      <td>2291289</td>\n",
       "    </tr>\n",
       "    <tr>\n",
       "      <th>1</th>\n",
       "      <td>TELMÁRIO MOTA</td>\n",
       "      <td>2267261</td>\n",
       "    </tr>\n",
       "    <tr>\n",
       "      <th>2</th>\n",
       "      <td>EDUARDO BRAGA</td>\n",
       "      <td>2213125</td>\n",
       "    </tr>\n",
       "    <tr>\n",
       "      <th>3</th>\n",
       "      <td>ROBERTO ROCHA</td>\n",
       "      <td>2113934</td>\n",
       "    </tr>\n",
       "    <tr>\n",
       "      <th>4</th>\n",
       "      <td>OMAR AZIZ</td>\n",
       "      <td>2112470</td>\n",
       "    </tr>\n",
       "    <tr>\n",
       "      <th>5</th>\n",
       "      <td>WELLINGTON FAGUNDES</td>\n",
       "      <td>2089713</td>\n",
       "    </tr>\n",
       "    <tr>\n",
       "      <th>6</th>\n",
       "      <td>SÉRGIO PETECÃO</td>\n",
       "      <td>1940942</td>\n",
       "    </tr>\n",
       "    <tr>\n",
       "      <th>7</th>\n",
       "      <td>HUMBERTO COSTA</td>\n",
       "      <td>1930217</td>\n",
       "    </tr>\n",
       "  </tbody>\n",
       "</table>\n",
       "</div>"
      ],
      "text/plain": [
       "               SENADOR  VALOR_REEMBOLSADO\n",
       "0          PAULO ROCHA            2291289\n",
       "1        TELMÁRIO MOTA            2267261\n",
       "2        EDUARDO BRAGA            2213125\n",
       "3        ROBERTO ROCHA            2113934\n",
       "4            OMAR AZIZ            2112470\n",
       "5  WELLINGTON FAGUNDES            2089713\n",
       "6       SÉRGIO PETECÃO            1940942\n",
       "7       HUMBERTO COSTA            1930217"
      ]
     },
     "execution_count": 1116,
     "metadata": {},
     "output_type": "execute_result"
    }
   ],
   "source": [
    "senadores = round(df.groupby('SENADOR').agg({'VALOR_REEMBOLSADO': 'sum'}).sort_values(by ='VALOR_REEMBOLSADO', ascending=False),0).astype(int).reset_index().head(8)\n",
    "senadores"
   ]
  },
  {
   "cell_type": "code",
   "execution_count": 1117,
   "id": "6116b147",
   "metadata": {},
   "outputs": [
    {
     "data": {
      "text/plain": [
       "0    2776\n",
       "1    2578\n",
       "2    2414\n",
       "3    2136\n",
       "4    2077\n",
       "5    2030\n",
       "6    1943\n",
       "7    1841\n",
       "Name: SENADOR, dtype: int64"
      ]
     },
     "execution_count": 1117,
     "metadata": {},
     "output_type": "execute_result"
    }
   ],
   "source": [
    "senadores_contagem = df['SENADOR'].value_counts().to_frame().reset_index().head(8)\n",
    "senadores_contagem['SENADOR']"
   ]
  },
  {
   "cell_type": "code",
   "execution_count": 1118,
   "id": "151aa5ff",
   "metadata": {},
   "outputs": [
    {
     "data": {
      "application/vnd.plotly.v1+json": {
       "config": {
        "plotlyServerURL": "https://plot.ly"
       },
       "data": [
        {
         "type": "bar",
         "x": [
          "WELLINGTON FAGUNDES",
          "HUMBERTO COSTA",
          "PAULO PAIM",
          "CARLOS VIANA",
          "JAQUES WAGNER",
          "JOSÉ SERRA",
          "FERNANDO BEZERRA COELHO",
          "TELMÁRIO MOTA"
         ],
         "y": [
          2776,
          2578,
          2414,
          2136,
          2077,
          2030,
          1943,
          1841
         ]
        }
       ],
       "layout": {
        "template": {
         "data": {
          "bar": [
           {
            "error_x": {
             "color": "#2a3f5f"
            },
            "error_y": {
             "color": "#2a3f5f"
            },
            "marker": {
             "line": {
              "color": "#E5ECF6",
              "width": 0.5
             },
             "pattern": {
              "fillmode": "overlay",
              "size": 10,
              "solidity": 0.2
             }
            },
            "type": "bar"
           }
          ],
          "barpolar": [
           {
            "marker": {
             "line": {
              "color": "#E5ECF6",
              "width": 0.5
             },
             "pattern": {
              "fillmode": "overlay",
              "size": 10,
              "solidity": 0.2
             }
            },
            "type": "barpolar"
           }
          ],
          "carpet": [
           {
            "aaxis": {
             "endlinecolor": "#2a3f5f",
             "gridcolor": "white",
             "linecolor": "white",
             "minorgridcolor": "white",
             "startlinecolor": "#2a3f5f"
            },
            "baxis": {
             "endlinecolor": "#2a3f5f",
             "gridcolor": "white",
             "linecolor": "white",
             "minorgridcolor": "white",
             "startlinecolor": "#2a3f5f"
            },
            "type": "carpet"
           }
          ],
          "choropleth": [
           {
            "colorbar": {
             "outlinewidth": 0,
             "ticks": ""
            },
            "type": "choropleth"
           }
          ],
          "contour": [
           {
            "colorbar": {
             "outlinewidth": 0,
             "ticks": ""
            },
            "colorscale": [
             [
              0,
              "#0d0887"
             ],
             [
              0.1111111111111111,
              "#46039f"
             ],
             [
              0.2222222222222222,
              "#7201a8"
             ],
             [
              0.3333333333333333,
              "#9c179e"
             ],
             [
              0.4444444444444444,
              "#bd3786"
             ],
             [
              0.5555555555555556,
              "#d8576b"
             ],
             [
              0.6666666666666666,
              "#ed7953"
             ],
             [
              0.7777777777777778,
              "#fb9f3a"
             ],
             [
              0.8888888888888888,
              "#fdca26"
             ],
             [
              1,
              "#f0f921"
             ]
            ],
            "type": "contour"
           }
          ],
          "contourcarpet": [
           {
            "colorbar": {
             "outlinewidth": 0,
             "ticks": ""
            },
            "type": "contourcarpet"
           }
          ],
          "heatmap": [
           {
            "colorbar": {
             "outlinewidth": 0,
             "ticks": ""
            },
            "colorscale": [
             [
              0,
              "#0d0887"
             ],
             [
              0.1111111111111111,
              "#46039f"
             ],
             [
              0.2222222222222222,
              "#7201a8"
             ],
             [
              0.3333333333333333,
              "#9c179e"
             ],
             [
              0.4444444444444444,
              "#bd3786"
             ],
             [
              0.5555555555555556,
              "#d8576b"
             ],
             [
              0.6666666666666666,
              "#ed7953"
             ],
             [
              0.7777777777777778,
              "#fb9f3a"
             ],
             [
              0.8888888888888888,
              "#fdca26"
             ],
             [
              1,
              "#f0f921"
             ]
            ],
            "type": "heatmap"
           }
          ],
          "heatmapgl": [
           {
            "colorbar": {
             "outlinewidth": 0,
             "ticks": ""
            },
            "colorscale": [
             [
              0,
              "#0d0887"
             ],
             [
              0.1111111111111111,
              "#46039f"
             ],
             [
              0.2222222222222222,
              "#7201a8"
             ],
             [
              0.3333333333333333,
              "#9c179e"
             ],
             [
              0.4444444444444444,
              "#bd3786"
             ],
             [
              0.5555555555555556,
              "#d8576b"
             ],
             [
              0.6666666666666666,
              "#ed7953"
             ],
             [
              0.7777777777777778,
              "#fb9f3a"
             ],
             [
              0.8888888888888888,
              "#fdca26"
             ],
             [
              1,
              "#f0f921"
             ]
            ],
            "type": "heatmapgl"
           }
          ],
          "histogram": [
           {
            "marker": {
             "pattern": {
              "fillmode": "overlay",
              "size": 10,
              "solidity": 0.2
             }
            },
            "type": "histogram"
           }
          ],
          "histogram2d": [
           {
            "colorbar": {
             "outlinewidth": 0,
             "ticks": ""
            },
            "colorscale": [
             [
              0,
              "#0d0887"
             ],
             [
              0.1111111111111111,
              "#46039f"
             ],
             [
              0.2222222222222222,
              "#7201a8"
             ],
             [
              0.3333333333333333,
              "#9c179e"
             ],
             [
              0.4444444444444444,
              "#bd3786"
             ],
             [
              0.5555555555555556,
              "#d8576b"
             ],
             [
              0.6666666666666666,
              "#ed7953"
             ],
             [
              0.7777777777777778,
              "#fb9f3a"
             ],
             [
              0.8888888888888888,
              "#fdca26"
             ],
             [
              1,
              "#f0f921"
             ]
            ],
            "type": "histogram2d"
           }
          ],
          "histogram2dcontour": [
           {
            "colorbar": {
             "outlinewidth": 0,
             "ticks": ""
            },
            "colorscale": [
             [
              0,
              "#0d0887"
             ],
             [
              0.1111111111111111,
              "#46039f"
             ],
             [
              0.2222222222222222,
              "#7201a8"
             ],
             [
              0.3333333333333333,
              "#9c179e"
             ],
             [
              0.4444444444444444,
              "#bd3786"
             ],
             [
              0.5555555555555556,
              "#d8576b"
             ],
             [
              0.6666666666666666,
              "#ed7953"
             ],
             [
              0.7777777777777778,
              "#fb9f3a"
             ],
             [
              0.8888888888888888,
              "#fdca26"
             ],
             [
              1,
              "#f0f921"
             ]
            ],
            "type": "histogram2dcontour"
           }
          ],
          "mesh3d": [
           {
            "colorbar": {
             "outlinewidth": 0,
             "ticks": ""
            },
            "type": "mesh3d"
           }
          ],
          "parcoords": [
           {
            "line": {
             "colorbar": {
              "outlinewidth": 0,
              "ticks": ""
             }
            },
            "type": "parcoords"
           }
          ],
          "pie": [
           {
            "automargin": true,
            "type": "pie"
           }
          ],
          "scatter": [
           {
            "fillpattern": {
             "fillmode": "overlay",
             "size": 10,
             "solidity": 0.2
            },
            "type": "scatter"
           }
          ],
          "scatter3d": [
           {
            "line": {
             "colorbar": {
              "outlinewidth": 0,
              "ticks": ""
             }
            },
            "marker": {
             "colorbar": {
              "outlinewidth": 0,
              "ticks": ""
             }
            },
            "type": "scatter3d"
           }
          ],
          "scattercarpet": [
           {
            "marker": {
             "colorbar": {
              "outlinewidth": 0,
              "ticks": ""
             }
            },
            "type": "scattercarpet"
           }
          ],
          "scattergeo": [
           {
            "marker": {
             "colorbar": {
              "outlinewidth": 0,
              "ticks": ""
             }
            },
            "type": "scattergeo"
           }
          ],
          "scattergl": [
           {
            "marker": {
             "colorbar": {
              "outlinewidth": 0,
              "ticks": ""
             }
            },
            "type": "scattergl"
           }
          ],
          "scattermapbox": [
           {
            "marker": {
             "colorbar": {
              "outlinewidth": 0,
              "ticks": ""
             }
            },
            "type": "scattermapbox"
           }
          ],
          "scatterpolar": [
           {
            "marker": {
             "colorbar": {
              "outlinewidth": 0,
              "ticks": ""
             }
            },
            "type": "scatterpolar"
           }
          ],
          "scatterpolargl": [
           {
            "marker": {
             "colorbar": {
              "outlinewidth": 0,
              "ticks": ""
             }
            },
            "type": "scatterpolargl"
           }
          ],
          "scatterternary": [
           {
            "marker": {
             "colorbar": {
              "outlinewidth": 0,
              "ticks": ""
             }
            },
            "type": "scatterternary"
           }
          ],
          "surface": [
           {
            "colorbar": {
             "outlinewidth": 0,
             "ticks": ""
            },
            "colorscale": [
             [
              0,
              "#0d0887"
             ],
             [
              0.1111111111111111,
              "#46039f"
             ],
             [
              0.2222222222222222,
              "#7201a8"
             ],
             [
              0.3333333333333333,
              "#9c179e"
             ],
             [
              0.4444444444444444,
              "#bd3786"
             ],
             [
              0.5555555555555556,
              "#d8576b"
             ],
             [
              0.6666666666666666,
              "#ed7953"
             ],
             [
              0.7777777777777778,
              "#fb9f3a"
             ],
             [
              0.8888888888888888,
              "#fdca26"
             ],
             [
              1,
              "#f0f921"
             ]
            ],
            "type": "surface"
           }
          ],
          "table": [
           {
            "cells": {
             "fill": {
              "color": "#EBF0F8"
             },
             "line": {
              "color": "white"
             }
            },
            "header": {
             "fill": {
              "color": "#C8D4E3"
             },
             "line": {
              "color": "white"
             }
            },
            "type": "table"
           }
          ]
         },
         "layout": {
          "annotationdefaults": {
           "arrowcolor": "#2a3f5f",
           "arrowhead": 0,
           "arrowwidth": 1
          },
          "autotypenumbers": "strict",
          "coloraxis": {
           "colorbar": {
            "outlinewidth": 0,
            "ticks": ""
           }
          },
          "colorscale": {
           "diverging": [
            [
             0,
             "#8e0152"
            ],
            [
             0.1,
             "#c51b7d"
            ],
            [
             0.2,
             "#de77ae"
            ],
            [
             0.3,
             "#f1b6da"
            ],
            [
             0.4,
             "#fde0ef"
            ],
            [
             0.5,
             "#f7f7f7"
            ],
            [
             0.6,
             "#e6f5d0"
            ],
            [
             0.7,
             "#b8e186"
            ],
            [
             0.8,
             "#7fbc41"
            ],
            [
             0.9,
             "#4d9221"
            ],
            [
             1,
             "#276419"
            ]
           ],
           "sequential": [
            [
             0,
             "#0d0887"
            ],
            [
             0.1111111111111111,
             "#46039f"
            ],
            [
             0.2222222222222222,
             "#7201a8"
            ],
            [
             0.3333333333333333,
             "#9c179e"
            ],
            [
             0.4444444444444444,
             "#bd3786"
            ],
            [
             0.5555555555555556,
             "#d8576b"
            ],
            [
             0.6666666666666666,
             "#ed7953"
            ],
            [
             0.7777777777777778,
             "#fb9f3a"
            ],
            [
             0.8888888888888888,
             "#fdca26"
            ],
            [
             1,
             "#f0f921"
            ]
           ],
           "sequentialminus": [
            [
             0,
             "#0d0887"
            ],
            [
             0.1111111111111111,
             "#46039f"
            ],
            [
             0.2222222222222222,
             "#7201a8"
            ],
            [
             0.3333333333333333,
             "#9c179e"
            ],
            [
             0.4444444444444444,
             "#bd3786"
            ],
            [
             0.5555555555555556,
             "#d8576b"
            ],
            [
             0.6666666666666666,
             "#ed7953"
            ],
            [
             0.7777777777777778,
             "#fb9f3a"
            ],
            [
             0.8888888888888888,
             "#fdca26"
            ],
            [
             1,
             "#f0f921"
            ]
           ]
          },
          "colorway": [
           "#636efa",
           "#EF553B",
           "#00cc96",
           "#ab63fa",
           "#FFA15A",
           "#19d3f3",
           "#FF6692",
           "#B6E880",
           "#FF97FF",
           "#FECB52"
          ],
          "font": {
           "color": "#2a3f5f"
          },
          "geo": {
           "bgcolor": "white",
           "lakecolor": "white",
           "landcolor": "#E5ECF6",
           "showlakes": true,
           "showland": true,
           "subunitcolor": "white"
          },
          "hoverlabel": {
           "align": "left"
          },
          "hovermode": "closest",
          "mapbox": {
           "style": "light"
          },
          "paper_bgcolor": "white",
          "plot_bgcolor": "#E5ECF6",
          "polar": {
           "angularaxis": {
            "gridcolor": "white",
            "linecolor": "white",
            "ticks": ""
           },
           "bgcolor": "#E5ECF6",
           "radialaxis": {
            "gridcolor": "white",
            "linecolor": "white",
            "ticks": ""
           }
          },
          "scene": {
           "xaxis": {
            "backgroundcolor": "#E5ECF6",
            "gridcolor": "white",
            "gridwidth": 2,
            "linecolor": "white",
            "showbackground": true,
            "ticks": "",
            "zerolinecolor": "white"
           },
           "yaxis": {
            "backgroundcolor": "#E5ECF6",
            "gridcolor": "white",
            "gridwidth": 2,
            "linecolor": "white",
            "showbackground": true,
            "ticks": "",
            "zerolinecolor": "white"
           },
           "zaxis": {
            "backgroundcolor": "#E5ECF6",
            "gridcolor": "white",
            "gridwidth": 2,
            "linecolor": "white",
            "showbackground": true,
            "ticks": "",
            "zerolinecolor": "white"
           }
          },
          "shapedefaults": {
           "line": {
            "color": "#2a3f5f"
           }
          },
          "ternary": {
           "aaxis": {
            "gridcolor": "white",
            "linecolor": "white",
            "ticks": ""
           },
           "baxis": {
            "gridcolor": "white",
            "linecolor": "white",
            "ticks": ""
           },
           "bgcolor": "#E5ECF6",
           "caxis": {
            "gridcolor": "white",
            "linecolor": "white",
            "ticks": ""
           }
          },
          "title": {
           "x": 0.05
          },
          "xaxis": {
           "automargin": true,
           "gridcolor": "white",
           "linecolor": "white",
           "ticks": "",
           "title": {
            "standoff": 15
           },
           "zerolinecolor": "white",
           "zerolinewidth": 2
          },
          "yaxis": {
           "automargin": true,
           "gridcolor": "white",
           "linecolor": "white",
           "ticks": "",
           "title": {
            "standoff": 15
           },
           "zerolinecolor": "white",
           "zerolinewidth": 2
          }
         }
        },
        "title": {
         "text": "SENADORES QUE MAIS FIZERAM DECLARAÇÃO DE DESPESAS",
         "x": 0.5
        }
       }
      },
      "text/html": [
       "<div>                            <div id=\"e7f00ce8-42de-420d-8c3c-6d7f2539cee2\" class=\"plotly-graph-div\" style=\"height:525px; width:100%;\"></div>            <script type=\"text/javascript\">                require([\"plotly\"], function(Plotly) {                    window.PLOTLYENV=window.PLOTLYENV || {};                                    if (document.getElementById(\"e7f00ce8-42de-420d-8c3c-6d7f2539cee2\")) {                    Plotly.newPlot(                        \"e7f00ce8-42de-420d-8c3c-6d7f2539cee2\",                        [{\"x\":[\"WELLINGTON FAGUNDES\",\"HUMBERTO COSTA\",\"PAULO PAIM\",\"CARLOS VIANA\",\"JAQUES WAGNER\",\"JOS\\u00c9 SERRA\",\"FERNANDO BEZERRA COELHO\",\"TELM\\u00c1RIO MOTA\"],\"y\":[2776,2578,2414,2136,2077,2030,1943,1841],\"type\":\"bar\"}],                        {\"template\":{\"data\":{\"histogram2dcontour\":[{\"type\":\"histogram2dcontour\",\"colorbar\":{\"outlinewidth\":0,\"ticks\":\"\"},\"colorscale\":[[0.0,\"#0d0887\"],[0.1111111111111111,\"#46039f\"],[0.2222222222222222,\"#7201a8\"],[0.3333333333333333,\"#9c179e\"],[0.4444444444444444,\"#bd3786\"],[0.5555555555555556,\"#d8576b\"],[0.6666666666666666,\"#ed7953\"],[0.7777777777777778,\"#fb9f3a\"],[0.8888888888888888,\"#fdca26\"],[1.0,\"#f0f921\"]]}],\"choropleth\":[{\"type\":\"choropleth\",\"colorbar\":{\"outlinewidth\":0,\"ticks\":\"\"}}],\"histogram2d\":[{\"type\":\"histogram2d\",\"colorbar\":{\"outlinewidth\":0,\"ticks\":\"\"},\"colorscale\":[[0.0,\"#0d0887\"],[0.1111111111111111,\"#46039f\"],[0.2222222222222222,\"#7201a8\"],[0.3333333333333333,\"#9c179e\"],[0.4444444444444444,\"#bd3786\"],[0.5555555555555556,\"#d8576b\"],[0.6666666666666666,\"#ed7953\"],[0.7777777777777778,\"#fb9f3a\"],[0.8888888888888888,\"#fdca26\"],[1.0,\"#f0f921\"]]}],\"heatmap\":[{\"type\":\"heatmap\",\"colorbar\":{\"outlinewidth\":0,\"ticks\":\"\"},\"colorscale\":[[0.0,\"#0d0887\"],[0.1111111111111111,\"#46039f\"],[0.2222222222222222,\"#7201a8\"],[0.3333333333333333,\"#9c179e\"],[0.4444444444444444,\"#bd3786\"],[0.5555555555555556,\"#d8576b\"],[0.6666666666666666,\"#ed7953\"],[0.7777777777777778,\"#fb9f3a\"],[0.8888888888888888,\"#fdca26\"],[1.0,\"#f0f921\"]]}],\"heatmapgl\":[{\"type\":\"heatmapgl\",\"colorbar\":{\"outlinewidth\":0,\"ticks\":\"\"},\"colorscale\":[[0.0,\"#0d0887\"],[0.1111111111111111,\"#46039f\"],[0.2222222222222222,\"#7201a8\"],[0.3333333333333333,\"#9c179e\"],[0.4444444444444444,\"#bd3786\"],[0.5555555555555556,\"#d8576b\"],[0.6666666666666666,\"#ed7953\"],[0.7777777777777778,\"#fb9f3a\"],[0.8888888888888888,\"#fdca26\"],[1.0,\"#f0f921\"]]}],\"contourcarpet\":[{\"type\":\"contourcarpet\",\"colorbar\":{\"outlinewidth\":0,\"ticks\":\"\"}}],\"contour\":[{\"type\":\"contour\",\"colorbar\":{\"outlinewidth\":0,\"ticks\":\"\"},\"colorscale\":[[0.0,\"#0d0887\"],[0.1111111111111111,\"#46039f\"],[0.2222222222222222,\"#7201a8\"],[0.3333333333333333,\"#9c179e\"],[0.4444444444444444,\"#bd3786\"],[0.5555555555555556,\"#d8576b\"],[0.6666666666666666,\"#ed7953\"],[0.7777777777777778,\"#fb9f3a\"],[0.8888888888888888,\"#fdca26\"],[1.0,\"#f0f921\"]]}],\"surface\":[{\"type\":\"surface\",\"colorbar\":{\"outlinewidth\":0,\"ticks\":\"\"},\"colorscale\":[[0.0,\"#0d0887\"],[0.1111111111111111,\"#46039f\"],[0.2222222222222222,\"#7201a8\"],[0.3333333333333333,\"#9c179e\"],[0.4444444444444444,\"#bd3786\"],[0.5555555555555556,\"#d8576b\"],[0.6666666666666666,\"#ed7953\"],[0.7777777777777778,\"#fb9f3a\"],[0.8888888888888888,\"#fdca26\"],[1.0,\"#f0f921\"]]}],\"mesh3d\":[{\"type\":\"mesh3d\",\"colorbar\":{\"outlinewidth\":0,\"ticks\":\"\"}}],\"scatter\":[{\"fillpattern\":{\"fillmode\":\"overlay\",\"size\":10,\"solidity\":0.2},\"type\":\"scatter\"}],\"parcoords\":[{\"type\":\"parcoords\",\"line\":{\"colorbar\":{\"outlinewidth\":0,\"ticks\":\"\"}}}],\"scatterpolargl\":[{\"type\":\"scatterpolargl\",\"marker\":{\"colorbar\":{\"outlinewidth\":0,\"ticks\":\"\"}}}],\"bar\":[{\"error_x\":{\"color\":\"#2a3f5f\"},\"error_y\":{\"color\":\"#2a3f5f\"},\"marker\":{\"line\":{\"color\":\"#E5ECF6\",\"width\":0.5},\"pattern\":{\"fillmode\":\"overlay\",\"size\":10,\"solidity\":0.2}},\"type\":\"bar\"}],\"scattergeo\":[{\"type\":\"scattergeo\",\"marker\":{\"colorbar\":{\"outlinewidth\":0,\"ticks\":\"\"}}}],\"scatterpolar\":[{\"type\":\"scatterpolar\",\"marker\":{\"colorbar\":{\"outlinewidth\":0,\"ticks\":\"\"}}}],\"histogram\":[{\"marker\":{\"pattern\":{\"fillmode\":\"overlay\",\"size\":10,\"solidity\":0.2}},\"type\":\"histogram\"}],\"scattergl\":[{\"type\":\"scattergl\",\"marker\":{\"colorbar\":{\"outlinewidth\":0,\"ticks\":\"\"}}}],\"scatter3d\":[{\"type\":\"scatter3d\",\"line\":{\"colorbar\":{\"outlinewidth\":0,\"ticks\":\"\"}},\"marker\":{\"colorbar\":{\"outlinewidth\":0,\"ticks\":\"\"}}}],\"scattermapbox\":[{\"type\":\"scattermapbox\",\"marker\":{\"colorbar\":{\"outlinewidth\":0,\"ticks\":\"\"}}}],\"scatterternary\":[{\"type\":\"scatterternary\",\"marker\":{\"colorbar\":{\"outlinewidth\":0,\"ticks\":\"\"}}}],\"scattercarpet\":[{\"type\":\"scattercarpet\",\"marker\":{\"colorbar\":{\"outlinewidth\":0,\"ticks\":\"\"}}}],\"carpet\":[{\"aaxis\":{\"endlinecolor\":\"#2a3f5f\",\"gridcolor\":\"white\",\"linecolor\":\"white\",\"minorgridcolor\":\"white\",\"startlinecolor\":\"#2a3f5f\"},\"baxis\":{\"endlinecolor\":\"#2a3f5f\",\"gridcolor\":\"white\",\"linecolor\":\"white\",\"minorgridcolor\":\"white\",\"startlinecolor\":\"#2a3f5f\"},\"type\":\"carpet\"}],\"table\":[{\"cells\":{\"fill\":{\"color\":\"#EBF0F8\"},\"line\":{\"color\":\"white\"}},\"header\":{\"fill\":{\"color\":\"#C8D4E3\"},\"line\":{\"color\":\"white\"}},\"type\":\"table\"}],\"barpolar\":[{\"marker\":{\"line\":{\"color\":\"#E5ECF6\",\"width\":0.5},\"pattern\":{\"fillmode\":\"overlay\",\"size\":10,\"solidity\":0.2}},\"type\":\"barpolar\"}],\"pie\":[{\"automargin\":true,\"type\":\"pie\"}]},\"layout\":{\"autotypenumbers\":\"strict\",\"colorway\":[\"#636efa\",\"#EF553B\",\"#00cc96\",\"#ab63fa\",\"#FFA15A\",\"#19d3f3\",\"#FF6692\",\"#B6E880\",\"#FF97FF\",\"#FECB52\"],\"font\":{\"color\":\"#2a3f5f\"},\"hovermode\":\"closest\",\"hoverlabel\":{\"align\":\"left\"},\"paper_bgcolor\":\"white\",\"plot_bgcolor\":\"#E5ECF6\",\"polar\":{\"bgcolor\":\"#E5ECF6\",\"angularaxis\":{\"gridcolor\":\"white\",\"linecolor\":\"white\",\"ticks\":\"\"},\"radialaxis\":{\"gridcolor\":\"white\",\"linecolor\":\"white\",\"ticks\":\"\"}},\"ternary\":{\"bgcolor\":\"#E5ECF6\",\"aaxis\":{\"gridcolor\":\"white\",\"linecolor\":\"white\",\"ticks\":\"\"},\"baxis\":{\"gridcolor\":\"white\",\"linecolor\":\"white\",\"ticks\":\"\"},\"caxis\":{\"gridcolor\":\"white\",\"linecolor\":\"white\",\"ticks\":\"\"}},\"coloraxis\":{\"colorbar\":{\"outlinewidth\":0,\"ticks\":\"\"}},\"colorscale\":{\"sequential\":[[0.0,\"#0d0887\"],[0.1111111111111111,\"#46039f\"],[0.2222222222222222,\"#7201a8\"],[0.3333333333333333,\"#9c179e\"],[0.4444444444444444,\"#bd3786\"],[0.5555555555555556,\"#d8576b\"],[0.6666666666666666,\"#ed7953\"],[0.7777777777777778,\"#fb9f3a\"],[0.8888888888888888,\"#fdca26\"],[1.0,\"#f0f921\"]],\"sequentialminus\":[[0.0,\"#0d0887\"],[0.1111111111111111,\"#46039f\"],[0.2222222222222222,\"#7201a8\"],[0.3333333333333333,\"#9c179e\"],[0.4444444444444444,\"#bd3786\"],[0.5555555555555556,\"#d8576b\"],[0.6666666666666666,\"#ed7953\"],[0.7777777777777778,\"#fb9f3a\"],[0.8888888888888888,\"#fdca26\"],[1.0,\"#f0f921\"]],\"diverging\":[[0,\"#8e0152\"],[0.1,\"#c51b7d\"],[0.2,\"#de77ae\"],[0.3,\"#f1b6da\"],[0.4,\"#fde0ef\"],[0.5,\"#f7f7f7\"],[0.6,\"#e6f5d0\"],[0.7,\"#b8e186\"],[0.8,\"#7fbc41\"],[0.9,\"#4d9221\"],[1,\"#276419\"]]},\"xaxis\":{\"gridcolor\":\"white\",\"linecolor\":\"white\",\"ticks\":\"\",\"title\":{\"standoff\":15},\"zerolinecolor\":\"white\",\"automargin\":true,\"zerolinewidth\":2},\"yaxis\":{\"gridcolor\":\"white\",\"linecolor\":\"white\",\"ticks\":\"\",\"title\":{\"standoff\":15},\"zerolinecolor\":\"white\",\"automargin\":true,\"zerolinewidth\":2},\"scene\":{\"xaxis\":{\"backgroundcolor\":\"#E5ECF6\",\"gridcolor\":\"white\",\"linecolor\":\"white\",\"showbackground\":true,\"ticks\":\"\",\"zerolinecolor\":\"white\",\"gridwidth\":2},\"yaxis\":{\"backgroundcolor\":\"#E5ECF6\",\"gridcolor\":\"white\",\"linecolor\":\"white\",\"showbackground\":true,\"ticks\":\"\",\"zerolinecolor\":\"white\",\"gridwidth\":2},\"zaxis\":{\"backgroundcolor\":\"#E5ECF6\",\"gridcolor\":\"white\",\"linecolor\":\"white\",\"showbackground\":true,\"ticks\":\"\",\"zerolinecolor\":\"white\",\"gridwidth\":2}},\"shapedefaults\":{\"line\":{\"color\":\"#2a3f5f\"}},\"annotationdefaults\":{\"arrowcolor\":\"#2a3f5f\",\"arrowhead\":0,\"arrowwidth\":1},\"geo\":{\"bgcolor\":\"white\",\"landcolor\":\"#E5ECF6\",\"subunitcolor\":\"white\",\"showland\":true,\"showlakes\":true,\"lakecolor\":\"white\"},\"title\":{\"x\":0.05},\"mapbox\":{\"style\":\"light\"}}},\"title\":{\"text\":\"SENADORES QUE MAIS FIZERAM DECLARA\\u00c7\\u00c3O DE DESPESAS\",\"x\":0.5}},                        {\"responsive\": true}                    ).then(function(){\n",
       "                            \n",
       "var gd = document.getElementById('e7f00ce8-42de-420d-8c3c-6d7f2539cee2');\n",
       "var x = new MutationObserver(function (mutations, observer) {{\n",
       "        var display = window.getComputedStyle(gd).display;\n",
       "        if (!display || display === 'none') {{\n",
       "            console.log([gd, 'removed!']);\n",
       "            Plotly.purge(gd);\n",
       "            observer.disconnect();\n",
       "        }}\n",
       "}});\n",
       "\n",
       "// Listen for the removal of the full notebook cells\n",
       "var notebookContainer = gd.closest('#notebook-container');\n",
       "if (notebookContainer) {{\n",
       "    x.observe(notebookContainer, {childList: true});\n",
       "}}\n",
       "\n",
       "// Listen for the clearing of the current output cell\n",
       "var outputEl = gd.closest('.output');\n",
       "if (outputEl) {{\n",
       "    x.observe(outputEl, {childList: true});\n",
       "}}\n",
       "\n",
       "                        })                };                });            </script>        </div>"
      ]
     },
     "metadata": {},
     "output_type": "display_data"
    },
    {
     "data": {
      "application/vnd.plotly.v1+json": {
       "config": {
        "plotlyServerURL": "https://plot.ly"
       },
       "data": [
        {
         "type": "bar",
         "x": [
          "PAULO ROCHA",
          "TELMÁRIO MOTA",
          "EDUARDO BRAGA",
          "ROBERTO ROCHA",
          "OMAR AZIZ",
          "WELLINGTON FAGUNDES",
          "SÉRGIO PETECÃO",
          "HUMBERTO COSTA"
         ],
         "y": [
          2291289,
          2267261,
          2213125,
          2113934,
          2112470,
          2089713,
          1940942,
          1930217
         ]
        }
       ],
       "layout": {
        "template": {
         "data": {
          "bar": [
           {
            "error_x": {
             "color": "#2a3f5f"
            },
            "error_y": {
             "color": "#2a3f5f"
            },
            "marker": {
             "line": {
              "color": "#E5ECF6",
              "width": 0.5
             },
             "pattern": {
              "fillmode": "overlay",
              "size": 10,
              "solidity": 0.2
             }
            },
            "type": "bar"
           }
          ],
          "barpolar": [
           {
            "marker": {
             "line": {
              "color": "#E5ECF6",
              "width": 0.5
             },
             "pattern": {
              "fillmode": "overlay",
              "size": 10,
              "solidity": 0.2
             }
            },
            "type": "barpolar"
           }
          ],
          "carpet": [
           {
            "aaxis": {
             "endlinecolor": "#2a3f5f",
             "gridcolor": "white",
             "linecolor": "white",
             "minorgridcolor": "white",
             "startlinecolor": "#2a3f5f"
            },
            "baxis": {
             "endlinecolor": "#2a3f5f",
             "gridcolor": "white",
             "linecolor": "white",
             "minorgridcolor": "white",
             "startlinecolor": "#2a3f5f"
            },
            "type": "carpet"
           }
          ],
          "choropleth": [
           {
            "colorbar": {
             "outlinewidth": 0,
             "ticks": ""
            },
            "type": "choropleth"
           }
          ],
          "contour": [
           {
            "colorbar": {
             "outlinewidth": 0,
             "ticks": ""
            },
            "colorscale": [
             [
              0,
              "#0d0887"
             ],
             [
              0.1111111111111111,
              "#46039f"
             ],
             [
              0.2222222222222222,
              "#7201a8"
             ],
             [
              0.3333333333333333,
              "#9c179e"
             ],
             [
              0.4444444444444444,
              "#bd3786"
             ],
             [
              0.5555555555555556,
              "#d8576b"
             ],
             [
              0.6666666666666666,
              "#ed7953"
             ],
             [
              0.7777777777777778,
              "#fb9f3a"
             ],
             [
              0.8888888888888888,
              "#fdca26"
             ],
             [
              1,
              "#f0f921"
             ]
            ],
            "type": "contour"
           }
          ],
          "contourcarpet": [
           {
            "colorbar": {
             "outlinewidth": 0,
             "ticks": ""
            },
            "type": "contourcarpet"
           }
          ],
          "heatmap": [
           {
            "colorbar": {
             "outlinewidth": 0,
             "ticks": ""
            },
            "colorscale": [
             [
              0,
              "#0d0887"
             ],
             [
              0.1111111111111111,
              "#46039f"
             ],
             [
              0.2222222222222222,
              "#7201a8"
             ],
             [
              0.3333333333333333,
              "#9c179e"
             ],
             [
              0.4444444444444444,
              "#bd3786"
             ],
             [
              0.5555555555555556,
              "#d8576b"
             ],
             [
              0.6666666666666666,
              "#ed7953"
             ],
             [
              0.7777777777777778,
              "#fb9f3a"
             ],
             [
              0.8888888888888888,
              "#fdca26"
             ],
             [
              1,
              "#f0f921"
             ]
            ],
            "type": "heatmap"
           }
          ],
          "heatmapgl": [
           {
            "colorbar": {
             "outlinewidth": 0,
             "ticks": ""
            },
            "colorscale": [
             [
              0,
              "#0d0887"
             ],
             [
              0.1111111111111111,
              "#46039f"
             ],
             [
              0.2222222222222222,
              "#7201a8"
             ],
             [
              0.3333333333333333,
              "#9c179e"
             ],
             [
              0.4444444444444444,
              "#bd3786"
             ],
             [
              0.5555555555555556,
              "#d8576b"
             ],
             [
              0.6666666666666666,
              "#ed7953"
             ],
             [
              0.7777777777777778,
              "#fb9f3a"
             ],
             [
              0.8888888888888888,
              "#fdca26"
             ],
             [
              1,
              "#f0f921"
             ]
            ],
            "type": "heatmapgl"
           }
          ],
          "histogram": [
           {
            "marker": {
             "pattern": {
              "fillmode": "overlay",
              "size": 10,
              "solidity": 0.2
             }
            },
            "type": "histogram"
           }
          ],
          "histogram2d": [
           {
            "colorbar": {
             "outlinewidth": 0,
             "ticks": ""
            },
            "colorscale": [
             [
              0,
              "#0d0887"
             ],
             [
              0.1111111111111111,
              "#46039f"
             ],
             [
              0.2222222222222222,
              "#7201a8"
             ],
             [
              0.3333333333333333,
              "#9c179e"
             ],
             [
              0.4444444444444444,
              "#bd3786"
             ],
             [
              0.5555555555555556,
              "#d8576b"
             ],
             [
              0.6666666666666666,
              "#ed7953"
             ],
             [
              0.7777777777777778,
              "#fb9f3a"
             ],
             [
              0.8888888888888888,
              "#fdca26"
             ],
             [
              1,
              "#f0f921"
             ]
            ],
            "type": "histogram2d"
           }
          ],
          "histogram2dcontour": [
           {
            "colorbar": {
             "outlinewidth": 0,
             "ticks": ""
            },
            "colorscale": [
             [
              0,
              "#0d0887"
             ],
             [
              0.1111111111111111,
              "#46039f"
             ],
             [
              0.2222222222222222,
              "#7201a8"
             ],
             [
              0.3333333333333333,
              "#9c179e"
             ],
             [
              0.4444444444444444,
              "#bd3786"
             ],
             [
              0.5555555555555556,
              "#d8576b"
             ],
             [
              0.6666666666666666,
              "#ed7953"
             ],
             [
              0.7777777777777778,
              "#fb9f3a"
             ],
             [
              0.8888888888888888,
              "#fdca26"
             ],
             [
              1,
              "#f0f921"
             ]
            ],
            "type": "histogram2dcontour"
           }
          ],
          "mesh3d": [
           {
            "colorbar": {
             "outlinewidth": 0,
             "ticks": ""
            },
            "type": "mesh3d"
           }
          ],
          "parcoords": [
           {
            "line": {
             "colorbar": {
              "outlinewidth": 0,
              "ticks": ""
             }
            },
            "type": "parcoords"
           }
          ],
          "pie": [
           {
            "automargin": true,
            "type": "pie"
           }
          ],
          "scatter": [
           {
            "fillpattern": {
             "fillmode": "overlay",
             "size": 10,
             "solidity": 0.2
            },
            "type": "scatter"
           }
          ],
          "scatter3d": [
           {
            "line": {
             "colorbar": {
              "outlinewidth": 0,
              "ticks": ""
             }
            },
            "marker": {
             "colorbar": {
              "outlinewidth": 0,
              "ticks": ""
             }
            },
            "type": "scatter3d"
           }
          ],
          "scattercarpet": [
           {
            "marker": {
             "colorbar": {
              "outlinewidth": 0,
              "ticks": ""
             }
            },
            "type": "scattercarpet"
           }
          ],
          "scattergeo": [
           {
            "marker": {
             "colorbar": {
              "outlinewidth": 0,
              "ticks": ""
             }
            },
            "type": "scattergeo"
           }
          ],
          "scattergl": [
           {
            "marker": {
             "colorbar": {
              "outlinewidth": 0,
              "ticks": ""
             }
            },
            "type": "scattergl"
           }
          ],
          "scattermapbox": [
           {
            "marker": {
             "colorbar": {
              "outlinewidth": 0,
              "ticks": ""
             }
            },
            "type": "scattermapbox"
           }
          ],
          "scatterpolar": [
           {
            "marker": {
             "colorbar": {
              "outlinewidth": 0,
              "ticks": ""
             }
            },
            "type": "scatterpolar"
           }
          ],
          "scatterpolargl": [
           {
            "marker": {
             "colorbar": {
              "outlinewidth": 0,
              "ticks": ""
             }
            },
            "type": "scatterpolargl"
           }
          ],
          "scatterternary": [
           {
            "marker": {
             "colorbar": {
              "outlinewidth": 0,
              "ticks": ""
             }
            },
            "type": "scatterternary"
           }
          ],
          "surface": [
           {
            "colorbar": {
             "outlinewidth": 0,
             "ticks": ""
            },
            "colorscale": [
             [
              0,
              "#0d0887"
             ],
             [
              0.1111111111111111,
              "#46039f"
             ],
             [
              0.2222222222222222,
              "#7201a8"
             ],
             [
              0.3333333333333333,
              "#9c179e"
             ],
             [
              0.4444444444444444,
              "#bd3786"
             ],
             [
              0.5555555555555556,
              "#d8576b"
             ],
             [
              0.6666666666666666,
              "#ed7953"
             ],
             [
              0.7777777777777778,
              "#fb9f3a"
             ],
             [
              0.8888888888888888,
              "#fdca26"
             ],
             [
              1,
              "#f0f921"
             ]
            ],
            "type": "surface"
           }
          ],
          "table": [
           {
            "cells": {
             "fill": {
              "color": "#EBF0F8"
             },
             "line": {
              "color": "white"
             }
            },
            "header": {
             "fill": {
              "color": "#C8D4E3"
             },
             "line": {
              "color": "white"
             }
            },
            "type": "table"
           }
          ]
         },
         "layout": {
          "annotationdefaults": {
           "arrowcolor": "#2a3f5f",
           "arrowhead": 0,
           "arrowwidth": 1
          },
          "autotypenumbers": "strict",
          "coloraxis": {
           "colorbar": {
            "outlinewidth": 0,
            "ticks": ""
           }
          },
          "colorscale": {
           "diverging": [
            [
             0,
             "#8e0152"
            ],
            [
             0.1,
             "#c51b7d"
            ],
            [
             0.2,
             "#de77ae"
            ],
            [
             0.3,
             "#f1b6da"
            ],
            [
             0.4,
             "#fde0ef"
            ],
            [
             0.5,
             "#f7f7f7"
            ],
            [
             0.6,
             "#e6f5d0"
            ],
            [
             0.7,
             "#b8e186"
            ],
            [
             0.8,
             "#7fbc41"
            ],
            [
             0.9,
             "#4d9221"
            ],
            [
             1,
             "#276419"
            ]
           ],
           "sequential": [
            [
             0,
             "#0d0887"
            ],
            [
             0.1111111111111111,
             "#46039f"
            ],
            [
             0.2222222222222222,
             "#7201a8"
            ],
            [
             0.3333333333333333,
             "#9c179e"
            ],
            [
             0.4444444444444444,
             "#bd3786"
            ],
            [
             0.5555555555555556,
             "#d8576b"
            ],
            [
             0.6666666666666666,
             "#ed7953"
            ],
            [
             0.7777777777777778,
             "#fb9f3a"
            ],
            [
             0.8888888888888888,
             "#fdca26"
            ],
            [
             1,
             "#f0f921"
            ]
           ],
           "sequentialminus": [
            [
             0,
             "#0d0887"
            ],
            [
             0.1111111111111111,
             "#46039f"
            ],
            [
             0.2222222222222222,
             "#7201a8"
            ],
            [
             0.3333333333333333,
             "#9c179e"
            ],
            [
             0.4444444444444444,
             "#bd3786"
            ],
            [
             0.5555555555555556,
             "#d8576b"
            ],
            [
             0.6666666666666666,
             "#ed7953"
            ],
            [
             0.7777777777777778,
             "#fb9f3a"
            ],
            [
             0.8888888888888888,
             "#fdca26"
            ],
            [
             1,
             "#f0f921"
            ]
           ]
          },
          "colorway": [
           "#636efa",
           "#EF553B",
           "#00cc96",
           "#ab63fa",
           "#FFA15A",
           "#19d3f3",
           "#FF6692",
           "#B6E880",
           "#FF97FF",
           "#FECB52"
          ],
          "font": {
           "color": "#2a3f5f"
          },
          "geo": {
           "bgcolor": "white",
           "lakecolor": "white",
           "landcolor": "#E5ECF6",
           "showlakes": true,
           "showland": true,
           "subunitcolor": "white"
          },
          "hoverlabel": {
           "align": "left"
          },
          "hovermode": "closest",
          "mapbox": {
           "style": "light"
          },
          "paper_bgcolor": "white",
          "plot_bgcolor": "#E5ECF6",
          "polar": {
           "angularaxis": {
            "gridcolor": "white",
            "linecolor": "white",
            "ticks": ""
           },
           "bgcolor": "#E5ECF6",
           "radialaxis": {
            "gridcolor": "white",
            "linecolor": "white",
            "ticks": ""
           }
          },
          "scene": {
           "xaxis": {
            "backgroundcolor": "#E5ECF6",
            "gridcolor": "white",
            "gridwidth": 2,
            "linecolor": "white",
            "showbackground": true,
            "ticks": "",
            "zerolinecolor": "white"
           },
           "yaxis": {
            "backgroundcolor": "#E5ECF6",
            "gridcolor": "white",
            "gridwidth": 2,
            "linecolor": "white",
            "showbackground": true,
            "ticks": "",
            "zerolinecolor": "white"
           },
           "zaxis": {
            "backgroundcolor": "#E5ECF6",
            "gridcolor": "white",
            "gridwidth": 2,
            "linecolor": "white",
            "showbackground": true,
            "ticks": "",
            "zerolinecolor": "white"
           }
          },
          "shapedefaults": {
           "line": {
            "color": "#2a3f5f"
           }
          },
          "ternary": {
           "aaxis": {
            "gridcolor": "white",
            "linecolor": "white",
            "ticks": ""
           },
           "baxis": {
            "gridcolor": "white",
            "linecolor": "white",
            "ticks": ""
           },
           "bgcolor": "#E5ECF6",
           "caxis": {
            "gridcolor": "white",
            "linecolor": "white",
            "ticks": ""
           }
          },
          "title": {
           "x": 0.05
          },
          "xaxis": {
           "automargin": true,
           "gridcolor": "white",
           "linecolor": "white",
           "ticks": "",
           "title": {
            "standoff": 15
           },
           "zerolinecolor": "white",
           "zerolinewidth": 2
          },
          "yaxis": {
           "automargin": true,
           "gridcolor": "white",
           "linecolor": "white",
           "ticks": "",
           "title": {
            "standoff": 15
           },
           "zerolinecolor": "white",
           "zerolinewidth": 2
          }
         }
        },
        "title": {
         "text": "SENADORES QUE MAIS GASTARAM",
         "x": 0.5
        }
       }
      },
      "text/html": [
       "<div>                            <div id=\"0e786620-edb5-4eb1-91d3-04045bca850c\" class=\"plotly-graph-div\" style=\"height:525px; width:100%;\"></div>            <script type=\"text/javascript\">                require([\"plotly\"], function(Plotly) {                    window.PLOTLYENV=window.PLOTLYENV || {};                                    if (document.getElementById(\"0e786620-edb5-4eb1-91d3-04045bca850c\")) {                    Plotly.newPlot(                        \"0e786620-edb5-4eb1-91d3-04045bca850c\",                        [{\"x\":[\"PAULO ROCHA\",\"TELM\\u00c1RIO MOTA\",\"EDUARDO BRAGA\",\"ROBERTO ROCHA\",\"OMAR AZIZ\",\"WELLINGTON FAGUNDES\",\"S\\u00c9RGIO PETEC\\u00c3O\",\"HUMBERTO COSTA\"],\"y\":[2291289,2267261,2213125,2113934,2112470,2089713,1940942,1930217],\"type\":\"bar\"}],                        {\"template\":{\"data\":{\"histogram2dcontour\":[{\"type\":\"histogram2dcontour\",\"colorbar\":{\"outlinewidth\":0,\"ticks\":\"\"},\"colorscale\":[[0.0,\"#0d0887\"],[0.1111111111111111,\"#46039f\"],[0.2222222222222222,\"#7201a8\"],[0.3333333333333333,\"#9c179e\"],[0.4444444444444444,\"#bd3786\"],[0.5555555555555556,\"#d8576b\"],[0.6666666666666666,\"#ed7953\"],[0.7777777777777778,\"#fb9f3a\"],[0.8888888888888888,\"#fdca26\"],[1.0,\"#f0f921\"]]}],\"choropleth\":[{\"type\":\"choropleth\",\"colorbar\":{\"outlinewidth\":0,\"ticks\":\"\"}}],\"histogram2d\":[{\"type\":\"histogram2d\",\"colorbar\":{\"outlinewidth\":0,\"ticks\":\"\"},\"colorscale\":[[0.0,\"#0d0887\"],[0.1111111111111111,\"#46039f\"],[0.2222222222222222,\"#7201a8\"],[0.3333333333333333,\"#9c179e\"],[0.4444444444444444,\"#bd3786\"],[0.5555555555555556,\"#d8576b\"],[0.6666666666666666,\"#ed7953\"],[0.7777777777777778,\"#fb9f3a\"],[0.8888888888888888,\"#fdca26\"],[1.0,\"#f0f921\"]]}],\"heatmap\":[{\"type\":\"heatmap\",\"colorbar\":{\"outlinewidth\":0,\"ticks\":\"\"},\"colorscale\":[[0.0,\"#0d0887\"],[0.1111111111111111,\"#46039f\"],[0.2222222222222222,\"#7201a8\"],[0.3333333333333333,\"#9c179e\"],[0.4444444444444444,\"#bd3786\"],[0.5555555555555556,\"#d8576b\"],[0.6666666666666666,\"#ed7953\"],[0.7777777777777778,\"#fb9f3a\"],[0.8888888888888888,\"#fdca26\"],[1.0,\"#f0f921\"]]}],\"heatmapgl\":[{\"type\":\"heatmapgl\",\"colorbar\":{\"outlinewidth\":0,\"ticks\":\"\"},\"colorscale\":[[0.0,\"#0d0887\"],[0.1111111111111111,\"#46039f\"],[0.2222222222222222,\"#7201a8\"],[0.3333333333333333,\"#9c179e\"],[0.4444444444444444,\"#bd3786\"],[0.5555555555555556,\"#d8576b\"],[0.6666666666666666,\"#ed7953\"],[0.7777777777777778,\"#fb9f3a\"],[0.8888888888888888,\"#fdca26\"],[1.0,\"#f0f921\"]]}],\"contourcarpet\":[{\"type\":\"contourcarpet\",\"colorbar\":{\"outlinewidth\":0,\"ticks\":\"\"}}],\"contour\":[{\"type\":\"contour\",\"colorbar\":{\"outlinewidth\":0,\"ticks\":\"\"},\"colorscale\":[[0.0,\"#0d0887\"],[0.1111111111111111,\"#46039f\"],[0.2222222222222222,\"#7201a8\"],[0.3333333333333333,\"#9c179e\"],[0.4444444444444444,\"#bd3786\"],[0.5555555555555556,\"#d8576b\"],[0.6666666666666666,\"#ed7953\"],[0.7777777777777778,\"#fb9f3a\"],[0.8888888888888888,\"#fdca26\"],[1.0,\"#f0f921\"]]}],\"surface\":[{\"type\":\"surface\",\"colorbar\":{\"outlinewidth\":0,\"ticks\":\"\"},\"colorscale\":[[0.0,\"#0d0887\"],[0.1111111111111111,\"#46039f\"],[0.2222222222222222,\"#7201a8\"],[0.3333333333333333,\"#9c179e\"],[0.4444444444444444,\"#bd3786\"],[0.5555555555555556,\"#d8576b\"],[0.6666666666666666,\"#ed7953\"],[0.7777777777777778,\"#fb9f3a\"],[0.8888888888888888,\"#fdca26\"],[1.0,\"#f0f921\"]]}],\"mesh3d\":[{\"type\":\"mesh3d\",\"colorbar\":{\"outlinewidth\":0,\"ticks\":\"\"}}],\"scatter\":[{\"fillpattern\":{\"fillmode\":\"overlay\",\"size\":10,\"solidity\":0.2},\"type\":\"scatter\"}],\"parcoords\":[{\"type\":\"parcoords\",\"line\":{\"colorbar\":{\"outlinewidth\":0,\"ticks\":\"\"}}}],\"scatterpolargl\":[{\"type\":\"scatterpolargl\",\"marker\":{\"colorbar\":{\"outlinewidth\":0,\"ticks\":\"\"}}}],\"bar\":[{\"error_x\":{\"color\":\"#2a3f5f\"},\"error_y\":{\"color\":\"#2a3f5f\"},\"marker\":{\"line\":{\"color\":\"#E5ECF6\",\"width\":0.5},\"pattern\":{\"fillmode\":\"overlay\",\"size\":10,\"solidity\":0.2}},\"type\":\"bar\"}],\"scattergeo\":[{\"type\":\"scattergeo\",\"marker\":{\"colorbar\":{\"outlinewidth\":0,\"ticks\":\"\"}}}],\"scatterpolar\":[{\"type\":\"scatterpolar\",\"marker\":{\"colorbar\":{\"outlinewidth\":0,\"ticks\":\"\"}}}],\"histogram\":[{\"marker\":{\"pattern\":{\"fillmode\":\"overlay\",\"size\":10,\"solidity\":0.2}},\"type\":\"histogram\"}],\"scattergl\":[{\"type\":\"scattergl\",\"marker\":{\"colorbar\":{\"outlinewidth\":0,\"ticks\":\"\"}}}],\"scatter3d\":[{\"type\":\"scatter3d\",\"line\":{\"colorbar\":{\"outlinewidth\":0,\"ticks\":\"\"}},\"marker\":{\"colorbar\":{\"outlinewidth\":0,\"ticks\":\"\"}}}],\"scattermapbox\":[{\"type\":\"scattermapbox\",\"marker\":{\"colorbar\":{\"outlinewidth\":0,\"ticks\":\"\"}}}],\"scatterternary\":[{\"type\":\"scatterternary\",\"marker\":{\"colorbar\":{\"outlinewidth\":0,\"ticks\":\"\"}}}],\"scattercarpet\":[{\"type\":\"scattercarpet\",\"marker\":{\"colorbar\":{\"outlinewidth\":0,\"ticks\":\"\"}}}],\"carpet\":[{\"aaxis\":{\"endlinecolor\":\"#2a3f5f\",\"gridcolor\":\"white\",\"linecolor\":\"white\",\"minorgridcolor\":\"white\",\"startlinecolor\":\"#2a3f5f\"},\"baxis\":{\"endlinecolor\":\"#2a3f5f\",\"gridcolor\":\"white\",\"linecolor\":\"white\",\"minorgridcolor\":\"white\",\"startlinecolor\":\"#2a3f5f\"},\"type\":\"carpet\"}],\"table\":[{\"cells\":{\"fill\":{\"color\":\"#EBF0F8\"},\"line\":{\"color\":\"white\"}},\"header\":{\"fill\":{\"color\":\"#C8D4E3\"},\"line\":{\"color\":\"white\"}},\"type\":\"table\"}],\"barpolar\":[{\"marker\":{\"line\":{\"color\":\"#E5ECF6\",\"width\":0.5},\"pattern\":{\"fillmode\":\"overlay\",\"size\":10,\"solidity\":0.2}},\"type\":\"barpolar\"}],\"pie\":[{\"automargin\":true,\"type\":\"pie\"}]},\"layout\":{\"autotypenumbers\":\"strict\",\"colorway\":[\"#636efa\",\"#EF553B\",\"#00cc96\",\"#ab63fa\",\"#FFA15A\",\"#19d3f3\",\"#FF6692\",\"#B6E880\",\"#FF97FF\",\"#FECB52\"],\"font\":{\"color\":\"#2a3f5f\"},\"hovermode\":\"closest\",\"hoverlabel\":{\"align\":\"left\"},\"paper_bgcolor\":\"white\",\"plot_bgcolor\":\"#E5ECF6\",\"polar\":{\"bgcolor\":\"#E5ECF6\",\"angularaxis\":{\"gridcolor\":\"white\",\"linecolor\":\"white\",\"ticks\":\"\"},\"radialaxis\":{\"gridcolor\":\"white\",\"linecolor\":\"white\",\"ticks\":\"\"}},\"ternary\":{\"bgcolor\":\"#E5ECF6\",\"aaxis\":{\"gridcolor\":\"white\",\"linecolor\":\"white\",\"ticks\":\"\"},\"baxis\":{\"gridcolor\":\"white\",\"linecolor\":\"white\",\"ticks\":\"\"},\"caxis\":{\"gridcolor\":\"white\",\"linecolor\":\"white\",\"ticks\":\"\"}},\"coloraxis\":{\"colorbar\":{\"outlinewidth\":0,\"ticks\":\"\"}},\"colorscale\":{\"sequential\":[[0.0,\"#0d0887\"],[0.1111111111111111,\"#46039f\"],[0.2222222222222222,\"#7201a8\"],[0.3333333333333333,\"#9c179e\"],[0.4444444444444444,\"#bd3786\"],[0.5555555555555556,\"#d8576b\"],[0.6666666666666666,\"#ed7953\"],[0.7777777777777778,\"#fb9f3a\"],[0.8888888888888888,\"#fdca26\"],[1.0,\"#f0f921\"]],\"sequentialminus\":[[0.0,\"#0d0887\"],[0.1111111111111111,\"#46039f\"],[0.2222222222222222,\"#7201a8\"],[0.3333333333333333,\"#9c179e\"],[0.4444444444444444,\"#bd3786\"],[0.5555555555555556,\"#d8576b\"],[0.6666666666666666,\"#ed7953\"],[0.7777777777777778,\"#fb9f3a\"],[0.8888888888888888,\"#fdca26\"],[1.0,\"#f0f921\"]],\"diverging\":[[0,\"#8e0152\"],[0.1,\"#c51b7d\"],[0.2,\"#de77ae\"],[0.3,\"#f1b6da\"],[0.4,\"#fde0ef\"],[0.5,\"#f7f7f7\"],[0.6,\"#e6f5d0\"],[0.7,\"#b8e186\"],[0.8,\"#7fbc41\"],[0.9,\"#4d9221\"],[1,\"#276419\"]]},\"xaxis\":{\"gridcolor\":\"white\",\"linecolor\":\"white\",\"ticks\":\"\",\"title\":{\"standoff\":15},\"zerolinecolor\":\"white\",\"automargin\":true,\"zerolinewidth\":2},\"yaxis\":{\"gridcolor\":\"white\",\"linecolor\":\"white\",\"ticks\":\"\",\"title\":{\"standoff\":15},\"zerolinecolor\":\"white\",\"automargin\":true,\"zerolinewidth\":2},\"scene\":{\"xaxis\":{\"backgroundcolor\":\"#E5ECF6\",\"gridcolor\":\"white\",\"linecolor\":\"white\",\"showbackground\":true,\"ticks\":\"\",\"zerolinecolor\":\"white\",\"gridwidth\":2},\"yaxis\":{\"backgroundcolor\":\"#E5ECF6\",\"gridcolor\":\"white\",\"linecolor\":\"white\",\"showbackground\":true,\"ticks\":\"\",\"zerolinecolor\":\"white\",\"gridwidth\":2},\"zaxis\":{\"backgroundcolor\":\"#E5ECF6\",\"gridcolor\":\"white\",\"linecolor\":\"white\",\"showbackground\":true,\"ticks\":\"\",\"zerolinecolor\":\"white\",\"gridwidth\":2}},\"shapedefaults\":{\"line\":{\"color\":\"#2a3f5f\"}},\"annotationdefaults\":{\"arrowcolor\":\"#2a3f5f\",\"arrowhead\":0,\"arrowwidth\":1},\"geo\":{\"bgcolor\":\"white\",\"landcolor\":\"#E5ECF6\",\"subunitcolor\":\"white\",\"showland\":true,\"showlakes\":true,\"lakecolor\":\"white\"},\"title\":{\"x\":0.05},\"mapbox\":{\"style\":\"light\"}}},\"title\":{\"text\":\"SENADORES QUE MAIS GASTARAM\",\"x\":0.5}},                        {\"responsive\": true}                    ).then(function(){\n",
       "                            \n",
       "var gd = document.getElementById('0e786620-edb5-4eb1-91d3-04045bca850c');\n",
       "var x = new MutationObserver(function (mutations, observer) {{\n",
       "        var display = window.getComputedStyle(gd).display;\n",
       "        if (!display || display === 'none') {{\n",
       "            console.log([gd, 'removed!']);\n",
       "            Plotly.purge(gd);\n",
       "            observer.disconnect();\n",
       "        }}\n",
       "}});\n",
       "\n",
       "// Listen for the removal of the full notebook cells\n",
       "var notebookContainer = gd.closest('#notebook-container');\n",
       "if (notebookContainer) {{\n",
       "    x.observe(notebookContainer, {childList: true});\n",
       "}}\n",
       "\n",
       "// Listen for the clearing of the current output cell\n",
       "var outputEl = gd.closest('.output');\n",
       "if (outputEl) {{\n",
       "    x.observe(outputEl, {childList: true});\n",
       "}}\n",
       "\n",
       "                        })                };                });            </script>        </div>"
      ]
     },
     "metadata": {},
     "output_type": "display_data"
    }
   ],
   "source": [
    "# Eixos Gráfico\n",
    "\n",
    "x = senadores_contagem['index']\n",
    "y = senadores_contagem['SENADOR']\n",
    "\n",
    "x_2 = senadores['SENADOR']\n",
    "y_2 = senadores['VALOR_REEMBOLSADO']\n",
    "\n",
    "# Criar a figura\n",
    "fig = go.Figure(data=[go.Bar(x=x, y=y)])\n",
    "fig_2 = go.Figure(data=[go.Bar(x=x_2, y=y_2)])\n",
    "\n",
    "# Configurações\n",
    "fig.update_layout(title='SENADORES QUE MAIS FIZERAM DECLARAÇÃO DE DESPESAS', title_x = 0.5)\n",
    "fig_2.update_layout(title='SENADORES QUE MAIS GASTARAM', title_x = 0.5)\n",
    "\n",
    "# Exibir o gráfico\n",
    "fig.show()\n",
    "fig_2.show()"
   ]
  },
  {
   "cell_type": "markdown",
   "id": "5660f9ca",
   "metadata": {},
   "source": [
    "---\n",
    "## <font color=#40634D style=\"font-size: 30px;\">Podemos perceber que não há uma relação direta entre Número de declarações de despesas e o valor das despesas em si</font>\n",
    "\n",
    "## <font color=#40634D style=\"font-size: 30px;\">Vamos avaliar então qual tipo de despesa dos Senadores que mais gastam </font>\n",
    "\n",
    "---"
   ]
  },
  {
   "cell_type": "code",
   "execution_count": 1119,
   "id": "0921ea39",
   "metadata": {},
   "outputs": [],
   "source": [
    "# Senadores que mais gastam\n",
    "\n",
    "lista_dataframes = []\n",
    "for i in senadores['SENADOR']:\n",
    "    gastos = df[df['SENADOR'] == i].groupby('TIPO_DESPESA').sum(numeric_only=True).sort_values(by='VALOR_REEMBOLSADO', ascending=False)\n",
    "    gastos = gastos['VALOR_REEMBOLSADO'].reset_index()\n",
    "    lista_dataframes.append(gastos)"
   ]
  },
  {
   "cell_type": "code",
   "execution_count": 1120,
   "id": "31ffbf7c",
   "metadata": {},
   "outputs": [
    {
     "data": {
      "text/html": [
       "<div>\n",
       "<style scoped>\n",
       "    .dataframe tbody tr th:only-of-type {\n",
       "        vertical-align: middle;\n",
       "    }\n",
       "\n",
       "    .dataframe tbody tr th {\n",
       "        vertical-align: top;\n",
       "    }\n",
       "\n",
       "    .dataframe thead th {\n",
       "        text-align: right;\n",
       "    }\n",
       "</style>\n",
       "<table border=\"1\" class=\"dataframe\">\n",
       "  <thead>\n",
       "    <tr style=\"text-align: right;\">\n",
       "      <th></th>\n",
       "      <th>TIPO_DESPESA</th>\n",
       "      <th>VALOR_REEMBOLSADO</th>\n",
       "    </tr>\n",
       "    <tr>\n",
       "      <th>SENADOR</th>\n",
       "      <th></th>\n",
       "      <th></th>\n",
       "    </tr>\n",
       "  </thead>\n",
       "  <tbody>\n",
       "    <tr>\n",
       "      <th>PAULO ROCHA</th>\n",
       "      <td>Passagens aéreas, aquáticas e terrestres nacio...</td>\n",
       "      <td>724771.96</td>\n",
       "    </tr>\n",
       "    <tr>\n",
       "      <th>TELMÁRIO MOTA</th>\n",
       "      <td>Locomoção, hospedagem, alimentação, combustíve...</td>\n",
       "      <td>1077470.71</td>\n",
       "    </tr>\n",
       "    <tr>\n",
       "      <th>EDUARDO BRAGA</th>\n",
       "      <td>Contratação de consultorias, assessorias, pesq...</td>\n",
       "      <td>1640330.48</td>\n",
       "    </tr>\n",
       "    <tr>\n",
       "      <th>ROBERTO ROCHA</th>\n",
       "      <td>Aluguel de imóveis para escritório político, c...</td>\n",
       "      <td>916357.40</td>\n",
       "    </tr>\n",
       "    <tr>\n",
       "      <th>OMAR AZIZ</th>\n",
       "      <td>Contratação de consultorias, assessorias, pesq...</td>\n",
       "      <td>1340200.00</td>\n",
       "    </tr>\n",
       "    <tr>\n",
       "      <th>WELLINGTON FAGUNDES</th>\n",
       "      <td>Aluguel de imóveis para escritório político, c...</td>\n",
       "      <td>462094.19</td>\n",
       "    </tr>\n",
       "    <tr>\n",
       "      <th>SÉRGIO PETECÃO</th>\n",
       "      <td>Contratação de consultorias, assessorias, pesq...</td>\n",
       "      <td>817822.00</td>\n",
       "    </tr>\n",
       "    <tr>\n",
       "      <th>HUMBERTO COSTA</th>\n",
       "      <td>Locomoção, hospedagem, alimentação, combustíve...</td>\n",
       "      <td>794427.16</td>\n",
       "    </tr>\n",
       "  </tbody>\n",
       "</table>\n",
       "</div>"
      ],
      "text/plain": [
       "                                                          TIPO_DESPESA  \\\n",
       "SENADOR                                                                  \n",
       "PAULO ROCHA          Passagens aéreas, aquáticas e terrestres nacio...   \n",
       "TELMÁRIO MOTA        Locomoção, hospedagem, alimentação, combustíve...   \n",
       "EDUARDO BRAGA        Contratação de consultorias, assessorias, pesq...   \n",
       "ROBERTO ROCHA        Aluguel de imóveis para escritório político, c...   \n",
       "OMAR AZIZ            Contratação de consultorias, assessorias, pesq...   \n",
       "WELLINGTON FAGUNDES  Aluguel de imóveis para escritório político, c...   \n",
       "SÉRGIO PETECÃO       Contratação de consultorias, assessorias, pesq...   \n",
       "HUMBERTO COSTA       Locomoção, hospedagem, alimentação, combustíve...   \n",
       "\n",
       "                     VALOR_REEMBOLSADO  \n",
       "SENADOR                                 \n",
       "PAULO ROCHA                  724771.96  \n",
       "TELMÁRIO MOTA               1077470.71  \n",
       "EDUARDO BRAGA               1640330.48  \n",
       "ROBERTO ROCHA                916357.40  \n",
       "OMAR AZIZ                   1340200.00  \n",
       "WELLINGTON FAGUNDES          462094.19  \n",
       "SÉRGIO PETECÃO               817822.00  \n",
       "HUMBERTO COSTA               794427.16  "
      ]
     },
     "execution_count": 1120,
     "metadata": {},
     "output_type": "execute_result"
    }
   ],
   "source": [
    "# Senadores que mais gastam\n",
    "\n",
    "lista_maior_gasto = [i.loc[0] for i in lista_dataframes]\n",
    "df_1 = pd.DataFrame(lista_maior_gasto)\n",
    "df_1.index = senadores['SENADOR']\n",
    "df_1"
   ]
  },
  {
   "cell_type": "code",
   "execution_count": 1121,
   "id": "aef73ce8",
   "metadata": {},
   "outputs": [
    {
     "data": {
      "text/html": [
       "<div>\n",
       "<style scoped>\n",
       "    .dataframe tbody tr th:only-of-type {\n",
       "        vertical-align: middle;\n",
       "    }\n",
       "\n",
       "    .dataframe tbody tr th {\n",
       "        vertical-align: top;\n",
       "    }\n",
       "\n",
       "    .dataframe thead th {\n",
       "        text-align: right;\n",
       "    }\n",
       "</style>\n",
       "<table border=\"1\" class=\"dataframe\">\n",
       "  <thead>\n",
       "    <tr style=\"text-align: right;\">\n",
       "      <th></th>\n",
       "      <th>TIPO_DESPESA</th>\n",
       "      <th>VALOR_REEMBOLSADO</th>\n",
       "    </tr>\n",
       "    <tr>\n",
       "      <th>index</th>\n",
       "      <th></th>\n",
       "      <th></th>\n",
       "    </tr>\n",
       "  </thead>\n",
       "  <tbody>\n",
       "    <tr>\n",
       "      <th>WELLINGTON FAGUNDES</th>\n",
       "      <td>Aluguel de imóveis para escritório político, c...</td>\n",
       "      <td>462094.19</td>\n",
       "    </tr>\n",
       "    <tr>\n",
       "      <th>HUMBERTO COSTA</th>\n",
       "      <td>Locomoção, hospedagem, alimentação, combustíve...</td>\n",
       "      <td>794427.16</td>\n",
       "    </tr>\n",
       "    <tr>\n",
       "      <th>PAULO PAIM</th>\n",
       "      <td>Contratação de consultorias, assessorias, pesq...</td>\n",
       "      <td>391140.26</td>\n",
       "    </tr>\n",
       "    <tr>\n",
       "      <th>CARLOS VIANA</th>\n",
       "      <td>Aluguel de imóveis para escritório político, c...</td>\n",
       "      <td>456524.16</td>\n",
       "    </tr>\n",
       "    <tr>\n",
       "      <th>JAQUES WAGNER</th>\n",
       "      <td>Locomoção, hospedagem, alimentação, combustíve...</td>\n",
       "      <td>718006.58</td>\n",
       "    </tr>\n",
       "    <tr>\n",
       "      <th>JOSÉ SERRA</th>\n",
       "      <td>Passagens aéreas, aquáticas e terrestres nacio...</td>\n",
       "      <td>516940.09</td>\n",
       "    </tr>\n",
       "    <tr>\n",
       "      <th>FERNANDO BEZERRA COELHO</th>\n",
       "      <td>Passagens aéreas, aquáticas e terrestres nacio...</td>\n",
       "      <td>655942.72</td>\n",
       "    </tr>\n",
       "    <tr>\n",
       "      <th>TELMÁRIO MOTA</th>\n",
       "      <td>Locomoção, hospedagem, alimentação, combustíve...</td>\n",
       "      <td>1077470.71</td>\n",
       "    </tr>\n",
       "  </tbody>\n",
       "</table>\n",
       "</div>"
      ],
      "text/plain": [
       "                                                              TIPO_DESPESA  \\\n",
       "index                                                                        \n",
       "WELLINGTON FAGUNDES      Aluguel de imóveis para escritório político, c...   \n",
       "HUMBERTO COSTA           Locomoção, hospedagem, alimentação, combustíve...   \n",
       "PAULO PAIM               Contratação de consultorias, assessorias, pesq...   \n",
       "CARLOS VIANA             Aluguel de imóveis para escritório político, c...   \n",
       "JAQUES WAGNER            Locomoção, hospedagem, alimentação, combustíve...   \n",
       "JOSÉ SERRA               Passagens aéreas, aquáticas e terrestres nacio...   \n",
       "FERNANDO BEZERRA COELHO  Passagens aéreas, aquáticas e terrestres nacio...   \n",
       "TELMÁRIO MOTA            Locomoção, hospedagem, alimentação, combustíve...   \n",
       "\n",
       "                         VALOR_REEMBOLSADO  \n",
       "index                                       \n",
       "WELLINGTON FAGUNDES              462094.19  \n",
       "HUMBERTO COSTA                   794427.16  \n",
       "PAULO PAIM                       391140.26  \n",
       "CARLOS VIANA                     456524.16  \n",
       "JAQUES WAGNER                    718006.58  \n",
       "JOSÉ SERRA                       516940.09  \n",
       "FERNANDO BEZERRA COELHO          655942.72  \n",
       "TELMÁRIO MOTA                   1077470.71  "
      ]
     },
     "execution_count": 1121,
     "metadata": {},
     "output_type": "execute_result"
    }
   ],
   "source": [
    "# Senadores que mais declararão vendas\n",
    "\n",
    "lista_dataframes_2 = []\n",
    "for i in senadores_contagem['index']:\n",
    "    gastos = df[df['SENADOR'] == i].groupby('TIPO_DESPESA').sum(numeric_only=True).sort_values(by='VALOR_REEMBOLSADO', ascending=False)\n",
    "    gastos = gastos['VALOR_REEMBOLSADO'].reset_index()\n",
    "    lista_dataframes_2.append(gastos)\n",
    "    \n",
    "lista_maior_gasto_2 = [i.loc[0] for i in lista_dataframes_2]\n",
    "df_2 = pd.DataFrame(lista_maior_gasto_2)\n",
    "df_2.index = senadores_contagem['index']\n",
    "df_2"
   ]
  },
  {
   "cell_type": "code",
   "execution_count": 1122,
   "id": "a7a33711",
   "metadata": {},
   "outputs": [
    {
     "data": {
      "text/plain": [
       "['Locomoção, hospedagem, alimentação, combustíveis e lubrificantes',\n",
       " 'Passagens aéreas, aquáticas e terrestres nacionais',\n",
       " 'Divulgação da atividade parlamentar',\n",
       " 'Aluguel de imóveis para escritório político, compreendendo despesas concernentes a eles.',\n",
       " 'Locomoção, hospedagem, alimentação, combustíveis e lubrificantes',\n",
       " 'Passagens aéreas, aquáticas e terrestres nacionais',\n",
       " 'Divulgação da atividade parlamentar',\n",
       " 'Aluguel de imóveis para escritório político, compreendendo despesas concernentes a eles.']"
      ]
     },
     "execution_count": 1122,
     "metadata": {},
     "output_type": "execute_result"
    }
   ],
   "source": [
    "ordem_valores = ['Locomoção, hospedagem, alimentação, combustíveis e lubrificantes',\n",
    "       'Passagens aéreas, aquáticas e terrestres nacionais',\n",
    "       'Divulgação da atividade parlamentar',\n",
    "       'Aluguel de imóveis para escritório político, compreendendo despesas concernentes a eles.','Locomoção, hospedagem, alimentação, combustíveis e lubrificantes',\n",
    "       'Passagens aéreas, aquáticas e terrestres nacionais',\n",
    "       'Divulgação da atividade parlamentar',\n",
    "       'Aluguel de imóveis para escritório político, compreendendo despesas concernentes a eles.']\n",
    "ordem_valores"
   ]
  },
  {
   "cell_type": "code",
   "execution_count": 1123,
   "id": "4aba403c",
   "metadata": {},
   "outputs": [
    {
     "data": {
      "application/vnd.plotly.v1+json": {
       "config": {
        "plotlyServerURL": "https://plot.ly"
       },
       "data": [
        {
         "alignmentgroup": "True",
         "hovertemplate": "TIPO_DESPESA=Passagens aéreas, aquáticas e terrestres nacionais<br>VALOR_REEMBOLSADO=%{x}<br>SENADOR=%{y}<extra></extra>",
         "legendgroup": "Passagens aéreas, aquáticas e terrestres nacionais",
         "marker": {
          "color": "#636efa",
          "pattern": {
           "shape": ""
          }
         },
         "name": "Passagens aéreas, aquáticas e terrestres nacionais",
         "offsetgroup": "Passagens aéreas, aquáticas e terrestres nacionais",
         "orientation": "h",
         "showlegend": true,
         "textposition": "auto",
         "type": "bar",
         "x": [
          724771.96
         ],
         "xaxis": "x",
         "y": [
          "PAULO ROCHA"
         ],
         "yaxis": "y"
        },
        {
         "alignmentgroup": "True",
         "hovertemplate": "TIPO_DESPESA=Locomoção, hospedagem, alimentação, combustíveis e lubrificantes<br>VALOR_REEMBOLSADO=%{x}<br>SENADOR=%{y}<extra></extra>",
         "legendgroup": "Locomoção, hospedagem, alimentação, combustíveis e lubrificantes",
         "marker": {
          "color": "#EF553B",
          "pattern": {
           "shape": ""
          }
         },
         "name": "Locomoção, hospedagem, alimentação, combustíveis e lubrificantes",
         "offsetgroup": "Locomoção, hospedagem, alimentação, combustíveis e lubrificantes",
         "orientation": "h",
         "showlegend": true,
         "textposition": "auto",
         "type": "bar",
         "x": [
          1077470.71,
          794427.16
         ],
         "xaxis": "x",
         "y": [
          "TELMÁRIO MOTA",
          "HUMBERTO COSTA"
         ],
         "yaxis": "y"
        },
        {
         "alignmentgroup": "True",
         "hovertemplate": "TIPO_DESPESA=Contratação de consultorias, assessorias, pesquisas, trabalhos técnicos e outros serviços de apoio ao exercício do mandato parlamentar<br>VALOR_REEMBOLSADO=%{x}<br>SENADOR=%{y}<extra></extra>",
         "legendgroup": "Contratação de consultorias, assessorias, pesquisas, trabalhos técnicos e outros serviços de apoio ao exercício do mandato parlamentar",
         "marker": {
          "color": "#00cc96",
          "pattern": {
           "shape": ""
          }
         },
         "name": "Contratação de consultorias, assessorias, pesquisas, trabalhos técnicos e outros serviços de apoio ao exercício do mandato parlamentar",
         "offsetgroup": "Contratação de consultorias, assessorias, pesquisas, trabalhos técnicos e outros serviços de apoio ao exercício do mandato parlamentar",
         "orientation": "h",
         "showlegend": true,
         "textposition": "auto",
         "type": "bar",
         "x": [
          1640330.48,
          1340200,
          817822
         ],
         "xaxis": "x",
         "y": [
          "EDUARDO BRAGA",
          "OMAR AZIZ",
          "SÉRGIO PETECÃO"
         ],
         "yaxis": "y"
        },
        {
         "alignmentgroup": "True",
         "hovertemplate": "TIPO_DESPESA=Aluguel de imóveis para escritório político, compreendendo despesas concernentes a eles.<br>VALOR_REEMBOLSADO=%{x}<br>SENADOR=%{y}<extra></extra>",
         "legendgroup": "Aluguel de imóveis para escritório político, compreendendo despesas concernentes a eles.",
         "marker": {
          "color": "#ab63fa",
          "pattern": {
           "shape": ""
          }
         },
         "name": "Aluguel de imóveis para escritório político, compreendendo despesas concernentes a eles.",
         "offsetgroup": "Aluguel de imóveis para escritório político, compreendendo despesas concernentes a eles.",
         "orientation": "h",
         "showlegend": true,
         "textposition": "auto",
         "type": "bar",
         "x": [
          916357.4,
          462094.19
         ],
         "xaxis": "x",
         "y": [
          "ROBERTO ROCHA",
          "WELLINGTON FAGUNDES"
         ],
         "yaxis": "y"
        }
       ],
       "layout": {
        "barmode": "relative",
        "legend": {
         "orientation": "h",
         "title": {
          "text": "TIPO_DESPESA"
         },
         "tracegroupgap": 0,
         "x": 1,
         "xanchor": "right",
         "y": -0.5,
         "yanchor": "bottom"
        },
        "margin": {
         "t": 60
        },
        "template": {
         "data": {
          "bar": [
           {
            "error_x": {
             "color": "#2a3f5f"
            },
            "error_y": {
             "color": "#2a3f5f"
            },
            "marker": {
             "line": {
              "color": "#E5ECF6",
              "width": 0.5
             },
             "pattern": {
              "fillmode": "overlay",
              "size": 10,
              "solidity": 0.2
             }
            },
            "type": "bar"
           }
          ],
          "barpolar": [
           {
            "marker": {
             "line": {
              "color": "#E5ECF6",
              "width": 0.5
             },
             "pattern": {
              "fillmode": "overlay",
              "size": 10,
              "solidity": 0.2
             }
            },
            "type": "barpolar"
           }
          ],
          "carpet": [
           {
            "aaxis": {
             "endlinecolor": "#2a3f5f",
             "gridcolor": "white",
             "linecolor": "white",
             "minorgridcolor": "white",
             "startlinecolor": "#2a3f5f"
            },
            "baxis": {
             "endlinecolor": "#2a3f5f",
             "gridcolor": "white",
             "linecolor": "white",
             "minorgridcolor": "white",
             "startlinecolor": "#2a3f5f"
            },
            "type": "carpet"
           }
          ],
          "choropleth": [
           {
            "colorbar": {
             "outlinewidth": 0,
             "ticks": ""
            },
            "type": "choropleth"
           }
          ],
          "contour": [
           {
            "colorbar": {
             "outlinewidth": 0,
             "ticks": ""
            },
            "colorscale": [
             [
              0,
              "#0d0887"
             ],
             [
              0.1111111111111111,
              "#46039f"
             ],
             [
              0.2222222222222222,
              "#7201a8"
             ],
             [
              0.3333333333333333,
              "#9c179e"
             ],
             [
              0.4444444444444444,
              "#bd3786"
             ],
             [
              0.5555555555555556,
              "#d8576b"
             ],
             [
              0.6666666666666666,
              "#ed7953"
             ],
             [
              0.7777777777777778,
              "#fb9f3a"
             ],
             [
              0.8888888888888888,
              "#fdca26"
             ],
             [
              1,
              "#f0f921"
             ]
            ],
            "type": "contour"
           }
          ],
          "contourcarpet": [
           {
            "colorbar": {
             "outlinewidth": 0,
             "ticks": ""
            },
            "type": "contourcarpet"
           }
          ],
          "heatmap": [
           {
            "colorbar": {
             "outlinewidth": 0,
             "ticks": ""
            },
            "colorscale": [
             [
              0,
              "#0d0887"
             ],
             [
              0.1111111111111111,
              "#46039f"
             ],
             [
              0.2222222222222222,
              "#7201a8"
             ],
             [
              0.3333333333333333,
              "#9c179e"
             ],
             [
              0.4444444444444444,
              "#bd3786"
             ],
             [
              0.5555555555555556,
              "#d8576b"
             ],
             [
              0.6666666666666666,
              "#ed7953"
             ],
             [
              0.7777777777777778,
              "#fb9f3a"
             ],
             [
              0.8888888888888888,
              "#fdca26"
             ],
             [
              1,
              "#f0f921"
             ]
            ],
            "type": "heatmap"
           }
          ],
          "heatmapgl": [
           {
            "colorbar": {
             "outlinewidth": 0,
             "ticks": ""
            },
            "colorscale": [
             [
              0,
              "#0d0887"
             ],
             [
              0.1111111111111111,
              "#46039f"
             ],
             [
              0.2222222222222222,
              "#7201a8"
             ],
             [
              0.3333333333333333,
              "#9c179e"
             ],
             [
              0.4444444444444444,
              "#bd3786"
             ],
             [
              0.5555555555555556,
              "#d8576b"
             ],
             [
              0.6666666666666666,
              "#ed7953"
             ],
             [
              0.7777777777777778,
              "#fb9f3a"
             ],
             [
              0.8888888888888888,
              "#fdca26"
             ],
             [
              1,
              "#f0f921"
             ]
            ],
            "type": "heatmapgl"
           }
          ],
          "histogram": [
           {
            "marker": {
             "pattern": {
              "fillmode": "overlay",
              "size": 10,
              "solidity": 0.2
             }
            },
            "type": "histogram"
           }
          ],
          "histogram2d": [
           {
            "colorbar": {
             "outlinewidth": 0,
             "ticks": ""
            },
            "colorscale": [
             [
              0,
              "#0d0887"
             ],
             [
              0.1111111111111111,
              "#46039f"
             ],
             [
              0.2222222222222222,
              "#7201a8"
             ],
             [
              0.3333333333333333,
              "#9c179e"
             ],
             [
              0.4444444444444444,
              "#bd3786"
             ],
             [
              0.5555555555555556,
              "#d8576b"
             ],
             [
              0.6666666666666666,
              "#ed7953"
             ],
             [
              0.7777777777777778,
              "#fb9f3a"
             ],
             [
              0.8888888888888888,
              "#fdca26"
             ],
             [
              1,
              "#f0f921"
             ]
            ],
            "type": "histogram2d"
           }
          ],
          "histogram2dcontour": [
           {
            "colorbar": {
             "outlinewidth": 0,
             "ticks": ""
            },
            "colorscale": [
             [
              0,
              "#0d0887"
             ],
             [
              0.1111111111111111,
              "#46039f"
             ],
             [
              0.2222222222222222,
              "#7201a8"
             ],
             [
              0.3333333333333333,
              "#9c179e"
             ],
             [
              0.4444444444444444,
              "#bd3786"
             ],
             [
              0.5555555555555556,
              "#d8576b"
             ],
             [
              0.6666666666666666,
              "#ed7953"
             ],
             [
              0.7777777777777778,
              "#fb9f3a"
             ],
             [
              0.8888888888888888,
              "#fdca26"
             ],
             [
              1,
              "#f0f921"
             ]
            ],
            "type": "histogram2dcontour"
           }
          ],
          "mesh3d": [
           {
            "colorbar": {
             "outlinewidth": 0,
             "ticks": ""
            },
            "type": "mesh3d"
           }
          ],
          "parcoords": [
           {
            "line": {
             "colorbar": {
              "outlinewidth": 0,
              "ticks": ""
             }
            },
            "type": "parcoords"
           }
          ],
          "pie": [
           {
            "automargin": true,
            "type": "pie"
           }
          ],
          "scatter": [
           {
            "fillpattern": {
             "fillmode": "overlay",
             "size": 10,
             "solidity": 0.2
            },
            "type": "scatter"
           }
          ],
          "scatter3d": [
           {
            "line": {
             "colorbar": {
              "outlinewidth": 0,
              "ticks": ""
             }
            },
            "marker": {
             "colorbar": {
              "outlinewidth": 0,
              "ticks": ""
             }
            },
            "type": "scatter3d"
           }
          ],
          "scattercarpet": [
           {
            "marker": {
             "colorbar": {
              "outlinewidth": 0,
              "ticks": ""
             }
            },
            "type": "scattercarpet"
           }
          ],
          "scattergeo": [
           {
            "marker": {
             "colorbar": {
              "outlinewidth": 0,
              "ticks": ""
             }
            },
            "type": "scattergeo"
           }
          ],
          "scattergl": [
           {
            "marker": {
             "colorbar": {
              "outlinewidth": 0,
              "ticks": ""
             }
            },
            "type": "scattergl"
           }
          ],
          "scattermapbox": [
           {
            "marker": {
             "colorbar": {
              "outlinewidth": 0,
              "ticks": ""
             }
            },
            "type": "scattermapbox"
           }
          ],
          "scatterpolar": [
           {
            "marker": {
             "colorbar": {
              "outlinewidth": 0,
              "ticks": ""
             }
            },
            "type": "scatterpolar"
           }
          ],
          "scatterpolargl": [
           {
            "marker": {
             "colorbar": {
              "outlinewidth": 0,
              "ticks": ""
             }
            },
            "type": "scatterpolargl"
           }
          ],
          "scatterternary": [
           {
            "marker": {
             "colorbar": {
              "outlinewidth": 0,
              "ticks": ""
             }
            },
            "type": "scatterternary"
           }
          ],
          "surface": [
           {
            "colorbar": {
             "outlinewidth": 0,
             "ticks": ""
            },
            "colorscale": [
             [
              0,
              "#0d0887"
             ],
             [
              0.1111111111111111,
              "#46039f"
             ],
             [
              0.2222222222222222,
              "#7201a8"
             ],
             [
              0.3333333333333333,
              "#9c179e"
             ],
             [
              0.4444444444444444,
              "#bd3786"
             ],
             [
              0.5555555555555556,
              "#d8576b"
             ],
             [
              0.6666666666666666,
              "#ed7953"
             ],
             [
              0.7777777777777778,
              "#fb9f3a"
             ],
             [
              0.8888888888888888,
              "#fdca26"
             ],
             [
              1,
              "#f0f921"
             ]
            ],
            "type": "surface"
           }
          ],
          "table": [
           {
            "cells": {
             "fill": {
              "color": "#EBF0F8"
             },
             "line": {
              "color": "white"
             }
            },
            "header": {
             "fill": {
              "color": "#C8D4E3"
             },
             "line": {
              "color": "white"
             }
            },
            "type": "table"
           }
          ]
         },
         "layout": {
          "annotationdefaults": {
           "arrowcolor": "#2a3f5f",
           "arrowhead": 0,
           "arrowwidth": 1
          },
          "autotypenumbers": "strict",
          "coloraxis": {
           "colorbar": {
            "outlinewidth": 0,
            "ticks": ""
           }
          },
          "colorscale": {
           "diverging": [
            [
             0,
             "#8e0152"
            ],
            [
             0.1,
             "#c51b7d"
            ],
            [
             0.2,
             "#de77ae"
            ],
            [
             0.3,
             "#f1b6da"
            ],
            [
             0.4,
             "#fde0ef"
            ],
            [
             0.5,
             "#f7f7f7"
            ],
            [
             0.6,
             "#e6f5d0"
            ],
            [
             0.7,
             "#b8e186"
            ],
            [
             0.8,
             "#7fbc41"
            ],
            [
             0.9,
             "#4d9221"
            ],
            [
             1,
             "#276419"
            ]
           ],
           "sequential": [
            [
             0,
             "#0d0887"
            ],
            [
             0.1111111111111111,
             "#46039f"
            ],
            [
             0.2222222222222222,
             "#7201a8"
            ],
            [
             0.3333333333333333,
             "#9c179e"
            ],
            [
             0.4444444444444444,
             "#bd3786"
            ],
            [
             0.5555555555555556,
             "#d8576b"
            ],
            [
             0.6666666666666666,
             "#ed7953"
            ],
            [
             0.7777777777777778,
             "#fb9f3a"
            ],
            [
             0.8888888888888888,
             "#fdca26"
            ],
            [
             1,
             "#f0f921"
            ]
           ],
           "sequentialminus": [
            [
             0,
             "#0d0887"
            ],
            [
             0.1111111111111111,
             "#46039f"
            ],
            [
             0.2222222222222222,
             "#7201a8"
            ],
            [
             0.3333333333333333,
             "#9c179e"
            ],
            [
             0.4444444444444444,
             "#bd3786"
            ],
            [
             0.5555555555555556,
             "#d8576b"
            ],
            [
             0.6666666666666666,
             "#ed7953"
            ],
            [
             0.7777777777777778,
             "#fb9f3a"
            ],
            [
             0.8888888888888888,
             "#fdca26"
            ],
            [
             1,
             "#f0f921"
            ]
           ]
          },
          "colorway": [
           "#636efa",
           "#EF553B",
           "#00cc96",
           "#ab63fa",
           "#FFA15A",
           "#19d3f3",
           "#FF6692",
           "#B6E880",
           "#FF97FF",
           "#FECB52"
          ],
          "font": {
           "color": "#2a3f5f"
          },
          "geo": {
           "bgcolor": "white",
           "lakecolor": "white",
           "landcolor": "#E5ECF6",
           "showlakes": true,
           "showland": true,
           "subunitcolor": "white"
          },
          "hoverlabel": {
           "align": "left"
          },
          "hovermode": "closest",
          "mapbox": {
           "style": "light"
          },
          "paper_bgcolor": "white",
          "plot_bgcolor": "#E5ECF6",
          "polar": {
           "angularaxis": {
            "gridcolor": "white",
            "linecolor": "white",
            "ticks": ""
           },
           "bgcolor": "#E5ECF6",
           "radialaxis": {
            "gridcolor": "white",
            "linecolor": "white",
            "ticks": ""
           }
          },
          "scene": {
           "xaxis": {
            "backgroundcolor": "#E5ECF6",
            "gridcolor": "white",
            "gridwidth": 2,
            "linecolor": "white",
            "showbackground": true,
            "ticks": "",
            "zerolinecolor": "white"
           },
           "yaxis": {
            "backgroundcolor": "#E5ECF6",
            "gridcolor": "white",
            "gridwidth": 2,
            "linecolor": "white",
            "showbackground": true,
            "ticks": "",
            "zerolinecolor": "white"
           },
           "zaxis": {
            "backgroundcolor": "#E5ECF6",
            "gridcolor": "white",
            "gridwidth": 2,
            "linecolor": "white",
            "showbackground": true,
            "ticks": "",
            "zerolinecolor": "white"
           }
          },
          "shapedefaults": {
           "line": {
            "color": "#2a3f5f"
           }
          },
          "ternary": {
           "aaxis": {
            "gridcolor": "white",
            "linecolor": "white",
            "ticks": ""
           },
           "baxis": {
            "gridcolor": "white",
            "linecolor": "white",
            "ticks": ""
           },
           "bgcolor": "#E5ECF6",
           "caxis": {
            "gridcolor": "white",
            "linecolor": "white",
            "ticks": ""
           }
          },
          "title": {
           "x": 0.05
          },
          "xaxis": {
           "automargin": true,
           "gridcolor": "white",
           "linecolor": "white",
           "ticks": "",
           "title": {
            "standoff": 15
           },
           "zerolinecolor": "white",
           "zerolinewidth": 2
          },
          "yaxis": {
           "automargin": true,
           "gridcolor": "white",
           "linecolor": "white",
           "ticks": "",
           "title": {
            "standoff": 15
           },
           "zerolinecolor": "white",
           "zerolinewidth": 2
          }
         }
        },
        "title": {
         "text": "SENADORES QUE MAIS GASTARAM - MAIORES GASTOS",
         "x": 0.5
        },
        "xaxis": {
         "anchor": "y",
         "domain": [
          0,
          1
         ],
         "title": {
          "text": "VALOR_REEMBOLSADO"
         }
        },
        "yaxis": {
         "anchor": "x",
         "domain": [
          0,
          1
         ],
         "title": {
          "text": "SENADOR"
         }
        }
       }
      },
      "text/html": [
       "<div>                            <div id=\"7809d80f-fa27-4fab-b42c-7642c50981aa\" class=\"plotly-graph-div\" style=\"height:525px; width:100%;\"></div>            <script type=\"text/javascript\">                require([\"plotly\"], function(Plotly) {                    window.PLOTLYENV=window.PLOTLYENV || {};                                    if (document.getElementById(\"7809d80f-fa27-4fab-b42c-7642c50981aa\")) {                    Plotly.newPlot(                        \"7809d80f-fa27-4fab-b42c-7642c50981aa\",                        [{\"alignmentgroup\":\"True\",\"hovertemplate\":\"TIPO_DESPESA=Passagens a\\u00e9reas, aqu\\u00e1ticas e terrestres nacionais<br>VALOR_REEMBOLSADO=%{x}<br>SENADOR=%{y}<extra></extra>\",\"legendgroup\":\"Passagens a\\u00e9reas, aqu\\u00e1ticas e terrestres nacionais\",\"marker\":{\"color\":\"#636efa\",\"pattern\":{\"shape\":\"\"}},\"name\":\"Passagens a\\u00e9reas, aqu\\u00e1ticas e terrestres nacionais\",\"offsetgroup\":\"Passagens a\\u00e9reas, aqu\\u00e1ticas e terrestres nacionais\",\"orientation\":\"h\",\"showlegend\":true,\"textposition\":\"auto\",\"x\":[724771.96],\"xaxis\":\"x\",\"y\":[\"PAULO ROCHA\"],\"yaxis\":\"y\",\"type\":\"bar\"},{\"alignmentgroup\":\"True\",\"hovertemplate\":\"TIPO_DESPESA=Locomo\\u00e7\\u00e3o, hospedagem, alimenta\\u00e7\\u00e3o, combust\\u00edveis e lubrificantes<br>VALOR_REEMBOLSADO=%{x}<br>SENADOR=%{y}<extra></extra>\",\"legendgroup\":\"Locomo\\u00e7\\u00e3o, hospedagem, alimenta\\u00e7\\u00e3o, combust\\u00edveis e lubrificantes\",\"marker\":{\"color\":\"#EF553B\",\"pattern\":{\"shape\":\"\"}},\"name\":\"Locomo\\u00e7\\u00e3o, hospedagem, alimenta\\u00e7\\u00e3o, combust\\u00edveis e lubrificantes\",\"offsetgroup\":\"Locomo\\u00e7\\u00e3o, hospedagem, alimenta\\u00e7\\u00e3o, combust\\u00edveis e lubrificantes\",\"orientation\":\"h\",\"showlegend\":true,\"textposition\":\"auto\",\"x\":[1077470.71,794427.16],\"xaxis\":\"x\",\"y\":[\"TELM\\u00c1RIO MOTA\",\"HUMBERTO COSTA\"],\"yaxis\":\"y\",\"type\":\"bar\"},{\"alignmentgroup\":\"True\",\"hovertemplate\":\"TIPO_DESPESA=Contrata\\u00e7\\u00e3o de consultorias, assessorias, pesquisas, trabalhos t\\u00e9cnicos e outros servi\\u00e7os de apoio ao exerc\\u00edcio do mandato parlamentar<br>VALOR_REEMBOLSADO=%{x}<br>SENADOR=%{y}<extra></extra>\",\"legendgroup\":\"Contrata\\u00e7\\u00e3o de consultorias, assessorias, pesquisas, trabalhos t\\u00e9cnicos e outros servi\\u00e7os de apoio ao exerc\\u00edcio do mandato parlamentar\",\"marker\":{\"color\":\"#00cc96\",\"pattern\":{\"shape\":\"\"}},\"name\":\"Contrata\\u00e7\\u00e3o de consultorias, assessorias, pesquisas, trabalhos t\\u00e9cnicos e outros servi\\u00e7os de apoio ao exerc\\u00edcio do mandato parlamentar\",\"offsetgroup\":\"Contrata\\u00e7\\u00e3o de consultorias, assessorias, pesquisas, trabalhos t\\u00e9cnicos e outros servi\\u00e7os de apoio ao exerc\\u00edcio do mandato parlamentar\",\"orientation\":\"h\",\"showlegend\":true,\"textposition\":\"auto\",\"x\":[1640330.48,1340200.0,817822.0],\"xaxis\":\"x\",\"y\":[\"EDUARDO BRAGA\",\"OMAR AZIZ\",\"S\\u00c9RGIO PETEC\\u00c3O\"],\"yaxis\":\"y\",\"type\":\"bar\"},{\"alignmentgroup\":\"True\",\"hovertemplate\":\"TIPO_DESPESA=Aluguel de im\\u00f3veis para escrit\\u00f3rio pol\\u00edtico, compreendendo despesas concernentes a eles.<br>VALOR_REEMBOLSADO=%{x}<br>SENADOR=%{y}<extra></extra>\",\"legendgroup\":\"Aluguel de im\\u00f3veis para escrit\\u00f3rio pol\\u00edtico, compreendendo despesas concernentes a eles.\",\"marker\":{\"color\":\"#ab63fa\",\"pattern\":{\"shape\":\"\"}},\"name\":\"Aluguel de im\\u00f3veis para escrit\\u00f3rio pol\\u00edtico, compreendendo despesas concernentes a eles.\",\"offsetgroup\":\"Aluguel de im\\u00f3veis para escrit\\u00f3rio pol\\u00edtico, compreendendo despesas concernentes a eles.\",\"orientation\":\"h\",\"showlegend\":true,\"textposition\":\"auto\",\"x\":[916357.4,462094.19],\"xaxis\":\"x\",\"y\":[\"ROBERTO ROCHA\",\"WELLINGTON FAGUNDES\"],\"yaxis\":\"y\",\"type\":\"bar\"}],                        {\"template\":{\"data\":{\"histogram2dcontour\":[{\"type\":\"histogram2dcontour\",\"colorbar\":{\"outlinewidth\":0,\"ticks\":\"\"},\"colorscale\":[[0.0,\"#0d0887\"],[0.1111111111111111,\"#46039f\"],[0.2222222222222222,\"#7201a8\"],[0.3333333333333333,\"#9c179e\"],[0.4444444444444444,\"#bd3786\"],[0.5555555555555556,\"#d8576b\"],[0.6666666666666666,\"#ed7953\"],[0.7777777777777778,\"#fb9f3a\"],[0.8888888888888888,\"#fdca26\"],[1.0,\"#f0f921\"]]}],\"choropleth\":[{\"type\":\"choropleth\",\"colorbar\":{\"outlinewidth\":0,\"ticks\":\"\"}}],\"histogram2d\":[{\"type\":\"histogram2d\",\"colorbar\":{\"outlinewidth\":0,\"ticks\":\"\"},\"colorscale\":[[0.0,\"#0d0887\"],[0.1111111111111111,\"#46039f\"],[0.2222222222222222,\"#7201a8\"],[0.3333333333333333,\"#9c179e\"],[0.4444444444444444,\"#bd3786\"],[0.5555555555555556,\"#d8576b\"],[0.6666666666666666,\"#ed7953\"],[0.7777777777777778,\"#fb9f3a\"],[0.8888888888888888,\"#fdca26\"],[1.0,\"#f0f921\"]]}],\"heatmap\":[{\"type\":\"heatmap\",\"colorbar\":{\"outlinewidth\":0,\"ticks\":\"\"},\"colorscale\":[[0.0,\"#0d0887\"],[0.1111111111111111,\"#46039f\"],[0.2222222222222222,\"#7201a8\"],[0.3333333333333333,\"#9c179e\"],[0.4444444444444444,\"#bd3786\"],[0.5555555555555556,\"#d8576b\"],[0.6666666666666666,\"#ed7953\"],[0.7777777777777778,\"#fb9f3a\"],[0.8888888888888888,\"#fdca26\"],[1.0,\"#f0f921\"]]}],\"heatmapgl\":[{\"type\":\"heatmapgl\",\"colorbar\":{\"outlinewidth\":0,\"ticks\":\"\"},\"colorscale\":[[0.0,\"#0d0887\"],[0.1111111111111111,\"#46039f\"],[0.2222222222222222,\"#7201a8\"],[0.3333333333333333,\"#9c179e\"],[0.4444444444444444,\"#bd3786\"],[0.5555555555555556,\"#d8576b\"],[0.6666666666666666,\"#ed7953\"],[0.7777777777777778,\"#fb9f3a\"],[0.8888888888888888,\"#fdca26\"],[1.0,\"#f0f921\"]]}],\"contourcarpet\":[{\"type\":\"contourcarpet\",\"colorbar\":{\"outlinewidth\":0,\"ticks\":\"\"}}],\"contour\":[{\"type\":\"contour\",\"colorbar\":{\"outlinewidth\":0,\"ticks\":\"\"},\"colorscale\":[[0.0,\"#0d0887\"],[0.1111111111111111,\"#46039f\"],[0.2222222222222222,\"#7201a8\"],[0.3333333333333333,\"#9c179e\"],[0.4444444444444444,\"#bd3786\"],[0.5555555555555556,\"#d8576b\"],[0.6666666666666666,\"#ed7953\"],[0.7777777777777778,\"#fb9f3a\"],[0.8888888888888888,\"#fdca26\"],[1.0,\"#f0f921\"]]}],\"surface\":[{\"type\":\"surface\",\"colorbar\":{\"outlinewidth\":0,\"ticks\":\"\"},\"colorscale\":[[0.0,\"#0d0887\"],[0.1111111111111111,\"#46039f\"],[0.2222222222222222,\"#7201a8\"],[0.3333333333333333,\"#9c179e\"],[0.4444444444444444,\"#bd3786\"],[0.5555555555555556,\"#d8576b\"],[0.6666666666666666,\"#ed7953\"],[0.7777777777777778,\"#fb9f3a\"],[0.8888888888888888,\"#fdca26\"],[1.0,\"#f0f921\"]]}],\"mesh3d\":[{\"type\":\"mesh3d\",\"colorbar\":{\"outlinewidth\":0,\"ticks\":\"\"}}],\"scatter\":[{\"fillpattern\":{\"fillmode\":\"overlay\",\"size\":10,\"solidity\":0.2},\"type\":\"scatter\"}],\"parcoords\":[{\"type\":\"parcoords\",\"line\":{\"colorbar\":{\"outlinewidth\":0,\"ticks\":\"\"}}}],\"scatterpolargl\":[{\"type\":\"scatterpolargl\",\"marker\":{\"colorbar\":{\"outlinewidth\":0,\"ticks\":\"\"}}}],\"bar\":[{\"error_x\":{\"color\":\"#2a3f5f\"},\"error_y\":{\"color\":\"#2a3f5f\"},\"marker\":{\"line\":{\"color\":\"#E5ECF6\",\"width\":0.5},\"pattern\":{\"fillmode\":\"overlay\",\"size\":10,\"solidity\":0.2}},\"type\":\"bar\"}],\"scattergeo\":[{\"type\":\"scattergeo\",\"marker\":{\"colorbar\":{\"outlinewidth\":0,\"ticks\":\"\"}}}],\"scatterpolar\":[{\"type\":\"scatterpolar\",\"marker\":{\"colorbar\":{\"outlinewidth\":0,\"ticks\":\"\"}}}],\"histogram\":[{\"marker\":{\"pattern\":{\"fillmode\":\"overlay\",\"size\":10,\"solidity\":0.2}},\"type\":\"histogram\"}],\"scattergl\":[{\"type\":\"scattergl\",\"marker\":{\"colorbar\":{\"outlinewidth\":0,\"ticks\":\"\"}}}],\"scatter3d\":[{\"type\":\"scatter3d\",\"line\":{\"colorbar\":{\"outlinewidth\":0,\"ticks\":\"\"}},\"marker\":{\"colorbar\":{\"outlinewidth\":0,\"ticks\":\"\"}}}],\"scattermapbox\":[{\"type\":\"scattermapbox\",\"marker\":{\"colorbar\":{\"outlinewidth\":0,\"ticks\":\"\"}}}],\"scatterternary\":[{\"type\":\"scatterternary\",\"marker\":{\"colorbar\":{\"outlinewidth\":0,\"ticks\":\"\"}}}],\"scattercarpet\":[{\"type\":\"scattercarpet\",\"marker\":{\"colorbar\":{\"outlinewidth\":0,\"ticks\":\"\"}}}],\"carpet\":[{\"aaxis\":{\"endlinecolor\":\"#2a3f5f\",\"gridcolor\":\"white\",\"linecolor\":\"white\",\"minorgridcolor\":\"white\",\"startlinecolor\":\"#2a3f5f\"},\"baxis\":{\"endlinecolor\":\"#2a3f5f\",\"gridcolor\":\"white\",\"linecolor\":\"white\",\"minorgridcolor\":\"white\",\"startlinecolor\":\"#2a3f5f\"},\"type\":\"carpet\"}],\"table\":[{\"cells\":{\"fill\":{\"color\":\"#EBF0F8\"},\"line\":{\"color\":\"white\"}},\"header\":{\"fill\":{\"color\":\"#C8D4E3\"},\"line\":{\"color\":\"white\"}},\"type\":\"table\"}],\"barpolar\":[{\"marker\":{\"line\":{\"color\":\"#E5ECF6\",\"width\":0.5},\"pattern\":{\"fillmode\":\"overlay\",\"size\":10,\"solidity\":0.2}},\"type\":\"barpolar\"}],\"pie\":[{\"automargin\":true,\"type\":\"pie\"}]},\"layout\":{\"autotypenumbers\":\"strict\",\"colorway\":[\"#636efa\",\"#EF553B\",\"#00cc96\",\"#ab63fa\",\"#FFA15A\",\"#19d3f3\",\"#FF6692\",\"#B6E880\",\"#FF97FF\",\"#FECB52\"],\"font\":{\"color\":\"#2a3f5f\"},\"hovermode\":\"closest\",\"hoverlabel\":{\"align\":\"left\"},\"paper_bgcolor\":\"white\",\"plot_bgcolor\":\"#E5ECF6\",\"polar\":{\"bgcolor\":\"#E5ECF6\",\"angularaxis\":{\"gridcolor\":\"white\",\"linecolor\":\"white\",\"ticks\":\"\"},\"radialaxis\":{\"gridcolor\":\"white\",\"linecolor\":\"white\",\"ticks\":\"\"}},\"ternary\":{\"bgcolor\":\"#E5ECF6\",\"aaxis\":{\"gridcolor\":\"white\",\"linecolor\":\"white\",\"ticks\":\"\"},\"baxis\":{\"gridcolor\":\"white\",\"linecolor\":\"white\",\"ticks\":\"\"},\"caxis\":{\"gridcolor\":\"white\",\"linecolor\":\"white\",\"ticks\":\"\"}},\"coloraxis\":{\"colorbar\":{\"outlinewidth\":0,\"ticks\":\"\"}},\"colorscale\":{\"sequential\":[[0.0,\"#0d0887\"],[0.1111111111111111,\"#46039f\"],[0.2222222222222222,\"#7201a8\"],[0.3333333333333333,\"#9c179e\"],[0.4444444444444444,\"#bd3786\"],[0.5555555555555556,\"#d8576b\"],[0.6666666666666666,\"#ed7953\"],[0.7777777777777778,\"#fb9f3a\"],[0.8888888888888888,\"#fdca26\"],[1.0,\"#f0f921\"]],\"sequentialminus\":[[0.0,\"#0d0887\"],[0.1111111111111111,\"#46039f\"],[0.2222222222222222,\"#7201a8\"],[0.3333333333333333,\"#9c179e\"],[0.4444444444444444,\"#bd3786\"],[0.5555555555555556,\"#d8576b\"],[0.6666666666666666,\"#ed7953\"],[0.7777777777777778,\"#fb9f3a\"],[0.8888888888888888,\"#fdca26\"],[1.0,\"#f0f921\"]],\"diverging\":[[0,\"#8e0152\"],[0.1,\"#c51b7d\"],[0.2,\"#de77ae\"],[0.3,\"#f1b6da\"],[0.4,\"#fde0ef\"],[0.5,\"#f7f7f7\"],[0.6,\"#e6f5d0\"],[0.7,\"#b8e186\"],[0.8,\"#7fbc41\"],[0.9,\"#4d9221\"],[1,\"#276419\"]]},\"xaxis\":{\"gridcolor\":\"white\",\"linecolor\":\"white\",\"ticks\":\"\",\"title\":{\"standoff\":15},\"zerolinecolor\":\"white\",\"automargin\":true,\"zerolinewidth\":2},\"yaxis\":{\"gridcolor\":\"white\",\"linecolor\":\"white\",\"ticks\":\"\",\"title\":{\"standoff\":15},\"zerolinecolor\":\"white\",\"automargin\":true,\"zerolinewidth\":2},\"scene\":{\"xaxis\":{\"backgroundcolor\":\"#E5ECF6\",\"gridcolor\":\"white\",\"linecolor\":\"white\",\"showbackground\":true,\"ticks\":\"\",\"zerolinecolor\":\"white\",\"gridwidth\":2},\"yaxis\":{\"backgroundcolor\":\"#E5ECF6\",\"gridcolor\":\"white\",\"linecolor\":\"white\",\"showbackground\":true,\"ticks\":\"\",\"zerolinecolor\":\"white\",\"gridwidth\":2},\"zaxis\":{\"backgroundcolor\":\"#E5ECF6\",\"gridcolor\":\"white\",\"linecolor\":\"white\",\"showbackground\":true,\"ticks\":\"\",\"zerolinecolor\":\"white\",\"gridwidth\":2}},\"shapedefaults\":{\"line\":{\"color\":\"#2a3f5f\"}},\"annotationdefaults\":{\"arrowcolor\":\"#2a3f5f\",\"arrowhead\":0,\"arrowwidth\":1},\"geo\":{\"bgcolor\":\"white\",\"landcolor\":\"#E5ECF6\",\"subunitcolor\":\"white\",\"showland\":true,\"showlakes\":true,\"lakecolor\":\"white\"},\"title\":{\"x\":0.05},\"mapbox\":{\"style\":\"light\"}}},\"xaxis\":{\"anchor\":\"y\",\"domain\":[0.0,1.0],\"title\":{\"text\":\"VALOR_REEMBOLSADO\"}},\"yaxis\":{\"anchor\":\"x\",\"domain\":[0.0,1.0],\"title\":{\"text\":\"SENADOR\"}},\"legend\":{\"title\":{\"text\":\"TIPO_DESPESA\"},\"tracegroupgap\":0,\"orientation\":\"h\",\"yanchor\":\"bottom\",\"y\":-0.5,\"xanchor\":\"right\",\"x\":1},\"margin\":{\"t\":60},\"barmode\":\"relative\",\"title\":{\"text\":\"SENADORES QUE MAIS GASTARAM - MAIORES GASTOS\",\"x\":0.5}},                        {\"responsive\": true}                    ).then(function(){\n",
       "                            \n",
       "var gd = document.getElementById('7809d80f-fa27-4fab-b42c-7642c50981aa');\n",
       "var x = new MutationObserver(function (mutations, observer) {{\n",
       "        var display = window.getComputedStyle(gd).display;\n",
       "        if (!display || display === 'none') {{\n",
       "            console.log([gd, 'removed!']);\n",
       "            Plotly.purge(gd);\n",
       "            observer.disconnect();\n",
       "        }}\n",
       "}});\n",
       "\n",
       "// Listen for the removal of the full notebook cells\n",
       "var notebookContainer = gd.closest('#notebook-container');\n",
       "if (notebookContainer) {{\n",
       "    x.observe(notebookContainer, {childList: true});\n",
       "}}\n",
       "\n",
       "// Listen for the clearing of the current output cell\n",
       "var outputEl = gd.closest('.output');\n",
       "if (outputEl) {{\n",
       "    x.observe(outputEl, {childList: true});\n",
       "}}\n",
       "\n",
       "                        })                };                });            </script>        </div>"
      ]
     },
     "metadata": {},
     "output_type": "display_data"
    },
    {
     "data": {
      "application/vnd.plotly.v1+json": {
       "config": {
        "plotlyServerURL": "https://plot.ly"
       },
       "data": [
        {
         "alignmentgroup": "True",
         "hovertemplate": "TIPO_DESPESA=Aluguel de imóveis para escritório político, compreendendo despesas concernentes a eles.<br>VALOR_REEMBOLSADO=%{x}<br>index=%{y}<extra></extra>",
         "legendgroup": "Aluguel de imóveis para escritório político, compreendendo despesas concernentes a eles.",
         "marker": {
          "color": "#636efa",
          "pattern": {
           "shape": ""
          }
         },
         "name": "Aluguel de imóveis para escritório político, compreendendo despesas concernentes a eles.",
         "offsetgroup": "Aluguel de imóveis para escritório político, compreendendo despesas concernentes a eles.",
         "orientation": "h",
         "showlegend": true,
         "textposition": "auto",
         "type": "bar",
         "x": [
          462094.19,
          456524.16
         ],
         "xaxis": "x",
         "y": [
          "WELLINGTON FAGUNDES",
          "CARLOS VIANA"
         ],
         "yaxis": "y"
        },
        {
         "alignmentgroup": "True",
         "hovertemplate": "TIPO_DESPESA=Locomoção, hospedagem, alimentação, combustíveis e lubrificantes<br>VALOR_REEMBOLSADO=%{x}<br>index=%{y}<extra></extra>",
         "legendgroup": "Locomoção, hospedagem, alimentação, combustíveis e lubrificantes",
         "marker": {
          "color": "#EF553B",
          "pattern": {
           "shape": ""
          }
         },
         "name": "Locomoção, hospedagem, alimentação, combustíveis e lubrificantes",
         "offsetgroup": "Locomoção, hospedagem, alimentação, combustíveis e lubrificantes",
         "orientation": "h",
         "showlegend": true,
         "textposition": "auto",
         "type": "bar",
         "x": [
          794427.16,
          718006.58,
          1077470.71
         ],
         "xaxis": "x",
         "y": [
          "HUMBERTO COSTA",
          "JAQUES WAGNER",
          "TELMÁRIO MOTA"
         ],
         "yaxis": "y"
        },
        {
         "alignmentgroup": "True",
         "hovertemplate": "TIPO_DESPESA=Contratação de consultorias, assessorias, pesquisas, trabalhos técnicos e outros serviços de apoio ao exercício do mandato parlamentar<br>VALOR_REEMBOLSADO=%{x}<br>index=%{y}<extra></extra>",
         "legendgroup": "Contratação de consultorias, assessorias, pesquisas, trabalhos técnicos e outros serviços de apoio ao exercício do mandato parlamentar",
         "marker": {
          "color": "#00cc96",
          "pattern": {
           "shape": ""
          }
         },
         "name": "Contratação de consultorias, assessorias, pesquisas, trabalhos técnicos e outros serviços de apoio ao exercício do mandato parlamentar",
         "offsetgroup": "Contratação de consultorias, assessorias, pesquisas, trabalhos técnicos e outros serviços de apoio ao exercício do mandato parlamentar",
         "orientation": "h",
         "showlegend": true,
         "textposition": "auto",
         "type": "bar",
         "x": [
          391140.26
         ],
         "xaxis": "x",
         "y": [
          "PAULO PAIM"
         ],
         "yaxis": "y"
        },
        {
         "alignmentgroup": "True",
         "hovertemplate": "TIPO_DESPESA=Passagens aéreas, aquáticas e terrestres nacionais<br>VALOR_REEMBOLSADO=%{x}<br>index=%{y}<extra></extra>",
         "legendgroup": "Passagens aéreas, aquáticas e terrestres nacionais",
         "marker": {
          "color": "#ab63fa",
          "pattern": {
           "shape": ""
          }
         },
         "name": "Passagens aéreas, aquáticas e terrestres nacionais",
         "offsetgroup": "Passagens aéreas, aquáticas e terrestres nacionais",
         "orientation": "h",
         "showlegend": true,
         "textposition": "auto",
         "type": "bar",
         "x": [
          516940.09,
          655942.72
         ],
         "xaxis": "x",
         "y": [
          "JOSÉ SERRA",
          "FERNANDO BEZERRA COELHO"
         ],
         "yaxis": "y"
        }
       ],
       "layout": {
        "barmode": "relative",
        "legend": {
         "orientation": "h",
         "title": {
          "text": "TIPO_DESPESA"
         },
         "tracegroupgap": 0,
         "x": 1,
         "xanchor": "right",
         "y": -0.5,
         "yanchor": "bottom"
        },
        "margin": {
         "t": 60
        },
        "template": {
         "data": {
          "bar": [
           {
            "error_x": {
             "color": "#2a3f5f"
            },
            "error_y": {
             "color": "#2a3f5f"
            },
            "marker": {
             "line": {
              "color": "#E5ECF6",
              "width": 0.5
             },
             "pattern": {
              "fillmode": "overlay",
              "size": 10,
              "solidity": 0.2
             }
            },
            "type": "bar"
           }
          ],
          "barpolar": [
           {
            "marker": {
             "line": {
              "color": "#E5ECF6",
              "width": 0.5
             },
             "pattern": {
              "fillmode": "overlay",
              "size": 10,
              "solidity": 0.2
             }
            },
            "type": "barpolar"
           }
          ],
          "carpet": [
           {
            "aaxis": {
             "endlinecolor": "#2a3f5f",
             "gridcolor": "white",
             "linecolor": "white",
             "minorgridcolor": "white",
             "startlinecolor": "#2a3f5f"
            },
            "baxis": {
             "endlinecolor": "#2a3f5f",
             "gridcolor": "white",
             "linecolor": "white",
             "minorgridcolor": "white",
             "startlinecolor": "#2a3f5f"
            },
            "type": "carpet"
           }
          ],
          "choropleth": [
           {
            "colorbar": {
             "outlinewidth": 0,
             "ticks": ""
            },
            "type": "choropleth"
           }
          ],
          "contour": [
           {
            "colorbar": {
             "outlinewidth": 0,
             "ticks": ""
            },
            "colorscale": [
             [
              0,
              "#0d0887"
             ],
             [
              0.1111111111111111,
              "#46039f"
             ],
             [
              0.2222222222222222,
              "#7201a8"
             ],
             [
              0.3333333333333333,
              "#9c179e"
             ],
             [
              0.4444444444444444,
              "#bd3786"
             ],
             [
              0.5555555555555556,
              "#d8576b"
             ],
             [
              0.6666666666666666,
              "#ed7953"
             ],
             [
              0.7777777777777778,
              "#fb9f3a"
             ],
             [
              0.8888888888888888,
              "#fdca26"
             ],
             [
              1,
              "#f0f921"
             ]
            ],
            "type": "contour"
           }
          ],
          "contourcarpet": [
           {
            "colorbar": {
             "outlinewidth": 0,
             "ticks": ""
            },
            "type": "contourcarpet"
           }
          ],
          "heatmap": [
           {
            "colorbar": {
             "outlinewidth": 0,
             "ticks": ""
            },
            "colorscale": [
             [
              0,
              "#0d0887"
             ],
             [
              0.1111111111111111,
              "#46039f"
             ],
             [
              0.2222222222222222,
              "#7201a8"
             ],
             [
              0.3333333333333333,
              "#9c179e"
             ],
             [
              0.4444444444444444,
              "#bd3786"
             ],
             [
              0.5555555555555556,
              "#d8576b"
             ],
             [
              0.6666666666666666,
              "#ed7953"
             ],
             [
              0.7777777777777778,
              "#fb9f3a"
             ],
             [
              0.8888888888888888,
              "#fdca26"
             ],
             [
              1,
              "#f0f921"
             ]
            ],
            "type": "heatmap"
           }
          ],
          "heatmapgl": [
           {
            "colorbar": {
             "outlinewidth": 0,
             "ticks": ""
            },
            "colorscale": [
             [
              0,
              "#0d0887"
             ],
             [
              0.1111111111111111,
              "#46039f"
             ],
             [
              0.2222222222222222,
              "#7201a8"
             ],
             [
              0.3333333333333333,
              "#9c179e"
             ],
             [
              0.4444444444444444,
              "#bd3786"
             ],
             [
              0.5555555555555556,
              "#d8576b"
             ],
             [
              0.6666666666666666,
              "#ed7953"
             ],
             [
              0.7777777777777778,
              "#fb9f3a"
             ],
             [
              0.8888888888888888,
              "#fdca26"
             ],
             [
              1,
              "#f0f921"
             ]
            ],
            "type": "heatmapgl"
           }
          ],
          "histogram": [
           {
            "marker": {
             "pattern": {
              "fillmode": "overlay",
              "size": 10,
              "solidity": 0.2
             }
            },
            "type": "histogram"
           }
          ],
          "histogram2d": [
           {
            "colorbar": {
             "outlinewidth": 0,
             "ticks": ""
            },
            "colorscale": [
             [
              0,
              "#0d0887"
             ],
             [
              0.1111111111111111,
              "#46039f"
             ],
             [
              0.2222222222222222,
              "#7201a8"
             ],
             [
              0.3333333333333333,
              "#9c179e"
             ],
             [
              0.4444444444444444,
              "#bd3786"
             ],
             [
              0.5555555555555556,
              "#d8576b"
             ],
             [
              0.6666666666666666,
              "#ed7953"
             ],
             [
              0.7777777777777778,
              "#fb9f3a"
             ],
             [
              0.8888888888888888,
              "#fdca26"
             ],
             [
              1,
              "#f0f921"
             ]
            ],
            "type": "histogram2d"
           }
          ],
          "histogram2dcontour": [
           {
            "colorbar": {
             "outlinewidth": 0,
             "ticks": ""
            },
            "colorscale": [
             [
              0,
              "#0d0887"
             ],
             [
              0.1111111111111111,
              "#46039f"
             ],
             [
              0.2222222222222222,
              "#7201a8"
             ],
             [
              0.3333333333333333,
              "#9c179e"
             ],
             [
              0.4444444444444444,
              "#bd3786"
             ],
             [
              0.5555555555555556,
              "#d8576b"
             ],
             [
              0.6666666666666666,
              "#ed7953"
             ],
             [
              0.7777777777777778,
              "#fb9f3a"
             ],
             [
              0.8888888888888888,
              "#fdca26"
             ],
             [
              1,
              "#f0f921"
             ]
            ],
            "type": "histogram2dcontour"
           }
          ],
          "mesh3d": [
           {
            "colorbar": {
             "outlinewidth": 0,
             "ticks": ""
            },
            "type": "mesh3d"
           }
          ],
          "parcoords": [
           {
            "line": {
             "colorbar": {
              "outlinewidth": 0,
              "ticks": ""
             }
            },
            "type": "parcoords"
           }
          ],
          "pie": [
           {
            "automargin": true,
            "type": "pie"
           }
          ],
          "scatter": [
           {
            "fillpattern": {
             "fillmode": "overlay",
             "size": 10,
             "solidity": 0.2
            },
            "type": "scatter"
           }
          ],
          "scatter3d": [
           {
            "line": {
             "colorbar": {
              "outlinewidth": 0,
              "ticks": ""
             }
            },
            "marker": {
             "colorbar": {
              "outlinewidth": 0,
              "ticks": ""
             }
            },
            "type": "scatter3d"
           }
          ],
          "scattercarpet": [
           {
            "marker": {
             "colorbar": {
              "outlinewidth": 0,
              "ticks": ""
             }
            },
            "type": "scattercarpet"
           }
          ],
          "scattergeo": [
           {
            "marker": {
             "colorbar": {
              "outlinewidth": 0,
              "ticks": ""
             }
            },
            "type": "scattergeo"
           }
          ],
          "scattergl": [
           {
            "marker": {
             "colorbar": {
              "outlinewidth": 0,
              "ticks": ""
             }
            },
            "type": "scattergl"
           }
          ],
          "scattermapbox": [
           {
            "marker": {
             "colorbar": {
              "outlinewidth": 0,
              "ticks": ""
             }
            },
            "type": "scattermapbox"
           }
          ],
          "scatterpolar": [
           {
            "marker": {
             "colorbar": {
              "outlinewidth": 0,
              "ticks": ""
             }
            },
            "type": "scatterpolar"
           }
          ],
          "scatterpolargl": [
           {
            "marker": {
             "colorbar": {
              "outlinewidth": 0,
              "ticks": ""
             }
            },
            "type": "scatterpolargl"
           }
          ],
          "scatterternary": [
           {
            "marker": {
             "colorbar": {
              "outlinewidth": 0,
              "ticks": ""
             }
            },
            "type": "scatterternary"
           }
          ],
          "surface": [
           {
            "colorbar": {
             "outlinewidth": 0,
             "ticks": ""
            },
            "colorscale": [
             [
              0,
              "#0d0887"
             ],
             [
              0.1111111111111111,
              "#46039f"
             ],
             [
              0.2222222222222222,
              "#7201a8"
             ],
             [
              0.3333333333333333,
              "#9c179e"
             ],
             [
              0.4444444444444444,
              "#bd3786"
             ],
             [
              0.5555555555555556,
              "#d8576b"
             ],
             [
              0.6666666666666666,
              "#ed7953"
             ],
             [
              0.7777777777777778,
              "#fb9f3a"
             ],
             [
              0.8888888888888888,
              "#fdca26"
             ],
             [
              1,
              "#f0f921"
             ]
            ],
            "type": "surface"
           }
          ],
          "table": [
           {
            "cells": {
             "fill": {
              "color": "#EBF0F8"
             },
             "line": {
              "color": "white"
             }
            },
            "header": {
             "fill": {
              "color": "#C8D4E3"
             },
             "line": {
              "color": "white"
             }
            },
            "type": "table"
           }
          ]
         },
         "layout": {
          "annotationdefaults": {
           "arrowcolor": "#2a3f5f",
           "arrowhead": 0,
           "arrowwidth": 1
          },
          "autotypenumbers": "strict",
          "coloraxis": {
           "colorbar": {
            "outlinewidth": 0,
            "ticks": ""
           }
          },
          "colorscale": {
           "diverging": [
            [
             0,
             "#8e0152"
            ],
            [
             0.1,
             "#c51b7d"
            ],
            [
             0.2,
             "#de77ae"
            ],
            [
             0.3,
             "#f1b6da"
            ],
            [
             0.4,
             "#fde0ef"
            ],
            [
             0.5,
             "#f7f7f7"
            ],
            [
             0.6,
             "#e6f5d0"
            ],
            [
             0.7,
             "#b8e186"
            ],
            [
             0.8,
             "#7fbc41"
            ],
            [
             0.9,
             "#4d9221"
            ],
            [
             1,
             "#276419"
            ]
           ],
           "sequential": [
            [
             0,
             "#0d0887"
            ],
            [
             0.1111111111111111,
             "#46039f"
            ],
            [
             0.2222222222222222,
             "#7201a8"
            ],
            [
             0.3333333333333333,
             "#9c179e"
            ],
            [
             0.4444444444444444,
             "#bd3786"
            ],
            [
             0.5555555555555556,
             "#d8576b"
            ],
            [
             0.6666666666666666,
             "#ed7953"
            ],
            [
             0.7777777777777778,
             "#fb9f3a"
            ],
            [
             0.8888888888888888,
             "#fdca26"
            ],
            [
             1,
             "#f0f921"
            ]
           ],
           "sequentialminus": [
            [
             0,
             "#0d0887"
            ],
            [
             0.1111111111111111,
             "#46039f"
            ],
            [
             0.2222222222222222,
             "#7201a8"
            ],
            [
             0.3333333333333333,
             "#9c179e"
            ],
            [
             0.4444444444444444,
             "#bd3786"
            ],
            [
             0.5555555555555556,
             "#d8576b"
            ],
            [
             0.6666666666666666,
             "#ed7953"
            ],
            [
             0.7777777777777778,
             "#fb9f3a"
            ],
            [
             0.8888888888888888,
             "#fdca26"
            ],
            [
             1,
             "#f0f921"
            ]
           ]
          },
          "colorway": [
           "#636efa",
           "#EF553B",
           "#00cc96",
           "#ab63fa",
           "#FFA15A",
           "#19d3f3",
           "#FF6692",
           "#B6E880",
           "#FF97FF",
           "#FECB52"
          ],
          "font": {
           "color": "#2a3f5f"
          },
          "geo": {
           "bgcolor": "white",
           "lakecolor": "white",
           "landcolor": "#E5ECF6",
           "showlakes": true,
           "showland": true,
           "subunitcolor": "white"
          },
          "hoverlabel": {
           "align": "left"
          },
          "hovermode": "closest",
          "mapbox": {
           "style": "light"
          },
          "paper_bgcolor": "white",
          "plot_bgcolor": "#E5ECF6",
          "polar": {
           "angularaxis": {
            "gridcolor": "white",
            "linecolor": "white",
            "ticks": ""
           },
           "bgcolor": "#E5ECF6",
           "radialaxis": {
            "gridcolor": "white",
            "linecolor": "white",
            "ticks": ""
           }
          },
          "scene": {
           "xaxis": {
            "backgroundcolor": "#E5ECF6",
            "gridcolor": "white",
            "gridwidth": 2,
            "linecolor": "white",
            "showbackground": true,
            "ticks": "",
            "zerolinecolor": "white"
           },
           "yaxis": {
            "backgroundcolor": "#E5ECF6",
            "gridcolor": "white",
            "gridwidth": 2,
            "linecolor": "white",
            "showbackground": true,
            "ticks": "",
            "zerolinecolor": "white"
           },
           "zaxis": {
            "backgroundcolor": "#E5ECF6",
            "gridcolor": "white",
            "gridwidth": 2,
            "linecolor": "white",
            "showbackground": true,
            "ticks": "",
            "zerolinecolor": "white"
           }
          },
          "shapedefaults": {
           "line": {
            "color": "#2a3f5f"
           }
          },
          "ternary": {
           "aaxis": {
            "gridcolor": "white",
            "linecolor": "white",
            "ticks": ""
           },
           "baxis": {
            "gridcolor": "white",
            "linecolor": "white",
            "ticks": ""
           },
           "bgcolor": "#E5ECF6",
           "caxis": {
            "gridcolor": "white",
            "linecolor": "white",
            "ticks": ""
           }
          },
          "title": {
           "x": 0.05
          },
          "xaxis": {
           "automargin": true,
           "gridcolor": "white",
           "linecolor": "white",
           "ticks": "",
           "title": {
            "standoff": 15
           },
           "zerolinecolor": "white",
           "zerolinewidth": 2
          },
          "yaxis": {
           "automargin": true,
           "gridcolor": "white",
           "linecolor": "white",
           "ticks": "",
           "title": {
            "standoff": 15
           },
           "zerolinecolor": "white",
           "zerolinewidth": 2
          }
         }
        },
        "title": {
         "text": "SENADORES QUE MAIS FIZERAM DECLARAÇÃO DE DESPESAS - MAIORES GASTOS",
         "x": 0.5
        },
        "xaxis": {
         "anchor": "y",
         "domain": [
          0,
          1
         ],
         "title": {
          "text": "VALOR_REEMBOLSADO"
         }
        },
        "yaxis": {
         "anchor": "x",
         "domain": [
          0,
          1
         ],
         "title": {
          "text": "index"
         }
        }
       }
      },
      "text/html": [
       "<div>                            <div id=\"01a4d26e-90bf-48cd-959c-914fd8bf98c7\" class=\"plotly-graph-div\" style=\"height:525px; width:100%;\"></div>            <script type=\"text/javascript\">                require([\"plotly\"], function(Plotly) {                    window.PLOTLYENV=window.PLOTLYENV || {};                                    if (document.getElementById(\"01a4d26e-90bf-48cd-959c-914fd8bf98c7\")) {                    Plotly.newPlot(                        \"01a4d26e-90bf-48cd-959c-914fd8bf98c7\",                        [{\"alignmentgroup\":\"True\",\"hovertemplate\":\"TIPO_DESPESA=Aluguel de im\\u00f3veis para escrit\\u00f3rio pol\\u00edtico, compreendendo despesas concernentes a eles.<br>VALOR_REEMBOLSADO=%{x}<br>index=%{y}<extra></extra>\",\"legendgroup\":\"Aluguel de im\\u00f3veis para escrit\\u00f3rio pol\\u00edtico, compreendendo despesas concernentes a eles.\",\"marker\":{\"color\":\"#636efa\",\"pattern\":{\"shape\":\"\"}},\"name\":\"Aluguel de im\\u00f3veis para escrit\\u00f3rio pol\\u00edtico, compreendendo despesas concernentes a eles.\",\"offsetgroup\":\"Aluguel de im\\u00f3veis para escrit\\u00f3rio pol\\u00edtico, compreendendo despesas concernentes a eles.\",\"orientation\":\"h\",\"showlegend\":true,\"textposition\":\"auto\",\"x\":[462094.19,456524.16],\"xaxis\":\"x\",\"y\":[\"WELLINGTON FAGUNDES\",\"CARLOS VIANA\"],\"yaxis\":\"y\",\"type\":\"bar\"},{\"alignmentgroup\":\"True\",\"hovertemplate\":\"TIPO_DESPESA=Locomo\\u00e7\\u00e3o, hospedagem, alimenta\\u00e7\\u00e3o, combust\\u00edveis e lubrificantes<br>VALOR_REEMBOLSADO=%{x}<br>index=%{y}<extra></extra>\",\"legendgroup\":\"Locomo\\u00e7\\u00e3o, hospedagem, alimenta\\u00e7\\u00e3o, combust\\u00edveis e lubrificantes\",\"marker\":{\"color\":\"#EF553B\",\"pattern\":{\"shape\":\"\"}},\"name\":\"Locomo\\u00e7\\u00e3o, hospedagem, alimenta\\u00e7\\u00e3o, combust\\u00edveis e lubrificantes\",\"offsetgroup\":\"Locomo\\u00e7\\u00e3o, hospedagem, alimenta\\u00e7\\u00e3o, combust\\u00edveis e lubrificantes\",\"orientation\":\"h\",\"showlegend\":true,\"textposition\":\"auto\",\"x\":[794427.16,718006.58,1077470.71],\"xaxis\":\"x\",\"y\":[\"HUMBERTO COSTA\",\"JAQUES WAGNER\",\"TELM\\u00c1RIO MOTA\"],\"yaxis\":\"y\",\"type\":\"bar\"},{\"alignmentgroup\":\"True\",\"hovertemplate\":\"TIPO_DESPESA=Contrata\\u00e7\\u00e3o de consultorias, assessorias, pesquisas, trabalhos t\\u00e9cnicos e outros servi\\u00e7os de apoio ao exerc\\u00edcio do mandato parlamentar<br>VALOR_REEMBOLSADO=%{x}<br>index=%{y}<extra></extra>\",\"legendgroup\":\"Contrata\\u00e7\\u00e3o de consultorias, assessorias, pesquisas, trabalhos t\\u00e9cnicos e outros servi\\u00e7os de apoio ao exerc\\u00edcio do mandato parlamentar\",\"marker\":{\"color\":\"#00cc96\",\"pattern\":{\"shape\":\"\"}},\"name\":\"Contrata\\u00e7\\u00e3o de consultorias, assessorias, pesquisas, trabalhos t\\u00e9cnicos e outros servi\\u00e7os de apoio ao exerc\\u00edcio do mandato parlamentar\",\"offsetgroup\":\"Contrata\\u00e7\\u00e3o de consultorias, assessorias, pesquisas, trabalhos t\\u00e9cnicos e outros servi\\u00e7os de apoio ao exerc\\u00edcio do mandato parlamentar\",\"orientation\":\"h\",\"showlegend\":true,\"textposition\":\"auto\",\"x\":[391140.26],\"xaxis\":\"x\",\"y\":[\"PAULO PAIM\"],\"yaxis\":\"y\",\"type\":\"bar\"},{\"alignmentgroup\":\"True\",\"hovertemplate\":\"TIPO_DESPESA=Passagens a\\u00e9reas, aqu\\u00e1ticas e terrestres nacionais<br>VALOR_REEMBOLSADO=%{x}<br>index=%{y}<extra></extra>\",\"legendgroup\":\"Passagens a\\u00e9reas, aqu\\u00e1ticas e terrestres nacionais\",\"marker\":{\"color\":\"#ab63fa\",\"pattern\":{\"shape\":\"\"}},\"name\":\"Passagens a\\u00e9reas, aqu\\u00e1ticas e terrestres nacionais\",\"offsetgroup\":\"Passagens a\\u00e9reas, aqu\\u00e1ticas e terrestres nacionais\",\"orientation\":\"h\",\"showlegend\":true,\"textposition\":\"auto\",\"x\":[516940.09,655942.72],\"xaxis\":\"x\",\"y\":[\"JOS\\u00c9 SERRA\",\"FERNANDO BEZERRA COELHO\"],\"yaxis\":\"y\",\"type\":\"bar\"}],                        {\"template\":{\"data\":{\"histogram2dcontour\":[{\"type\":\"histogram2dcontour\",\"colorbar\":{\"outlinewidth\":0,\"ticks\":\"\"},\"colorscale\":[[0.0,\"#0d0887\"],[0.1111111111111111,\"#46039f\"],[0.2222222222222222,\"#7201a8\"],[0.3333333333333333,\"#9c179e\"],[0.4444444444444444,\"#bd3786\"],[0.5555555555555556,\"#d8576b\"],[0.6666666666666666,\"#ed7953\"],[0.7777777777777778,\"#fb9f3a\"],[0.8888888888888888,\"#fdca26\"],[1.0,\"#f0f921\"]]}],\"choropleth\":[{\"type\":\"choropleth\",\"colorbar\":{\"outlinewidth\":0,\"ticks\":\"\"}}],\"histogram2d\":[{\"type\":\"histogram2d\",\"colorbar\":{\"outlinewidth\":0,\"ticks\":\"\"},\"colorscale\":[[0.0,\"#0d0887\"],[0.1111111111111111,\"#46039f\"],[0.2222222222222222,\"#7201a8\"],[0.3333333333333333,\"#9c179e\"],[0.4444444444444444,\"#bd3786\"],[0.5555555555555556,\"#d8576b\"],[0.6666666666666666,\"#ed7953\"],[0.7777777777777778,\"#fb9f3a\"],[0.8888888888888888,\"#fdca26\"],[1.0,\"#f0f921\"]]}],\"heatmap\":[{\"type\":\"heatmap\",\"colorbar\":{\"outlinewidth\":0,\"ticks\":\"\"},\"colorscale\":[[0.0,\"#0d0887\"],[0.1111111111111111,\"#46039f\"],[0.2222222222222222,\"#7201a8\"],[0.3333333333333333,\"#9c179e\"],[0.4444444444444444,\"#bd3786\"],[0.5555555555555556,\"#d8576b\"],[0.6666666666666666,\"#ed7953\"],[0.7777777777777778,\"#fb9f3a\"],[0.8888888888888888,\"#fdca26\"],[1.0,\"#f0f921\"]]}],\"heatmapgl\":[{\"type\":\"heatmapgl\",\"colorbar\":{\"outlinewidth\":0,\"ticks\":\"\"},\"colorscale\":[[0.0,\"#0d0887\"],[0.1111111111111111,\"#46039f\"],[0.2222222222222222,\"#7201a8\"],[0.3333333333333333,\"#9c179e\"],[0.4444444444444444,\"#bd3786\"],[0.5555555555555556,\"#d8576b\"],[0.6666666666666666,\"#ed7953\"],[0.7777777777777778,\"#fb9f3a\"],[0.8888888888888888,\"#fdca26\"],[1.0,\"#f0f921\"]]}],\"contourcarpet\":[{\"type\":\"contourcarpet\",\"colorbar\":{\"outlinewidth\":0,\"ticks\":\"\"}}],\"contour\":[{\"type\":\"contour\",\"colorbar\":{\"outlinewidth\":0,\"ticks\":\"\"},\"colorscale\":[[0.0,\"#0d0887\"],[0.1111111111111111,\"#46039f\"],[0.2222222222222222,\"#7201a8\"],[0.3333333333333333,\"#9c179e\"],[0.4444444444444444,\"#bd3786\"],[0.5555555555555556,\"#d8576b\"],[0.6666666666666666,\"#ed7953\"],[0.7777777777777778,\"#fb9f3a\"],[0.8888888888888888,\"#fdca26\"],[1.0,\"#f0f921\"]]}],\"surface\":[{\"type\":\"surface\",\"colorbar\":{\"outlinewidth\":0,\"ticks\":\"\"},\"colorscale\":[[0.0,\"#0d0887\"],[0.1111111111111111,\"#46039f\"],[0.2222222222222222,\"#7201a8\"],[0.3333333333333333,\"#9c179e\"],[0.4444444444444444,\"#bd3786\"],[0.5555555555555556,\"#d8576b\"],[0.6666666666666666,\"#ed7953\"],[0.7777777777777778,\"#fb9f3a\"],[0.8888888888888888,\"#fdca26\"],[1.0,\"#f0f921\"]]}],\"mesh3d\":[{\"type\":\"mesh3d\",\"colorbar\":{\"outlinewidth\":0,\"ticks\":\"\"}}],\"scatter\":[{\"fillpattern\":{\"fillmode\":\"overlay\",\"size\":10,\"solidity\":0.2},\"type\":\"scatter\"}],\"parcoords\":[{\"type\":\"parcoords\",\"line\":{\"colorbar\":{\"outlinewidth\":0,\"ticks\":\"\"}}}],\"scatterpolargl\":[{\"type\":\"scatterpolargl\",\"marker\":{\"colorbar\":{\"outlinewidth\":0,\"ticks\":\"\"}}}],\"bar\":[{\"error_x\":{\"color\":\"#2a3f5f\"},\"error_y\":{\"color\":\"#2a3f5f\"},\"marker\":{\"line\":{\"color\":\"#E5ECF6\",\"width\":0.5},\"pattern\":{\"fillmode\":\"overlay\",\"size\":10,\"solidity\":0.2}},\"type\":\"bar\"}],\"scattergeo\":[{\"type\":\"scattergeo\",\"marker\":{\"colorbar\":{\"outlinewidth\":0,\"ticks\":\"\"}}}],\"scatterpolar\":[{\"type\":\"scatterpolar\",\"marker\":{\"colorbar\":{\"outlinewidth\":0,\"ticks\":\"\"}}}],\"histogram\":[{\"marker\":{\"pattern\":{\"fillmode\":\"overlay\",\"size\":10,\"solidity\":0.2}},\"type\":\"histogram\"}],\"scattergl\":[{\"type\":\"scattergl\",\"marker\":{\"colorbar\":{\"outlinewidth\":0,\"ticks\":\"\"}}}],\"scatter3d\":[{\"type\":\"scatter3d\",\"line\":{\"colorbar\":{\"outlinewidth\":0,\"ticks\":\"\"}},\"marker\":{\"colorbar\":{\"outlinewidth\":0,\"ticks\":\"\"}}}],\"scattermapbox\":[{\"type\":\"scattermapbox\",\"marker\":{\"colorbar\":{\"outlinewidth\":0,\"ticks\":\"\"}}}],\"scatterternary\":[{\"type\":\"scatterternary\",\"marker\":{\"colorbar\":{\"outlinewidth\":0,\"ticks\":\"\"}}}],\"scattercarpet\":[{\"type\":\"scattercarpet\",\"marker\":{\"colorbar\":{\"outlinewidth\":0,\"ticks\":\"\"}}}],\"carpet\":[{\"aaxis\":{\"endlinecolor\":\"#2a3f5f\",\"gridcolor\":\"white\",\"linecolor\":\"white\",\"minorgridcolor\":\"white\",\"startlinecolor\":\"#2a3f5f\"},\"baxis\":{\"endlinecolor\":\"#2a3f5f\",\"gridcolor\":\"white\",\"linecolor\":\"white\",\"minorgridcolor\":\"white\",\"startlinecolor\":\"#2a3f5f\"},\"type\":\"carpet\"}],\"table\":[{\"cells\":{\"fill\":{\"color\":\"#EBF0F8\"},\"line\":{\"color\":\"white\"}},\"header\":{\"fill\":{\"color\":\"#C8D4E3\"},\"line\":{\"color\":\"white\"}},\"type\":\"table\"}],\"barpolar\":[{\"marker\":{\"line\":{\"color\":\"#E5ECF6\",\"width\":0.5},\"pattern\":{\"fillmode\":\"overlay\",\"size\":10,\"solidity\":0.2}},\"type\":\"barpolar\"}],\"pie\":[{\"automargin\":true,\"type\":\"pie\"}]},\"layout\":{\"autotypenumbers\":\"strict\",\"colorway\":[\"#636efa\",\"#EF553B\",\"#00cc96\",\"#ab63fa\",\"#FFA15A\",\"#19d3f3\",\"#FF6692\",\"#B6E880\",\"#FF97FF\",\"#FECB52\"],\"font\":{\"color\":\"#2a3f5f\"},\"hovermode\":\"closest\",\"hoverlabel\":{\"align\":\"left\"},\"paper_bgcolor\":\"white\",\"plot_bgcolor\":\"#E5ECF6\",\"polar\":{\"bgcolor\":\"#E5ECF6\",\"angularaxis\":{\"gridcolor\":\"white\",\"linecolor\":\"white\",\"ticks\":\"\"},\"radialaxis\":{\"gridcolor\":\"white\",\"linecolor\":\"white\",\"ticks\":\"\"}},\"ternary\":{\"bgcolor\":\"#E5ECF6\",\"aaxis\":{\"gridcolor\":\"white\",\"linecolor\":\"white\",\"ticks\":\"\"},\"baxis\":{\"gridcolor\":\"white\",\"linecolor\":\"white\",\"ticks\":\"\"},\"caxis\":{\"gridcolor\":\"white\",\"linecolor\":\"white\",\"ticks\":\"\"}},\"coloraxis\":{\"colorbar\":{\"outlinewidth\":0,\"ticks\":\"\"}},\"colorscale\":{\"sequential\":[[0.0,\"#0d0887\"],[0.1111111111111111,\"#46039f\"],[0.2222222222222222,\"#7201a8\"],[0.3333333333333333,\"#9c179e\"],[0.4444444444444444,\"#bd3786\"],[0.5555555555555556,\"#d8576b\"],[0.6666666666666666,\"#ed7953\"],[0.7777777777777778,\"#fb9f3a\"],[0.8888888888888888,\"#fdca26\"],[1.0,\"#f0f921\"]],\"sequentialminus\":[[0.0,\"#0d0887\"],[0.1111111111111111,\"#46039f\"],[0.2222222222222222,\"#7201a8\"],[0.3333333333333333,\"#9c179e\"],[0.4444444444444444,\"#bd3786\"],[0.5555555555555556,\"#d8576b\"],[0.6666666666666666,\"#ed7953\"],[0.7777777777777778,\"#fb9f3a\"],[0.8888888888888888,\"#fdca26\"],[1.0,\"#f0f921\"]],\"diverging\":[[0,\"#8e0152\"],[0.1,\"#c51b7d\"],[0.2,\"#de77ae\"],[0.3,\"#f1b6da\"],[0.4,\"#fde0ef\"],[0.5,\"#f7f7f7\"],[0.6,\"#e6f5d0\"],[0.7,\"#b8e186\"],[0.8,\"#7fbc41\"],[0.9,\"#4d9221\"],[1,\"#276419\"]]},\"xaxis\":{\"gridcolor\":\"white\",\"linecolor\":\"white\",\"ticks\":\"\",\"title\":{\"standoff\":15},\"zerolinecolor\":\"white\",\"automargin\":true,\"zerolinewidth\":2},\"yaxis\":{\"gridcolor\":\"white\",\"linecolor\":\"white\",\"ticks\":\"\",\"title\":{\"standoff\":15},\"zerolinecolor\":\"white\",\"automargin\":true,\"zerolinewidth\":2},\"scene\":{\"xaxis\":{\"backgroundcolor\":\"#E5ECF6\",\"gridcolor\":\"white\",\"linecolor\":\"white\",\"showbackground\":true,\"ticks\":\"\",\"zerolinecolor\":\"white\",\"gridwidth\":2},\"yaxis\":{\"backgroundcolor\":\"#E5ECF6\",\"gridcolor\":\"white\",\"linecolor\":\"white\",\"showbackground\":true,\"ticks\":\"\",\"zerolinecolor\":\"white\",\"gridwidth\":2},\"zaxis\":{\"backgroundcolor\":\"#E5ECF6\",\"gridcolor\":\"white\",\"linecolor\":\"white\",\"showbackground\":true,\"ticks\":\"\",\"zerolinecolor\":\"white\",\"gridwidth\":2}},\"shapedefaults\":{\"line\":{\"color\":\"#2a3f5f\"}},\"annotationdefaults\":{\"arrowcolor\":\"#2a3f5f\",\"arrowhead\":0,\"arrowwidth\":1},\"geo\":{\"bgcolor\":\"white\",\"landcolor\":\"#E5ECF6\",\"subunitcolor\":\"white\",\"showland\":true,\"showlakes\":true,\"lakecolor\":\"white\"},\"title\":{\"x\":0.05},\"mapbox\":{\"style\":\"light\"}}},\"xaxis\":{\"anchor\":\"y\",\"domain\":[0.0,1.0],\"title\":{\"text\":\"VALOR_REEMBOLSADO\"}},\"yaxis\":{\"anchor\":\"x\",\"domain\":[0.0,1.0],\"title\":{\"text\":\"index\"}},\"legend\":{\"title\":{\"text\":\"TIPO_DESPESA\"},\"tracegroupgap\":0,\"orientation\":\"h\",\"yanchor\":\"bottom\",\"y\":-0.5,\"xanchor\":\"right\",\"x\":1},\"margin\":{\"t\":60},\"barmode\":\"relative\",\"title\":{\"text\":\"SENADORES QUE MAIS FIZERAM DECLARA\\u00c7\\u00c3O DE DESPESAS - MAIORES GASTOS\",\"x\":0.5}},                        {\"responsive\": true}                    ).then(function(){\n",
       "                            \n",
       "var gd = document.getElementById('01a4d26e-90bf-48cd-959c-914fd8bf98c7');\n",
       "var x = new MutationObserver(function (mutations, observer) {{\n",
       "        var display = window.getComputedStyle(gd).display;\n",
       "        if (!display || display === 'none') {{\n",
       "            console.log([gd, 'removed!']);\n",
       "            Plotly.purge(gd);\n",
       "            observer.disconnect();\n",
       "        }}\n",
       "}});\n",
       "\n",
       "// Listen for the removal of the full notebook cells\n",
       "var notebookContainer = gd.closest('#notebook-container');\n",
       "if (notebookContainer) {{\n",
       "    x.observe(notebookContainer, {childList: true});\n",
       "}}\n",
       "\n",
       "// Listen for the clearing of the current output cell\n",
       "var outputEl = gd.closest('.output');\n",
       "if (outputEl) {{\n",
       "    x.observe(outputEl, {childList: true});\n",
       "}}\n",
       "\n",
       "                        })                };                });            </script>        </div>"
      ]
     },
     "metadata": {},
     "output_type": "display_data"
    }
   ],
   "source": [
    "\n",
    "# Criar o gráfico de barras horizontais\n",
    "fig = px.bar(df_1, x='VALOR_REEMBOLSADO', y=df_1.index, color='TIPO_DESPESA', orientation='h')\n",
    "fig_2 = px.bar(df_2, x='VALOR_REEMBOLSADO', y=df_2.index, color='TIPO_DESPESA', orientation='h')\n",
    "\n",
    "# Adicionar título ao gráfico\n",
    "fig.update_layout(title='SENADORES QUE MAIS GASTARAM - MAIORES GASTOS', title_x = 0.5, legend=dict(orientation=\"h\", yanchor=\"bottom\", y=-0.5, xanchor=\"right\", x=1))\n",
    "fig_2.update_layout(title='SENADORES QUE MAIS FIZERAM DECLARAÇÃO DE DESPESAS - MAIORES GASTOS', title_x = 0.5, legend=dict(orientation=\"h\", yanchor=\"bottom\", y=-0.5, xanchor=\"right\", x=1))\n",
    "\n",
    "# Exibir o gráfico\n",
    "fig.show()\n",
    "fig_2.show()\n",
    "\n"
   ]
  },
  {
   "cell_type": "markdown",
   "id": "e2ccdf03",
   "metadata": {},
   "source": [
    "---\n",
    "## <font color=#40634D style=\"font-size: 25px;\">Percebe-se que dentre os senadores que mais utilizaram as verbas, os gastos mais elevados foram com 'Locomoção, hospedagem, alimentação, combustíveis e lubrificantes' para 3 dos 8 senadores no topo da lista</font>\n",
    "\n",
    "## <font color=#40634D style=\"font-size: 25px;\">ja no caso dos senadores que mais declararam gastos, o tipo vai elevado foi 'Passagens aéreas, aquáticas e terrestres nacionais para também 3 dos 8 senadores do topo</font>\n",
    "\n",
    "## <font color=#40634D style=\"font-size: 25px;\">Analisando ainda os outros tipos de gastos podemos notar que a maioria são relacionados a custo de deslocamento e estadia dos Senadores</font>\n",
    "\n",
    "---"
   ]
  },
  {
   "cell_type": "markdown",
   "id": "45072b58",
   "metadata": {},
   "source": [
    "---\n",
    "3.<font color=#40634D style=\"font-size: 25px;\"> Qual o tipo de despesa mais recorrente?</font>\n",
    "---"
   ]
  },
  {
   "cell_type": "code",
   "execution_count": 1124,
   "id": "864dca86",
   "metadata": {},
   "outputs": [],
   "source": [
    "# Tabela com gastos mais recorrentes\n",
    "\n",
    "df_recorrente = df.groupby(\"TIPO_DESPESA\").size().to_frame().reset_index().sort_values(by=0, ascending=True)\n",
    "df_recorrente.columns = ['TIPO_DESPESA', 'QUANTIDADE']"
   ]
  },
  {
   "cell_type": "code",
   "execution_count": 1125,
   "id": "b80d0848",
   "metadata": {},
   "outputs": [],
   "source": [
    "# Rótulos que serão usados nos gráficos \n",
    "\n",
    "rotulo = [f'Tipo_{i}' for i in df_recorrente.index]\n",
    "rotulo_tabela = [f'Tipo_{i}' for i in df_recorrente.sort_values(by='QUANTIDADE', ascending=False).index]\n",
    "dict_rotulo  = {chave: valor for chave, valor in  zip(rotulo_tabela, df_recorrente.sort_values(by='QUANTIDADE', ascending=False)['TIPO_DESPESA'])}\n",
    "dict_rotulo = list(dict_rotulo.items())"
   ]
  },
  {
   "cell_type": "code",
   "execution_count": 1126,
   "id": "eef804b4",
   "metadata": {},
   "outputs": [
    {
     "data": {
      "image/png": "[encoded data removed]",
      "text/plain": [
       "<Figure size 1800x1000 with 2 Axes>"
      ]
     },
     "metadata": {},
     "output_type": "display_data"
    }
   ],
   "source": [
    "# Criar gráfico de barras \n",
    "\n",
    "fig, ax = plt.subplots(2, 1, figsize=(18,10))\n",
    "ax[0].axis('off')  # Remover eixo para mostrar apenas a tabela\n",
    "\n",
    "# Tabela de rótulos\n",
    "\n",
    "\n",
    "tabela = ax[0].table(cellText=dict_rotulo, colLabels=['Tipo', 'Despesa'], loc='center', cellLoc='left')\n",
    "tabela.auto_set_font_size(False)\n",
    "tabela.set_fontsize(12)\n",
    "tabela.scale(1.2, 1.4)\n",
    "tabela.auto_set_column_width([0, 1])  # Ajustar largura das colunas\n",
    "\n",
    "# Cores das barras\n",
    "cores = ['#03012d', '#4d463f', '#686781', '#9a99ab','#cdccd5','#9a99ab']\n",
    "\n",
    "bars = plt.barh(rotulo, df_recorrente['QUANTIDADE'], color=cores)\n",
    "plt.xlabel('Quantidade')\n",
    "plt.ylabel('Tipo de Despesa')\n",
    "plt.title('Quantidade de Despesas por Tipo', fontsize=15)\n",
    "plt.yticks(fontsize=15)\n",
    "plt.xticks(fontsize=15)\n",
    "\n",
    "\n",
    "plt.tight_layout()\n",
    "plt.show()\n"
   ]
  },
  {
   "cell_type": "markdown",
   "id": "ac2ab3df",
   "metadata": {},
   "source": [
    "---\n",
    "## <font color=#40634D style=\"font-size: 25px;\">Legal notar que os tipos de gastos mais frequentes espelham bastante o da analise anterior. Tendo locomoção, hospedagem, passagens áreas como mais presente no banco de dados</font>\n",
    "\n",
    "---"
   ]
  },
  {
   "cell_type": "markdown",
   "id": "d5615370",
   "metadata": {},
   "source": [
    "4.<font color=#40634D style=\"font-size: 25px;\"> Em ano de eleições os senadores gastam mais? </font>\n",
    "---"
   ]
  },
  {
   "cell_type": "markdown",
   "id": "beb0c669",
   "metadata": {},
   "source": [
    "df_ano_letivo[df_ano_letivo['SENADOR'].str.contains('IZALCI')]"
   ]
  },
  {
   "cell_type": "code",
   "execution_count": 1127,
   "id": "abbb8688",
   "metadata": {},
   "outputs": [],
   "source": [
    "lista_senadores_eleitos_2018 = ['SÉRGIO PETECÃO',\n",
    " 'EDUARDO BRAGA',\n",
    " 'JADER BARBALHO',\n",
    " 'CIRO NOGUEIRA',\n",
    " 'RANDOLFE RODRIGUES',\n",
    " 'RENAN CALHEIROS',\n",
    " 'PAULO PAIM',\n",
    " 'HUMBERTO COSTA']\n"
   ]
  },
  {
   "cell_type": "code",
   "execution_count": 1128,
   "id": "41349d5c",
   "metadata": {},
   "outputs": [
    {
     "data": {
      "text/html": [
       "<div>\n",
       "<style scoped>\n",
       "    .dataframe tbody tr th:only-of-type {\n",
       "        vertical-align: middle;\n",
       "    }\n",
       "\n",
       "    .dataframe tbody tr th {\n",
       "        vertical-align: top;\n",
       "    }\n",
       "\n",
       "    .dataframe thead th {\n",
       "        text-align: right;\n",
       "    }\n",
       "</style>\n",
       "<table border=\"1\" class=\"dataframe\">\n",
       "  <thead>\n",
       "    <tr style=\"text-align: right;\">\n",
       "      <th></th>\n",
       "      <th>SENADOR</th>\n",
       "      <th>VALOR_REEMBOLSADO</th>\n",
       "    </tr>\n",
       "  </thead>\n",
       "  <tbody>\n",
       "    <tr>\n",
       "      <th>0</th>\n",
       "      <td>EDUARDO BRAGA</td>\n",
       "      <td>529599.18</td>\n",
       "    </tr>\n",
       "    <tr>\n",
       "      <th>1</th>\n",
       "      <td>CIRO NOGUEIRA</td>\n",
       "      <td>455942.09</td>\n",
       "    </tr>\n",
       "    <tr>\n",
       "      <th>2</th>\n",
       "      <td>HUMBERTO COSTA</td>\n",
       "      <td>427887.25</td>\n",
       "    </tr>\n",
       "    <tr>\n",
       "      <th>3</th>\n",
       "      <td>PAULO PAIM</td>\n",
       "      <td>415787.11</td>\n",
       "    </tr>\n",
       "    <tr>\n",
       "      <th>4</th>\n",
       "      <td>RANDOLFE RODRIGUES</td>\n",
       "      <td>373214.08</td>\n",
       "    </tr>\n",
       "    <tr>\n",
       "      <th>5</th>\n",
       "      <td>SÉRGIO PETECÃO</td>\n",
       "      <td>366293.49</td>\n",
       "    </tr>\n",
       "    <tr>\n",
       "      <th>6</th>\n",
       "      <td>RENAN CALHEIROS</td>\n",
       "      <td>169975.04</td>\n",
       "    </tr>\n",
       "    <tr>\n",
       "      <th>7</th>\n",
       "      <td>JADER BARBALHO</td>\n",
       "      <td>44323.47</td>\n",
       "    </tr>\n",
       "  </tbody>\n",
       "</table>\n",
       "</div>"
      ],
      "text/plain": [
       "              SENADOR  VALOR_REEMBOLSADO\n",
       "0       EDUARDO BRAGA          529599.18\n",
       "1       CIRO NOGUEIRA          455942.09\n",
       "2      HUMBERTO COSTA          427887.25\n",
       "3          PAULO PAIM          415787.11\n",
       "4  RANDOLFE RODRIGUES          373214.08\n",
       "5      SÉRGIO PETECÃO          366293.49\n",
       "6     RENAN CALHEIROS          169975.04\n",
       "7      JADER BARBALHO           44323.47"
      ]
     },
     "execution_count": 1128,
     "metadata": {},
     "output_type": "execute_result"
    }
   ],
   "source": [
    "# Média dos gastos dos senadores nos anos eletivos (2018)\n",
    "\n",
    "df_ano_eletivo = df.query(\"ANO == 2018\").groupby(\"SENADOR\")['VALOR_REEMBOLSADO'].sum().to_frame().reset_index().sort_values(by='VALOR_REEMBOLSADO', ascending=False)\n",
    "\n",
    "# Filtrar os senadores eleitos em 2018\n",
    "senadores_eleitos_2018 = df_ano_eletivo[df_ano_eletivo['SENADOR'].apply(lambda x: any(nome in x for nome in lista_senadores_eleitos_2018))]\n",
    "\n",
    "# Tratando o dataframe dos senadores eleitos\n",
    "\n",
    "senadores_eleitos_2018 = senadores_eleitos_2018.reset_index().drop('index', axis=1)\n",
    "senadores_eleitos_2018"
   ]
  },
  {
   "cell_type": "code",
   "execution_count": 1129,
   "id": "5957da40",
   "metadata": {
    "scrolled": true
   },
   "outputs": [
    {
     "data": {
      "text/html": [
       "<div>\n",
       "<style scoped>\n",
       "    .dataframe tbody tr th:only-of-type {\n",
       "        vertical-align: middle;\n",
       "    }\n",
       "\n",
       "    .dataframe tbody tr th {\n",
       "        vertical-align: top;\n",
       "    }\n",
       "\n",
       "    .dataframe thead th {\n",
       "        text-align: right;\n",
       "    }\n",
       "</style>\n",
       "<table border=\"1\" class=\"dataframe\">\n",
       "  <thead>\n",
       "    <tr style=\"text-align: right;\">\n",
       "      <th></th>\n",
       "      <th>SENADOR</th>\n",
       "      <th>VALOR_REEMBOLSADO</th>\n",
       "    </tr>\n",
       "  </thead>\n",
       "  <tbody>\n",
       "    <tr>\n",
       "      <th>0</th>\n",
       "      <td>EDUARDO BRAGA</td>\n",
       "      <td>420881.4200</td>\n",
       "    </tr>\n",
       "    <tr>\n",
       "      <th>1</th>\n",
       "      <td>SÉRGIO PETECÃO</td>\n",
       "      <td>393662.0600</td>\n",
       "    </tr>\n",
       "    <tr>\n",
       "      <th>2</th>\n",
       "      <td>HUMBERTO COSTA</td>\n",
       "      <td>375582.4475</td>\n",
       "    </tr>\n",
       "    <tr>\n",
       "      <th>3</th>\n",
       "      <td>RANDOLFE RODRIGUES</td>\n",
       "      <td>356725.0375</td>\n",
       "    </tr>\n",
       "    <tr>\n",
       "      <th>4</th>\n",
       "      <td>JADER BARBALHO</td>\n",
       "      <td>314536.7425</td>\n",
       "    </tr>\n",
       "    <tr>\n",
       "      <th>5</th>\n",
       "      <td>CIRO NOGUEIRA</td>\n",
       "      <td>285258.0800</td>\n",
       "    </tr>\n",
       "    <tr>\n",
       "      <th>6</th>\n",
       "      <td>PAULO PAIM</td>\n",
       "      <td>269629.9625</td>\n",
       "    </tr>\n",
       "    <tr>\n",
       "      <th>7</th>\n",
       "      <td>RENAN CALHEIROS</td>\n",
       "      <td>261403.8550</td>\n",
       "    </tr>\n",
       "  </tbody>\n",
       "</table>\n",
       "</div>"
      ],
      "text/plain": [
       "              SENADOR  VALOR_REEMBOLSADO\n",
       "0       EDUARDO BRAGA        420881.4200\n",
       "1      SÉRGIO PETECÃO        393662.0600\n",
       "2      HUMBERTO COSTA        375582.4475\n",
       "3  RANDOLFE RODRIGUES        356725.0375\n",
       "4      JADER BARBALHO        314536.7425\n",
       "5       CIRO NOGUEIRA        285258.0800\n",
       "6          PAULO PAIM        269629.9625\n",
       "7     RENAN CALHEIROS        261403.8550"
      ]
     },
     "execution_count": 1129,
     "metadata": {},
     "output_type": "execute_result"
    }
   ],
   "source": [
    "# O quanto esses senadores gastaram nos anos seguintes em média\n",
    "\n",
    "gastos_senadores_eleitos_2018_anos_seguintes = df[df['SENADOR'].isin(senadores_eleitos_2018['SENADOR'])]\n",
    "gastos_senadores_eleitos_2018_anos_seguintes = gastos_senadores_eleitos_2018_anos_seguintes.query(\"ANO > 2018\").groupby(\"SENADOR\")['VALOR_REEMBOLSADO'].sum().to_frame().reset_index().sort_values(by='VALOR_REEMBOLSADO', ascending=False)\n",
    "gastos_senadores_eleitos_2018_anos_seguintes = gastos_senadores_eleitos_2018_anos_seguintes.reset_index().drop('index', axis=1)\n",
    "gastos_senadores_eleitos_2018_anos_seguintes['VALOR_REEMBOLSADO'] = gastos_senadores_eleitos_2018_anos_seguintes['VALOR_REEMBOLSADO']/4\n",
    "gastos_senadores_eleitos_2018_anos_seguintes"
   ]
  },
  {
   "cell_type": "code",
   "execution_count": 1130,
   "id": "19c72ce3",
   "metadata": {},
   "outputs": [
    {
     "data": {
      "text/html": [
       "<div>\n",
       "<style scoped>\n",
       "    .dataframe tbody tr th:only-of-type {\n",
       "        vertical-align: middle;\n",
       "    }\n",
       "\n",
       "    .dataframe tbody tr th {\n",
       "        vertical-align: top;\n",
       "    }\n",
       "\n",
       "    .dataframe thead th {\n",
       "        text-align: right;\n",
       "    }\n",
       "</style>\n",
       "<table border=\"1\" class=\"dataframe\">\n",
       "  <thead>\n",
       "    <tr style=\"text-align: right;\">\n",
       "      <th></th>\n",
       "      <th>SENADOR</th>\n",
       "      <th>VALOR_REEMBOLSADO_2018</th>\n",
       "      <th>VALOR_REEMBOLSADO_SEGUINTES</th>\n",
       "    </tr>\n",
       "  </thead>\n",
       "  <tbody>\n",
       "    <tr>\n",
       "      <th>0</th>\n",
       "      <td>EDUARDO BRAGA</td>\n",
       "      <td>529599.18</td>\n",
       "      <td>420881.4200</td>\n",
       "    </tr>\n",
       "    <tr>\n",
       "      <th>1</th>\n",
       "      <td>SÉRGIO PETECÃO</td>\n",
       "      <td>366293.49</td>\n",
       "      <td>393662.0600</td>\n",
       "    </tr>\n",
       "    <tr>\n",
       "      <th>2</th>\n",
       "      <td>HUMBERTO COSTA</td>\n",
       "      <td>427887.25</td>\n",
       "      <td>375582.4475</td>\n",
       "    </tr>\n",
       "    <tr>\n",
       "      <th>3</th>\n",
       "      <td>RANDOLFE RODRIGUES</td>\n",
       "      <td>373214.08</td>\n",
       "      <td>356725.0375</td>\n",
       "    </tr>\n",
       "    <tr>\n",
       "      <th>4</th>\n",
       "      <td>JADER BARBALHO</td>\n",
       "      <td>44323.47</td>\n",
       "      <td>314536.7425</td>\n",
       "    </tr>\n",
       "    <tr>\n",
       "      <th>5</th>\n",
       "      <td>CIRO NOGUEIRA</td>\n",
       "      <td>455942.09</td>\n",
       "      <td>285258.0800</td>\n",
       "    </tr>\n",
       "    <tr>\n",
       "      <th>6</th>\n",
       "      <td>PAULO PAIM</td>\n",
       "      <td>415787.11</td>\n",
       "      <td>269629.9625</td>\n",
       "    </tr>\n",
       "    <tr>\n",
       "      <th>7</th>\n",
       "      <td>RENAN CALHEIROS</td>\n",
       "      <td>169975.04</td>\n",
       "      <td>261403.8550</td>\n",
       "    </tr>\n",
       "  </tbody>\n",
       "</table>\n",
       "</div>"
      ],
      "text/plain": [
       "              SENADOR  VALOR_REEMBOLSADO_2018  VALOR_REEMBOLSADO_SEGUINTES\n",
       "0       EDUARDO BRAGA               529599.18                  420881.4200\n",
       "1      SÉRGIO PETECÃO               366293.49                  393662.0600\n",
       "2      HUMBERTO COSTA               427887.25                  375582.4475\n",
       "3  RANDOLFE RODRIGUES               373214.08                  356725.0375\n",
       "4      JADER BARBALHO                44323.47                  314536.7425\n",
       "5       CIRO NOGUEIRA               455942.09                  285258.0800\n",
       "6          PAULO PAIM               415787.11                  269629.9625\n",
       "7     RENAN CALHEIROS               169975.04                  261403.8550"
      ]
     },
     "execution_count": 1130,
     "metadata": {},
     "output_type": "execute_result"
    }
   ],
   "source": [
    "# unificando \n",
    "\n",
    "senadores_gastos = senadores_eleitos_2018.merge(gastos_senadores_eleitos_2018_anos_seguintes, on=\"SENADOR\", how=\"right\" )\n",
    "senadores_gastos.columns = ['SENADOR', 'VALOR_REEMBOLSADO_2018', 'VALOR_REEMBOLSADO_SEGUINTES']\n",
    "\n",
    "senadores_gastos"
   ]
  },
  {
   "cell_type": "markdown",
   "id": "fc78e754",
   "metadata": {},
   "source": [
    "---\n",
    "## <font color=#40634D style=\"font-size: 25px;\">Gráfico gastos senadores eleição x Anos seguintes</font>\n",
    "\n",
    "---"
   ]
  },
  {
   "cell_type": "code",
   "execution_count": 1131,
   "id": "6e6adffe",
   "metadata": {},
   "outputs": [
    {
     "data": {
      "image/png": "[encoded data removed]",
      "text/plain": [
       "<Figure size 1000x600 with 1 Axes>"
      ]
     },
     "metadata": {},
     "output_type": "display_data"
    }
   ],
   "source": [
    "# Transformar os dados no formato \"longo\"\n",
    "df_long = pd.melt(senadores_gastos, id_vars='SENADOR', var_name='Senadores', value_name='Valor Gasto')\n",
    "df_long\n",
    "\n",
    "# Plotagem do gráfico de barras\n",
    "plt.figure(figsize=(10, 6))\n",
    "ax = sns.barplot(data=df_long, x='SENADOR', y='Valor Gasto', hue='Senadores', palette='seismic')\n",
    "plt.xticks(rotation=45, ha='right')\n",
    "\n",
    "plt.legend(loc='upper center')\n",
    "# Adicionar os valores nas barras\n",
    "for p in ax.patches:\n",
    "    ax.annotate(format(p.get_height(), '.0f'), \n",
    "                (p.get_x() + p.get_width() / 2., p.get_height()), \n",
    "                ha='center', va='center', xytext=(0, 6), textcoords='offset points')"
   ]
  },
  {
   "cell_type": "markdown",
   "id": "37b557a6",
   "metadata": {},
   "source": [
    "<hr style=\"border: 2px solid #40634D;\">\n",
    "\n",
    "## <font color=#40634D style=\"font-size: 25px;\">Os senadores presentes nesse gráfico estavam presentes no Senado Federal durante as eleições de 2018, e venceram (podendo nós assim comparar seus gastos com os anos seguintes)</font>\n",
    "\n",
    "## <font color=#40634D style=\"font-size: 25px;\">Podemos observar que alguns senadores gastara m muito mais no ano de eleição do que nos demais (Eduardo Braga, Ciro Nogueira, Paulo Paim, etc)</font>\n",
    "\n",
    "## <font color=#40634D style=\"font-size: 25px;\">o Caso do senador Jader Barbalho é muito descrepante, pois seus gastos foram majoritariamente aopos as eleições de 2018</font>\n",
    "<hr style=\"border: 2px solid #40634D;\">"
   ]
  },
  {
   "cell_type": "markdown",
   "id": "9ed6eb5a",
   "metadata": {},
   "source": [
    "4.<font color=#40634D style=\"font-size: 25px;\">Em qual mês os senadores gastam mais?</font>\n",
    "---"
   ]
  },
  {
   "cell_type": "code",
   "execution_count": 1132,
   "id": "5b0b7055",
   "metadata": {},
   "outputs": [
    {
     "data": {
      "text/html": [
       "<div>\n",
       "<style scoped>\n",
       "    .dataframe tbody tr th:only-of-type {\n",
       "        vertical-align: middle;\n",
       "    }\n",
       "\n",
       "    .dataframe tbody tr th {\n",
       "        vertical-align: top;\n",
       "    }\n",
       "\n",
       "    .dataframe thead th {\n",
       "        text-align: right;\n",
       "    }\n",
       "</style>\n",
       "<table border=\"1\" class=\"dataframe\">\n",
       "  <thead>\n",
       "    <tr style=\"text-align: right;\">\n",
       "      <th></th>\n",
       "      <th>MES</th>\n",
       "      <th>VALOR_REEMBOLSADO</th>\n",
       "    </tr>\n",
       "  </thead>\n",
       "  <tbody>\n",
       "    <tr>\n",
       "      <th>0</th>\n",
       "      <td>1</td>\n",
       "      <td>1328.930806</td>\n",
       "    </tr>\n",
       "    <tr>\n",
       "      <th>1</th>\n",
       "      <td>2</td>\n",
       "      <td>1233.779760</td>\n",
       "    </tr>\n",
       "    <tr>\n",
       "      <th>2</th>\n",
       "      <td>3</td>\n",
       "      <td>1228.244889</td>\n",
       "    </tr>\n",
       "    <tr>\n",
       "      <th>3</th>\n",
       "      <td>4</td>\n",
       "      <td>1234.961349</td>\n",
       "    </tr>\n",
       "    <tr>\n",
       "      <th>4</th>\n",
       "      <td>5</td>\n",
       "      <td>1203.241042</td>\n",
       "    </tr>\n",
       "    <tr>\n",
       "      <th>5</th>\n",
       "      <td>6</td>\n",
       "      <td>1229.757625</td>\n",
       "    </tr>\n",
       "    <tr>\n",
       "      <th>6</th>\n",
       "      <td>7</td>\n",
       "      <td>1202.366059</td>\n",
       "    </tr>\n",
       "    <tr>\n",
       "      <th>7</th>\n",
       "      <td>8</td>\n",
       "      <td>1237.733558</td>\n",
       "    </tr>\n",
       "    <tr>\n",
       "      <th>8</th>\n",
       "      <td>9</td>\n",
       "      <td>1265.559967</td>\n",
       "    </tr>\n",
       "    <tr>\n",
       "      <th>9</th>\n",
       "      <td>10</td>\n",
       "      <td>1338.006309</td>\n",
       "    </tr>\n",
       "    <tr>\n",
       "      <th>10</th>\n",
       "      <td>11</td>\n",
       "      <td>1491.773377</td>\n",
       "    </tr>\n",
       "    <tr>\n",
       "      <th>11</th>\n",
       "      <td>12</td>\n",
       "      <td>1910.412707</td>\n",
       "    </tr>\n",
       "  </tbody>\n",
       "</table>\n",
       "</div>"
      ],
      "text/plain": [
       "    MES  VALOR_REEMBOLSADO\n",
       "0     1        1328.930806\n",
       "1     2        1233.779760\n",
       "2     3        1228.244889\n",
       "3     4        1234.961349\n",
       "4     5        1203.241042\n",
       "5     6        1229.757625\n",
       "6     7        1202.366059\n",
       "7     8        1237.733558\n",
       "8     9        1265.559967\n",
       "9    10        1338.006309\n",
       "10   11        1491.773377\n",
       "11   12        1910.412707"
      ]
     },
     "execution_count": 1132,
     "metadata": {},
     "output_type": "execute_result"
    }
   ],
   "source": [
    "#tabela com os gastos em média por més\n",
    "\n",
    "df_mes = df.groupby('MES')['VALOR_REEMBOLSADO'].mean().to_frame().reset_index()\n",
    "df_mes['VALOR_REEMBOLSADO'] = df_mes['VALOR_REEMBOLSADO']\n",
    "df_mes"
   ]
  },
  {
   "cell_type": "code",
   "execution_count": 1133,
   "id": "73a2f853",
   "metadata": {},
   "outputs": [
    {
     "data": {
      "image/png": "[encoded data removed]",
      "text/plain": [
       "<Figure size 640x480 with 1 Axes>"
      ]
     },
     "metadata": {},
     "output_type": "display_data"
    }
   ],
   "source": [
    "# gráfico de linhas referente ao gasto por mês\n",
    "\n",
    "# Plotagem da linha\n",
    "sns.lineplot(\n",
    "    data=df_mes,\n",
    "    x=\"MES\", y=\"VALOR_REEMBOLSADO\",\n",
    "    linewidth=2,  # Aumenta a espessura da linha\n",
    "    marker='o',   # Adiciona marcadores redondos\n",
    "    color='red'\n",
    ")\n",
    "\n",
    "\n",
    "sns.despine(left=True, right=True, top=True, bottom=True)\n",
    "\n"
   ]
  },
  {
   "cell_type": "markdown",
   "id": "f2340637",
   "metadata": {},
   "source": [
    "<hr style=\"border: 2px solid #40634D;\">\n",
    "\n",
    "## <font color=#40634D style=\"font-size: 25px;\">O crescimento exponencial da média de gastos nos últimos meses do ano precisa ser averiguado. Quais os motivos? Há mais viagens de visita a Estados?  </font>\n",
    "\n",
    "<hr style=\"border: 2px solid #40634D;\">"
   ]
  },
  {
   "cell_type": "markdown",
   "id": "5f0058f4",
   "metadata": {},
   "source": [
    "# <font color=\"#FFA17A\" style=\"font-size: 30px;\">3. Forecasting</font>\n",
    "<hr style=\"border: 2px solid #FFA17A;\">"
   ]
  },
  {
   "cell_type": "markdown",
   "id": "ae3f79aa",
   "metadata": {},
   "source": [
    "<hr style=\"border: 2px solid #40634D;\">\n",
    "\n",
    "## <font color=#40634D style=\"font-size: 25px;\">Modelo de Séries Temporais - ARIMA</font>\n",
    "\n",
    "<hr style=\"border: 2px solid #40634D;\">"
   ]
  },
  {
   "cell_type": "code",
   "execution_count": 1146,
   "id": "4ddddd1f",
   "metadata": {},
   "outputs": [
    {
     "name": "stderr",
     "output_type": "stream",
     "text": [
      "C:\\Users\\Migue\\AppData\\Local\\Temp\\ipykernel_7792\\30541246.py:10: FutureWarning:\n",
      "\n",
      "The default value of numeric_only in DataFrameGroupBy.sum is deprecated. In a future version, numeric_only will default to False. Either specify numeric_only or select only columns which should be valid for the function.\n",
      "\n"
     ]
    },
    {
     "data": {
      "image/png": "[encoded data removed]",
      "text/plain": [
       "<Figure size 640x480 with 1 Axes>"
      ]
     },
     "metadata": {},
     "output_type": "display_data"
    }
   ],
   "source": [
    "# Agrupamento dos dados\n",
    "\n",
    "df_agrupado = pd.read_csv(os.path.join(\"Datasets\", \"dataset_ceaps_forecasting.csv\"))\n",
    "\n",
    "# Renomear Colunas\n",
    "df_agrupado.columns = ['DATA', 'VALOR_GASTO']\n",
    "\n",
    "df_agrupado['DATA'] = pd.to_datetime(df_agrupado['DATA'], format='%Y/%m/%d')\n",
    "\n",
    "df_agrupado = df_agrupado.groupby([df_agrupado['DATA'].dt.year, df_agrupado['DATA'].dt.month]).sum()\n",
    "\n",
    "# Definir o índice\n",
    "df_agrupado.index = range(len(df_agrupado))\n",
    "\n",
    "# Treinar o modelo ARIMA\n",
    "model = ARIMA(df_agrupado['VALOR_GASTO'], order=(5, 1, 0))\n",
    "model_fit = model.fit()\n",
    "\n",
    "# Prever os próximos três meses\n",
    "forecast = model_fit.forecast(steps=3)\n",
    "\n",
    "# Plotar os resultados\n",
    "plt.plot(df_agrupado.index, df_agrupado['VALOR_GASTO'], label='Real')\n",
    "plt.plot(forecast.index, forecast, label='Previsão', color='red')\n",
    "plt.xlabel('Data')\n",
    "plt.ylabel('Valor Reembolsado')\n",
    "plt.title('Previsão de Gastos dos Próximos Três Meses')\n",
    "plt.legend()\n",
    "plt.show()"
   ]
  },
  {
   "cell_type": "markdown",
   "id": "a831d547",
   "metadata": {},
   "source": [
    "<hr style=\"border: 2px solid #40634D;\">\n",
    "\n",
    "## <font color=#40634D style=\"font-size: 25px;\">De acordo com o modelo que utilizamos a tendência paras os meses futuros é um declínio nos gastos, seguindo uma tendência de descida após alcançar um pico de crescimento</font>\n",
    "\n",
    "<hr style=\"border: 2px solid #40634D;\">"
   ]
  },
  {
   "cell_type": "code",
   "execution_count": 1183,
   "id": "a05f1c44",
   "metadata": {},
   "outputs": [
    {
     "name": "stdout",
     "output_type": "stream",
     "text": [
      "RMSE: 133351.0\n",
      "MAPE: 4.0\n"
     ]
    }
   ],
   "source": [
    "forecast.index = df_agrupado['VALOR_GASTO'].tail(3).index\n",
    "\n",
    "# Calcular os resíduos (erros) entre os valores reais e as previsões\n",
    "residuos = df_agrupado['VALOR_GASTO'].tail(3) - forecast\n",
    "\n",
    "# Calcular o RMSE considerando apenas os últimos 3 meses\n",
    "rmse = np.sqrt(mean_squared_error(df_agrupado['VALOR_GASTO'].tail(3), forecast))\n",
    "\n",
    "# Calcular o MAPE\n",
    "mape = (np.abs(residuos) / df_agrupado['VALOR_GASTO'].tail(3)).mean() * 100\n",
    "\n",
    "#display((np.abs(residuos) / df_agrupado['VALOR_GASTO'].tail(3)).mean() * 100)\n",
    "print(\"RMSE:\", round(rmse,0))\n",
    "print(\"MAPE:\", round(mape,0))\n"
   ]
  },
  {
   "cell_type": "code",
   "execution_count": null,
   "id": "e15132c4",
   "metadata": {},
   "outputs": [],
   "source": []
  },
  {
   "cell_type": "code",
   "execution_count": null,
   "id": "fa69f0ad",
   "metadata": {},
   "outputs": [],
   "source": []
  },
  {
   "cell_type": "code",
   "execution_count": null,
   "id": "e652dd11",
   "metadata": {},
   "outputs": [],
   "source": []
  },
  {
   "cell_type": "code",
   "execution_count": null,
   "id": "f3b7f402",
   "metadata": {},
   "outputs": [],
   "source": []
  }
 ],
 "metadata": {
  "kernelspec": {
   "display_name": "Python 3 (ipykernel)",
   "language": "python",
   "name": "python3"
  },
  "language_info": {
   "codemirror_mode": {
    "name": "ipython",
    "version": 3
   },
   "file_extension": ".py",
   "mimetype": "text/x-python",
   "name": "python",
   "nbconvert_exporter": "python",
   "pygments_lexer": "ipython3",
   "version": "3.11.3"
  }
 },
 "nbformat": 4,
 "nbformat_minor": 5
}
